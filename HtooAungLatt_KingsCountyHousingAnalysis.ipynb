{
 "cells": [
  {
   "cell_type": "markdown",
   "metadata": {},
   "source": [
    "## Final Project Submission\n",
    "\n",
    "Please fill out:\n",
    "* Student name: Htoo Aung Latt\n",
    "* Student pace: self paced\n",
    "* Scheduled project review date/time: \n",
    "* Instructor name: \n",
    "* Blog post URL:\n"
   ]
  },
  {
   "cell_type": "markdown",
   "metadata": {},
   "source": [
    "First I will import various libraries and tool I need to scrub and analyze the data."
   ]
  },
  {
   "cell_type": "code",
   "execution_count": 1,
   "metadata": {},
   "outputs": [],
   "source": [
    "import pandas as pd\n",
    "import numpy as np\n",
    "import statsmodels.api as sm\n",
    "import statsmodels.formula.api as smf\n",
    "import scipy.stats as stats\n",
    "import statsmodels.stats.api as sms\n",
    "import seaborn as sns\n",
    "import matplotlib.pyplot as plt\n",
    "%matplotlib inline\n",
    "\n",
    "# Removing warning messages\n",
    "import warnings\n",
    "warnings.filterwarnings('ignore')"
   ]
  },
  {
   "cell_type": "markdown",
   "metadata": {},
   "source": [
    "First I will import the data that I will be working with and get familar with it."
   ]
  },
  {
   "cell_type": "code",
   "execution_count": 2,
   "metadata": {},
   "outputs": [
    {
     "data": {
      "text/html": [
       "<div>\n",
       "<style scoped>\n",
       "    .dataframe tbody tr th:only-of-type {\n",
       "        vertical-align: middle;\n",
       "    }\n",
       "\n",
       "    .dataframe tbody tr th {\n",
       "        vertical-align: top;\n",
       "    }\n",
       "\n",
       "    .dataframe thead th {\n",
       "        text-align: right;\n",
       "    }\n",
       "</style>\n",
       "<table border=\"1\" class=\"dataframe\">\n",
       "  <thead>\n",
       "    <tr style=\"text-align: right;\">\n",
       "      <th></th>\n",
       "      <th>id</th>\n",
       "      <th>date</th>\n",
       "      <th>price</th>\n",
       "      <th>bedrooms</th>\n",
       "      <th>bathrooms</th>\n",
       "      <th>sqft_living</th>\n",
       "      <th>sqft_lot</th>\n",
       "      <th>floors</th>\n",
       "      <th>waterfront</th>\n",
       "      <th>view</th>\n",
       "      <th>...</th>\n",
       "      <th>grade</th>\n",
       "      <th>sqft_above</th>\n",
       "      <th>sqft_basement</th>\n",
       "      <th>yr_built</th>\n",
       "      <th>yr_renovated</th>\n",
       "      <th>zipcode</th>\n",
       "      <th>lat</th>\n",
       "      <th>long</th>\n",
       "      <th>sqft_living15</th>\n",
       "      <th>sqft_lot15</th>\n",
       "    </tr>\n",
       "  </thead>\n",
       "  <tbody>\n",
       "    <tr>\n",
       "      <th>0</th>\n",
       "      <td>7129300520</td>\n",
       "      <td>10/13/2014</td>\n",
       "      <td>221900.0</td>\n",
       "      <td>3</td>\n",
       "      <td>1.00</td>\n",
       "      <td>1180</td>\n",
       "      <td>5650</td>\n",
       "      <td>1.0</td>\n",
       "      <td>NaN</td>\n",
       "      <td>0.0</td>\n",
       "      <td>...</td>\n",
       "      <td>7</td>\n",
       "      <td>1180</td>\n",
       "      <td>0.0</td>\n",
       "      <td>1955</td>\n",
       "      <td>0.0</td>\n",
       "      <td>98178</td>\n",
       "      <td>47.5112</td>\n",
       "      <td>-122.257</td>\n",
       "      <td>1340</td>\n",
       "      <td>5650</td>\n",
       "    </tr>\n",
       "    <tr>\n",
       "      <th>1</th>\n",
       "      <td>6414100192</td>\n",
       "      <td>12/9/2014</td>\n",
       "      <td>538000.0</td>\n",
       "      <td>3</td>\n",
       "      <td>2.25</td>\n",
       "      <td>2570</td>\n",
       "      <td>7242</td>\n",
       "      <td>2.0</td>\n",
       "      <td>0.0</td>\n",
       "      <td>0.0</td>\n",
       "      <td>...</td>\n",
       "      <td>7</td>\n",
       "      <td>2170</td>\n",
       "      <td>400.0</td>\n",
       "      <td>1951</td>\n",
       "      <td>1991.0</td>\n",
       "      <td>98125</td>\n",
       "      <td>47.7210</td>\n",
       "      <td>-122.319</td>\n",
       "      <td>1690</td>\n",
       "      <td>7639</td>\n",
       "    </tr>\n",
       "    <tr>\n",
       "      <th>2</th>\n",
       "      <td>5631500400</td>\n",
       "      <td>2/25/2015</td>\n",
       "      <td>180000.0</td>\n",
       "      <td>2</td>\n",
       "      <td>1.00</td>\n",
       "      <td>770</td>\n",
       "      <td>10000</td>\n",
       "      <td>1.0</td>\n",
       "      <td>0.0</td>\n",
       "      <td>0.0</td>\n",
       "      <td>...</td>\n",
       "      <td>6</td>\n",
       "      <td>770</td>\n",
       "      <td>0.0</td>\n",
       "      <td>1933</td>\n",
       "      <td>NaN</td>\n",
       "      <td>98028</td>\n",
       "      <td>47.7379</td>\n",
       "      <td>-122.233</td>\n",
       "      <td>2720</td>\n",
       "      <td>8062</td>\n",
       "    </tr>\n",
       "    <tr>\n",
       "      <th>3</th>\n",
       "      <td>2487200875</td>\n",
       "      <td>12/9/2014</td>\n",
       "      <td>604000.0</td>\n",
       "      <td>4</td>\n",
       "      <td>3.00</td>\n",
       "      <td>1960</td>\n",
       "      <td>5000</td>\n",
       "      <td>1.0</td>\n",
       "      <td>0.0</td>\n",
       "      <td>0.0</td>\n",
       "      <td>...</td>\n",
       "      <td>7</td>\n",
       "      <td>1050</td>\n",
       "      <td>910.0</td>\n",
       "      <td>1965</td>\n",
       "      <td>0.0</td>\n",
       "      <td>98136</td>\n",
       "      <td>47.5208</td>\n",
       "      <td>-122.393</td>\n",
       "      <td>1360</td>\n",
       "      <td>5000</td>\n",
       "    </tr>\n",
       "    <tr>\n",
       "      <th>4</th>\n",
       "      <td>1954400510</td>\n",
       "      <td>2/18/2015</td>\n",
       "      <td>510000.0</td>\n",
       "      <td>3</td>\n",
       "      <td>2.00</td>\n",
       "      <td>1680</td>\n",
       "      <td>8080</td>\n",
       "      <td>1.0</td>\n",
       "      <td>0.0</td>\n",
       "      <td>0.0</td>\n",
       "      <td>...</td>\n",
       "      <td>8</td>\n",
       "      <td>1680</td>\n",
       "      <td>0.0</td>\n",
       "      <td>1987</td>\n",
       "      <td>0.0</td>\n",
       "      <td>98074</td>\n",
       "      <td>47.6168</td>\n",
       "      <td>-122.045</td>\n",
       "      <td>1800</td>\n",
       "      <td>7503</td>\n",
       "    </tr>\n",
       "  </tbody>\n",
       "</table>\n",
       "<p>5 rows × 21 columns</p>\n",
       "</div>"
      ],
      "text/plain": [
       "           id        date     price  bedrooms  bathrooms  sqft_living  \\\n",
       "0  7129300520  10/13/2014  221900.0         3       1.00         1180   \n",
       "1  6414100192   12/9/2014  538000.0         3       2.25         2570   \n",
       "2  5631500400   2/25/2015  180000.0         2       1.00          770   \n",
       "3  2487200875   12/9/2014  604000.0         4       3.00         1960   \n",
       "4  1954400510   2/18/2015  510000.0         3       2.00         1680   \n",
       "\n",
       "   sqft_lot  floors  waterfront  view  ...  grade  sqft_above  sqft_basement  \\\n",
       "0      5650     1.0         NaN   0.0  ...      7        1180            0.0   \n",
       "1      7242     2.0         0.0   0.0  ...      7        2170          400.0   \n",
       "2     10000     1.0         0.0   0.0  ...      6         770            0.0   \n",
       "3      5000     1.0         0.0   0.0  ...      7        1050          910.0   \n",
       "4      8080     1.0         0.0   0.0  ...      8        1680            0.0   \n",
       "\n",
       "  yr_built  yr_renovated  zipcode      lat     long  sqft_living15  sqft_lot15  \n",
       "0     1955           0.0    98178  47.5112 -122.257           1340        5650  \n",
       "1     1951        1991.0    98125  47.7210 -122.319           1690        7639  \n",
       "2     1933           NaN    98028  47.7379 -122.233           2720        8062  \n",
       "3     1965           0.0    98136  47.5208 -122.393           1360        5000  \n",
       "4     1987           0.0    98074  47.6168 -122.045           1800        7503  \n",
       "\n",
       "[5 rows x 21 columns]"
      ]
     },
     "execution_count": 2,
     "metadata": {},
     "output_type": "execute_result"
    }
   ],
   "source": [
    "df = pd.read_csv(\"kc_house_data.csv\")\n",
    "df.head()"
   ]
  },
  {
   "cell_type": "markdown",
   "metadata": {},
   "source": [
    "I will copy the description for the columns from the column_names MD document included in the repository.\n",
    "\n",
    "# Column Names and descriptions for Kings County Data Set\n",
    "* **id** - unique identified for a house\n",
    "* **date** - Date house was sold\n",
    "* **price** -  Price is prediction target\n",
    "* **bedrooms** -  Number of Bedrooms/House\n",
    "* **bathrooms** -  Number of bathrooms/bedrooms\n",
    "* **sqft_living** -  Square footage of the home\n",
    "* **sqft_lot** - Square footage of the lot\n",
    "* **floors** - Total floors (levels) in house\n",
    "* **waterfront** - House which has a view to a waterfront\n",
    "* **view** - Has been viewed\n",
    "* **condition** - How good the condition is ( Overall )\n",
    "* **grade** - overall grade given to the housing unit, based on King County grading system\n",
    "* **sqft_above** - square footage of house apart from basement\n",
    "* **sqft_basement** - square footage of the basement\n",
    "* **yr_built** - Built Year\n",
    "* **yr_renovated** - Year when house was renovated\n",
    "* **zipcode** - zip\n",
    "* **lat** - Latitude coordinate\n",
    "* **long** - Longitude coordinate\n",
    "* **sqft_living15** - The square footage of interior housing living space for the nearest 15 neighbors\n",
    "* **sqft_lot15** - The square footage of the land lots of the nearest 15 neighbors"
   ]
  },
  {
   "cell_type": "markdown",
   "metadata": {},
   "source": [
    "# Dealing with NA values"
   ]
  },
  {
   "cell_type": "markdown",
   "metadata": {},
   "source": [
    "I will further investigate for missing data by looking at the info."
   ]
  },
  {
   "cell_type": "code",
   "execution_count": 3,
   "metadata": {
    "scrolled": true
   },
   "outputs": [
    {
     "name": "stdout",
     "output_type": "stream",
     "text": [
      "<class 'pandas.core.frame.DataFrame'>\n",
      "RangeIndex: 21597 entries, 0 to 21596\n",
      "Data columns (total 21 columns):\n",
      " #   Column         Non-Null Count  Dtype  \n",
      "---  ------         --------------  -----  \n",
      " 0   id             21597 non-null  int64  \n",
      " 1   date           21597 non-null  object \n",
      " 2   price          21597 non-null  float64\n",
      " 3   bedrooms       21597 non-null  int64  \n",
      " 4   bathrooms      21597 non-null  float64\n",
      " 5   sqft_living    21597 non-null  int64  \n",
      " 6   sqft_lot       21597 non-null  int64  \n",
      " 7   floors         21597 non-null  float64\n",
      " 8   waterfront     19221 non-null  float64\n",
      " 9   view           21534 non-null  float64\n",
      " 10  condition      21597 non-null  int64  \n",
      " 11  grade          21597 non-null  int64  \n",
      " 12  sqft_above     21597 non-null  int64  \n",
      " 13  sqft_basement  21597 non-null  object \n",
      " 14  yr_built       21597 non-null  int64  \n",
      " 15  yr_renovated   17755 non-null  float64\n",
      " 16  zipcode        21597 non-null  int64  \n",
      " 17  lat            21597 non-null  float64\n",
      " 18  long           21597 non-null  float64\n",
      " 19  sqft_living15  21597 non-null  int64  \n",
      " 20  sqft_lot15     21597 non-null  int64  \n",
      "dtypes: float64(8), int64(11), object(2)\n",
      "memory usage: 3.5+ MB\n",
      "None\n",
      "id                  0\n",
      "date                0\n",
      "price               0\n",
      "bedrooms            0\n",
      "bathrooms           0\n",
      "sqft_living         0\n",
      "sqft_lot            0\n",
      "floors              0\n",
      "waterfront       2376\n",
      "view               63\n",
      "condition           0\n",
      "grade               0\n",
      "sqft_above          0\n",
      "sqft_basement       0\n",
      "yr_built            0\n",
      "yr_renovated     3842\n",
      "zipcode             0\n",
      "lat                 0\n",
      "long                0\n",
      "sqft_living15       0\n",
      "sqft_lot15          0\n",
      "dtype: int64\n"
     ]
    }
   ],
   "source": [
    "print(df.info())\n",
    "print(df.isna().sum())"
   ]
  },
  {
   "cell_type": "markdown",
   "metadata": {},
   "source": [
    "The waterfront, view and yr_renovated columns seems to have missing values.\n",
    "I will take a closer look at each of these columns."
   ]
  },
  {
   "cell_type": "code",
   "execution_count": 4,
   "metadata": {},
   "outputs": [
    {
     "data": {
      "text/html": [
       "<div>\n",
       "<style scoped>\n",
       "    .dataframe tbody tr th:only-of-type {\n",
       "        vertical-align: middle;\n",
       "    }\n",
       "\n",
       "    .dataframe tbody tr th {\n",
       "        vertical-align: top;\n",
       "    }\n",
       "\n",
       "    .dataframe thead th {\n",
       "        text-align: right;\n",
       "    }\n",
       "</style>\n",
       "<table border=\"1\" class=\"dataframe\">\n",
       "  <thead>\n",
       "    <tr style=\"text-align: right;\">\n",
       "      <th></th>\n",
       "      <th>waterfront</th>\n",
       "      <th>view</th>\n",
       "      <th>yr_renovated</th>\n",
       "    </tr>\n",
       "  </thead>\n",
       "  <tbody>\n",
       "    <tr>\n",
       "      <th>count</th>\n",
       "      <td>19221.000000</td>\n",
       "      <td>21534.000000</td>\n",
       "      <td>17755.000000</td>\n",
       "    </tr>\n",
       "    <tr>\n",
       "      <th>mean</th>\n",
       "      <td>0.007596</td>\n",
       "      <td>0.233863</td>\n",
       "      <td>83.636778</td>\n",
       "    </tr>\n",
       "    <tr>\n",
       "      <th>std</th>\n",
       "      <td>0.086825</td>\n",
       "      <td>0.765686</td>\n",
       "      <td>399.946414</td>\n",
       "    </tr>\n",
       "    <tr>\n",
       "      <th>min</th>\n",
       "      <td>0.000000</td>\n",
       "      <td>0.000000</td>\n",
       "      <td>0.000000</td>\n",
       "    </tr>\n",
       "    <tr>\n",
       "      <th>25%</th>\n",
       "      <td>0.000000</td>\n",
       "      <td>0.000000</td>\n",
       "      <td>0.000000</td>\n",
       "    </tr>\n",
       "    <tr>\n",
       "      <th>50%</th>\n",
       "      <td>0.000000</td>\n",
       "      <td>0.000000</td>\n",
       "      <td>0.000000</td>\n",
       "    </tr>\n",
       "    <tr>\n",
       "      <th>75%</th>\n",
       "      <td>0.000000</td>\n",
       "      <td>0.000000</td>\n",
       "      <td>0.000000</td>\n",
       "    </tr>\n",
       "    <tr>\n",
       "      <th>max</th>\n",
       "      <td>1.000000</td>\n",
       "      <td>4.000000</td>\n",
       "      <td>2015.000000</td>\n",
       "    </tr>\n",
       "  </tbody>\n",
       "</table>\n",
       "</div>"
      ],
      "text/plain": [
       "         waterfront          view  yr_renovated\n",
       "count  19221.000000  21534.000000  17755.000000\n",
       "mean       0.007596      0.233863     83.636778\n",
       "std        0.086825      0.765686    399.946414\n",
       "min        0.000000      0.000000      0.000000\n",
       "25%        0.000000      0.000000      0.000000\n",
       "50%        0.000000      0.000000      0.000000\n",
       "75%        0.000000      0.000000      0.000000\n",
       "max        1.000000      4.000000   2015.000000"
      ]
     },
     "execution_count": 4,
     "metadata": {},
     "output_type": "execute_result"
    }
   ],
   "source": [
    "df[['waterfront', 'view', 'yr_renovated']].describe()"
   ]
  },
  {
   "cell_type": "code",
   "execution_count": 5,
   "metadata": {},
   "outputs": [
    {
     "name": "stdout",
     "output_type": "stream",
     "text": [
      "0.0    19075\n",
      "1.0      146\n",
      "Name: waterfront, dtype: int64\n",
      "0.0    19422\n",
      "2.0      957\n",
      "3.0      508\n",
      "1.0      330\n",
      "4.0      317\n",
      "Name: view, dtype: int64\n"
     ]
    },
    {
     "data": {
      "image/png": "[encoded data removed]",
      "text/plain": [
       "<Figure size 720x288 with 2 Axes>"
      ]
     },
     "metadata": {
      "needs_background": "light"
     },
     "output_type": "display_data"
    }
   ],
   "source": [
    "df.hist(column=['waterfront', 'view'], figsize=(10,4))\n",
    "for col in ['waterfront', 'view']:\n",
    "    print(df[col].value_counts())"
   ]
  },
  {
   "cell_type": "markdown",
   "metadata": {},
   "source": [
    "The mode for all three columns is 0 by a large margin. Water front seems to be a binary value, while the other two are categorical. I will first check the percentage of waterfront property before deciding what to do with the na values."
   ]
  },
  {
   "cell_type": "code",
   "execution_count": 6,
   "metadata": {},
   "outputs": [
    {
     "name": "stdout",
     "output_type": "stream",
     "text": [
      "0.6760198175672547\n"
     ]
    }
   ],
   "source": [
    "#Checking the percentage of waterfront property.\n",
    "df_waterfront = df[df['waterfront']==1]\n",
    "print(len(df_waterfront)/len(df['waterfront'])*100)"
   ]
  },
  {
   "cell_type": "markdown",
   "metadata": {},
   "source": [
    "Only around .7 percentage of the property is on the waterfront. So I will assume that it is safe to replace the missing data with 0. I will also do the same for view since there are only 63 missing values and the mode of 0 make a large portion of the data."
   ]
  },
  {
   "cell_type": "code",
   "execution_count": 7,
   "metadata": {},
   "outputs": [],
   "source": [
    "df['waterfront'] = df['waterfront'].fillna(0.0)\n",
    "df['view'] = df['view'].fillna(0.0)"
   ]
  },
  {
   "cell_type": "code",
   "execution_count": 8,
   "metadata": {},
   "outputs": [
    {
     "name": "stdout",
     "output_type": "stream",
     "text": [
      "0.0       17011\n",
      "2014.0       73\n",
      "2003.0       31\n",
      "2013.0       31\n",
      "2007.0       30\n",
      "          ...  \n",
      "1946.0        1\n",
      "1959.0        1\n",
      "1971.0        1\n",
      "1951.0        1\n",
      "1954.0        1\n",
      "Name: yr_renovated, Length: 70, dtype: int64\n"
     ]
    },
    {
     "data": {
      "image/png": "[encoded data removed]",
      "text/plain": [
       "<Figure size 432x288 with 1 Axes>"
      ]
     },
     "metadata": {
      "needs_background": "light"
     },
     "output_type": "display_data"
    }
   ],
   "source": [
    "df.hist(column='yr_renovated')\n",
    "print(df['yr_renovated'].value_counts())"
   ]
  },
  {
   "cell_type": "markdown",
   "metadata": {},
   "source": [
    "As for the yr_renovated columns, it seems that 0 is a filler value for when the property haven't been renovated at all. I will assume it is safe to fill the na values withe the mode of 0. Since the mode has by far the highest the value count, it  make sense to turn the column in to a binary for renovated and unrenovated property."
   ]
  },
  {
   "cell_type": "code",
   "execution_count": 9,
   "metadata": {
    "scrolled": true
   },
   "outputs": [
    {
     "name": "stdout",
     "output_type": "stream",
     "text": [
      "0.0       0.958096\n",
      "2014.0    0.004112\n",
      "2003.0    0.001746\n",
      "2013.0    0.001746\n",
      "2007.0    0.001690\n",
      "            ...   \n",
      "1946.0    0.000056\n",
      "1959.0    0.000056\n",
      "1971.0    0.000056\n",
      "1951.0    0.000056\n",
      "1954.0    0.000056\n",
      "Name: yr_renovated, Length: 70, dtype: float64\n"
     ]
    }
   ],
   "source": [
    "print(df['yr_renovated'].value_counts(normalize=True))\n"
   ]
  },
  {
   "cell_type": "code",
   "execution_count": 10,
   "metadata": {},
   "outputs": [
    {
     "data": {
      "text/plain": [
       "array([[<matplotlib.axes._subplots.AxesSubplot object at 0x000001F722BB9C10>]],\n",
       "      dtype=object)"
      ]
     },
     "execution_count": 10,
     "metadata": {},
     "output_type": "execute_result"
    },
    {
     "data": {
      "image/png": "[encoded data removed]",
      "text/plain": [
       "<Figure size 432x288 with 1 Axes>"
      ]
     },
     "metadata": {
      "needs_background": "light"
     },
     "output_type": "display_data"
    }
   ],
   "source": [
    "# Fill the na values and change all non zeroes into one\n",
    "df['yr_renovated'] = df['yr_renovated'].fillna(0.0)\n",
    "df['yr_renovated'][df['yr_renovated']!= 0] = 1\n",
    "# I will also rename the column\n",
    "df = df.rename(columns = {\"yr_renovated\":\"renovated\"})\n",
    "df.hist(column='renovated')"
   ]
  },
  {
   "cell_type": "code",
   "execution_count": 11,
   "metadata": {
    "scrolled": true
   },
   "outputs": [
    {
     "name": "stdout",
     "output_type": "stream",
     "text": [
      "id               0\n",
      "date             0\n",
      "price            0\n",
      "bedrooms         0\n",
      "bathrooms        0\n",
      "sqft_living      0\n",
      "sqft_lot         0\n",
      "floors           0\n",
      "waterfront       0\n",
      "view             0\n",
      "condition        0\n",
      "grade            0\n",
      "sqft_above       0\n",
      "sqft_basement    0\n",
      "yr_built         0\n",
      "renovated        0\n",
      "zipcode          0\n",
      "lat              0\n",
      "long             0\n",
      "sqft_living15    0\n",
      "sqft_lot15       0\n",
      "dtype: int64\n"
     ]
    }
   ],
   "source": [
    "print(df.isna().sum())"
   ]
  },
  {
   "cell_type": "markdown",
   "metadata": {},
   "source": [
    "The missing data is dealt with but I still have to deal with the outliers. I will also have to see which columns would make sense to turn into binary columns then split the data between the contionous and categorical datas."
   ]
  },
  {
   "cell_type": "markdown",
   "metadata": {},
   "source": [
    "# Dealing with Duplicates, Placeholders and Fillers"
   ]
  },
  {
   "cell_type": "code",
   "execution_count": 12,
   "metadata": {
    "scrolled": true
   },
   "outputs": [
    {
     "name": "stdout",
     "output_type": "stream",
     "text": [
      "21597\n",
      "177\n",
      "21420\n"
     ]
    }
   ],
   "source": [
    "# Using the unique identifier column I drop the duplicates, keeping the first.\n",
    "print(len(df))\n",
    "print(len(df[df.duplicated(subset='id')]))\n",
    "df.drop_duplicates(subset='id', inplace=True)\n",
    "print(len(df))\n"
   ]
  },
  {
   "cell_type": "markdown",
   "metadata": {},
   "source": [
    "I will print out the top five values in each columns to check for placeholders"
   ]
  },
  {
   "cell_type": "code",
   "execution_count": 13,
   "metadata": {},
   "outputs": [
    {
     "name": "stdout",
     "output_type": "stream",
     "text": [
      "id \n",
      " 2911700010    0.000047\n",
      "5450300010    0.000047\n",
      "5104511600    0.000047\n",
      "1160000115    0.000047\n",
      "686530110     0.000047\n",
      "Name: id, dtype: float64 \n",
      "\n",
      "\n",
      "date \n",
      " 6/23/2014    0.006629\n",
      "6/25/2014    0.006116\n",
      "6/26/2014    0.006116\n",
      "7/8/2014     0.005929\n",
      "4/27/2015    0.005882\n",
      "Name: date, dtype: float64 \n",
      "\n",
      "\n",
      "price \n",
      " 350000.0    0.008030\n",
      "450000.0    0.007983\n",
      "550000.0    0.007283\n",
      "500000.0    0.007049\n",
      "425000.0    0.007003\n",
      "Name: price, dtype: float64 \n",
      "\n",
      "\n",
      "bedrooms \n",
      " 3    0.454295\n",
      "4    0.319748\n",
      "2    0.127731\n",
      "5    0.074043\n",
      "6    0.012372\n",
      "Name: bedrooms, dtype: float64 \n",
      "\n",
      "\n",
      "bathrooms \n",
      " 2.50    0.249860\n",
      "1.00    0.177124\n",
      "1.75    0.140990\n",
      "2.25    0.094818\n",
      "2.00    0.089309\n",
      "Name: bathrooms, dtype: float64 \n",
      "\n",
      "\n",
      "sqft_living \n",
      " 1300    0.006349\n",
      "1440    0.006209\n",
      "1400    0.006162\n",
      "1660    0.005976\n",
      "1800    0.005976\n",
      "Name: sqft_living, dtype: float64 \n",
      "\n",
      "\n",
      "sqft_lot \n",
      " 5000    0.016573\n",
      "6000    0.013352\n",
      "4000    0.011625\n",
      "7200    0.010177\n",
      "7500    0.005509\n",
      "Name: sqft_lot, dtype: float64 \n",
      "\n",
      "\n",
      "floors \n",
      " 1.0    0.492624\n",
      "2.0    0.382960\n",
      "1.5    0.088142\n",
      "3.0    0.028431\n",
      "2.5    0.007516\n",
      "Name: floors, dtype: float64 \n",
      "\n",
      "\n",
      "waterfront \n",
      " 0.0    0.993184\n",
      "1.0    0.006816\n",
      "Name: waterfront, dtype: float64 \n",
      "\n",
      "\n",
      "view \n",
      " 0.0    0.901774\n",
      "2.0    0.044631\n",
      "3.0    0.023576\n",
      "1.0    0.015359\n",
      "4.0    0.014659\n",
      "Name: view, dtype: float64 \n",
      "\n",
      "\n",
      "condition \n",
      " 3    0.648926\n",
      "4    0.263445\n",
      "5    0.078758\n",
      "2    0.007563\n",
      "1    0.001307\n",
      "Name: condition, dtype: float64 \n",
      "\n",
      "\n",
      "grade \n",
      " 7     0.414986\n",
      "8     0.282026\n",
      "9     0.121662\n",
      "6     0.093137\n",
      "10    0.052754\n",
      "Name: grade, dtype: float64 \n",
      "\n",
      "\n",
      "sqft_above \n",
      " 1300    0.009804\n",
      "1010    0.009524\n",
      "1200    0.009477\n",
      "1220    0.008683\n",
      "1140    0.008543\n",
      "Name: sqft_above, dtype: float64 \n",
      "\n",
      "\n",
      "sqft_basement \n",
      " 0.0      0.593697\n",
      "?        0.021102\n",
      "600.0    0.010084\n",
      "500.0    0.009617\n",
      "700.0    0.009570\n",
      "Name: sqft_basement, dtype: float64 \n",
      "\n",
      "\n",
      "yr_built \n",
      " 2014    0.026097\n",
      "2006    0.021148\n",
      "2005    0.021008\n",
      "2004    0.020028\n",
      "2003    0.019608\n",
      "Name: yr_built, dtype: float64 \n",
      "\n",
      "\n",
      "renovated \n",
      " 0.0    0.965453\n",
      "1.0    0.034547\n",
      "Name: renovated, dtype: float64 \n",
      "\n",
      "\n",
      "zipcode \n",
      " 98103    0.028011\n",
      "98038    0.027358\n",
      "98115    0.026891\n",
      "98052    0.026657\n",
      "98117    0.025584\n",
      "Name: zipcode, dtype: float64 \n",
      "\n",
      "\n",
      "lat \n",
      " 47.6624    0.000794\n",
      "47.5322    0.000794\n",
      "47.5491    0.000794\n",
      "47.6846    0.000794\n",
      "47.6711    0.000747\n",
      "Name: lat, dtype: float64 \n",
      "\n",
      "\n",
      "long \n",
      " -122.290    0.005275\n",
      "-122.300    0.005135\n",
      "-122.362    0.004762\n",
      "-122.291    0.004669\n",
      "-122.363    0.004622\n",
      "Name: long, dtype: float64 \n",
      "\n",
      "\n",
      "sqft_living15 \n",
      " 1540    0.009010\n",
      "1560    0.008870\n",
      "1440    0.008870\n",
      "1500    0.008310\n",
      "1460    0.007843\n",
      "Name: sqft_living15, dtype: float64 \n",
      "\n",
      "\n",
      "sqft_lot15 \n",
      " 5000    0.019841\n",
      "4000    0.016527\n",
      "6000    0.013305\n",
      "7200    0.009757\n",
      "4800    0.006723\n",
      "Name: sqft_lot15, dtype: float64 \n",
      "\n",
      "\n"
     ]
    }
   ],
   "source": [
    "for col in df.columns:\n",
    "    print(col, '\\n', df[col].value_counts(normalize=True).head(), '\\n\\n' )"
   ]
  },
  {
   "cell_type": "markdown",
   "metadata": {},
   "source": [
    "I can see that the sqft_basement  have a value of ? as a placeholder and sixty percent of the columns is equal to zero. It would be a good idea to change the column into a binary value."
   ]
  },
  {
   "cell_type": "code",
   "execution_count": 14,
   "metadata": {
    "scrolled": true
   },
   "outputs": [
    {
     "data": {
      "text/plain": [
       "<matplotlib.axes._subplots.AxesSubplot at 0x1f722c031c0>"
      ]
     },
     "execution_count": 14,
     "metadata": {},
     "output_type": "execute_result"
    },
    {
     "data": {
      "image/png": "[encoded data removed]",
      "text/plain": [
       "<Figure size 432x288 with 1 Axes>"
      ]
     },
     "metadata": {
      "needs_background": "light"
     },
     "output_type": "display_data"
    }
   ],
   "source": [
    "#Change the ? values into 0\n",
    "df['sqft_basement'][df['sqft_basement']=='?'] = 0\n",
    "# Change the object type into float\n",
    "df['sqft_basement'] = df['sqft_basement'].astype(float)\n",
    "#Change all non zeroes to 1\n",
    "df['sqft_basement'][df['sqft_basement']!= 0] = 1\n",
    "# Rename column\n",
    "df = df.rename(columns = {\"sqft_basement\":\"basement\"})\n",
    "\n",
    "\n",
    "\n",
    "df['basement'].hist()"
   ]
  },
  {
   "cell_type": "markdown",
   "metadata": {},
   "source": [
    "It seems that specific dates are given for the date sold column. I will group this column into years to make the data simpler."
   ]
  },
  {
   "cell_type": "code",
   "execution_count": 15,
   "metadata": {
    "scrolled": true
   },
   "outputs": [
    {
     "data": {
      "text/html": [
       "<div>\n",
       "<style scoped>\n",
       "    .dataframe tbody tr th:only-of-type {\n",
       "        vertical-align: middle;\n",
       "    }\n",
       "\n",
       "    .dataframe tbody tr th {\n",
       "        vertical-align: top;\n",
       "    }\n",
       "\n",
       "    .dataframe thead th {\n",
       "        text-align: right;\n",
       "    }\n",
       "</style>\n",
       "<table border=\"1\" class=\"dataframe\">\n",
       "  <thead>\n",
       "    <tr style=\"text-align: right;\">\n",
       "      <th></th>\n",
       "      <th>id</th>\n",
       "      <th>price</th>\n",
       "      <th>bedrooms</th>\n",
       "      <th>bathrooms</th>\n",
       "      <th>sqft_living</th>\n",
       "      <th>sqft_lot</th>\n",
       "      <th>floors</th>\n",
       "      <th>waterfront</th>\n",
       "      <th>view</th>\n",
       "      <th>condition</th>\n",
       "      <th>...</th>\n",
       "      <th>sqft_above</th>\n",
       "      <th>basement</th>\n",
       "      <th>yr_built</th>\n",
       "      <th>renovated</th>\n",
       "      <th>zipcode</th>\n",
       "      <th>lat</th>\n",
       "      <th>long</th>\n",
       "      <th>sqft_living15</th>\n",
       "      <th>sqft_lot15</th>\n",
       "      <th>year_sold</th>\n",
       "    </tr>\n",
       "  </thead>\n",
       "  <tbody>\n",
       "    <tr>\n",
       "      <th>0</th>\n",
       "      <td>7129300520</td>\n",
       "      <td>221900.0</td>\n",
       "      <td>3</td>\n",
       "      <td>1.00</td>\n",
       "      <td>1180</td>\n",
       "      <td>5650</td>\n",
       "      <td>1.0</td>\n",
       "      <td>0.0</td>\n",
       "      <td>0.0</td>\n",
       "      <td>3</td>\n",
       "      <td>...</td>\n",
       "      <td>1180</td>\n",
       "      <td>0.0</td>\n",
       "      <td>1955</td>\n",
       "      <td>0.0</td>\n",
       "      <td>98178</td>\n",
       "      <td>47.5112</td>\n",
       "      <td>-122.257</td>\n",
       "      <td>1340</td>\n",
       "      <td>5650</td>\n",
       "      <td>2014</td>\n",
       "    </tr>\n",
       "    <tr>\n",
       "      <th>1</th>\n",
       "      <td>6414100192</td>\n",
       "      <td>538000.0</td>\n",
       "      <td>3</td>\n",
       "      <td>2.25</td>\n",
       "      <td>2570</td>\n",
       "      <td>7242</td>\n",
       "      <td>2.0</td>\n",
       "      <td>0.0</td>\n",
       "      <td>0.0</td>\n",
       "      <td>3</td>\n",
       "      <td>...</td>\n",
       "      <td>2170</td>\n",
       "      <td>1.0</td>\n",
       "      <td>1951</td>\n",
       "      <td>1.0</td>\n",
       "      <td>98125</td>\n",
       "      <td>47.7210</td>\n",
       "      <td>-122.319</td>\n",
       "      <td>1690</td>\n",
       "      <td>7639</td>\n",
       "      <td>2014</td>\n",
       "    </tr>\n",
       "    <tr>\n",
       "      <th>2</th>\n",
       "      <td>5631500400</td>\n",
       "      <td>180000.0</td>\n",
       "      <td>2</td>\n",
       "      <td>1.00</td>\n",
       "      <td>770</td>\n",
       "      <td>10000</td>\n",
       "      <td>1.0</td>\n",
       "      <td>0.0</td>\n",
       "      <td>0.0</td>\n",
       "      <td>3</td>\n",
       "      <td>...</td>\n",
       "      <td>770</td>\n",
       "      <td>0.0</td>\n",
       "      <td>1933</td>\n",
       "      <td>0.0</td>\n",
       "      <td>98028</td>\n",
       "      <td>47.7379</td>\n",
       "      <td>-122.233</td>\n",
       "      <td>2720</td>\n",
       "      <td>8062</td>\n",
       "      <td>2015</td>\n",
       "    </tr>\n",
       "    <tr>\n",
       "      <th>3</th>\n",
       "      <td>2487200875</td>\n",
       "      <td>604000.0</td>\n",
       "      <td>4</td>\n",
       "      <td>3.00</td>\n",
       "      <td>1960</td>\n",
       "      <td>5000</td>\n",
       "      <td>1.0</td>\n",
       "      <td>0.0</td>\n",
       "      <td>0.0</td>\n",
       "      <td>5</td>\n",
       "      <td>...</td>\n",
       "      <td>1050</td>\n",
       "      <td>1.0</td>\n",
       "      <td>1965</td>\n",
       "      <td>0.0</td>\n",
       "      <td>98136</td>\n",
       "      <td>47.5208</td>\n",
       "      <td>-122.393</td>\n",
       "      <td>1360</td>\n",
       "      <td>5000</td>\n",
       "      <td>2014</td>\n",
       "    </tr>\n",
       "    <tr>\n",
       "      <th>4</th>\n",
       "      <td>1954400510</td>\n",
       "      <td>510000.0</td>\n",
       "      <td>3</td>\n",
       "      <td>2.00</td>\n",
       "      <td>1680</td>\n",
       "      <td>8080</td>\n",
       "      <td>1.0</td>\n",
       "      <td>0.0</td>\n",
       "      <td>0.0</td>\n",
       "      <td>3</td>\n",
       "      <td>...</td>\n",
       "      <td>1680</td>\n",
       "      <td>0.0</td>\n",
       "      <td>1987</td>\n",
       "      <td>0.0</td>\n",
       "      <td>98074</td>\n",
       "      <td>47.6168</td>\n",
       "      <td>-122.045</td>\n",
       "      <td>1800</td>\n",
       "      <td>7503</td>\n",
       "      <td>2015</td>\n",
       "    </tr>\n",
       "  </tbody>\n",
       "</table>\n",
       "<p>5 rows × 21 columns</p>\n",
       "</div>"
      ],
      "text/plain": [
       "           id     price  bedrooms  bathrooms  sqft_living  sqft_lot  floors  \\\n",
       "0  7129300520  221900.0         3       1.00         1180      5650     1.0   \n",
       "1  6414100192  538000.0         3       2.25         2570      7242     2.0   \n",
       "2  5631500400  180000.0         2       1.00          770     10000     1.0   \n",
       "3  2487200875  604000.0         4       3.00         1960      5000     1.0   \n",
       "4  1954400510  510000.0         3       2.00         1680      8080     1.0   \n",
       "\n",
       "   waterfront  view  condition  ...  sqft_above  basement  yr_built  \\\n",
       "0         0.0   0.0          3  ...        1180       0.0      1955   \n",
       "1         0.0   0.0          3  ...        2170       1.0      1951   \n",
       "2         0.0   0.0          3  ...         770       0.0      1933   \n",
       "3         0.0   0.0          5  ...        1050       1.0      1965   \n",
       "4         0.0   0.0          3  ...        1680       0.0      1987   \n",
       "\n",
       "   renovated  zipcode      lat     long  sqft_living15  sqft_lot15  year_sold  \n",
       "0        0.0    98178  47.5112 -122.257           1340        5650       2014  \n",
       "1        1.0    98125  47.7210 -122.319           1690        7639       2014  \n",
       "2        0.0    98028  47.7379 -122.233           2720        8062       2015  \n",
       "3        0.0    98136  47.5208 -122.393           1360        5000       2014  \n",
       "4        0.0    98074  47.6168 -122.045           1800        7503       2015  \n",
       "\n",
       "[5 rows x 21 columns]"
      ]
     },
     "execution_count": 15,
     "metadata": {},
     "output_type": "execute_result"
    }
   ],
   "source": [
    "df['date'] = pd.to_datetime(df['date'])\n",
    "df['year_sold'] =  pd.DatetimeIndex(df['date']).year\n",
    "df.drop(columns=['date'], inplace=True)\n",
    "\n",
    "# Checking the column\n",
    "df.head()"
   ]
  },
  {
   "cell_type": "code",
   "execution_count": 16,
   "metadata": {
    "scrolled": true
   },
   "outputs": [
    {
     "data": {
      "text/plain": [
       "Index(['id', 'price', 'bedrooms', 'bathrooms', 'sqft_living', 'sqft_lot',\n",
       "       'floors', 'waterfront', 'view', 'condition', 'grade', 'sqft_above',\n",
       "       'basement', 'yr_built', 'renovated', 'zipcode', 'lat', 'long',\n",
       "       'sqft_living15', 'sqft_lot15', 'year_sold'],\n",
       "      dtype='object')"
      ]
     },
     "execution_count": 16,
     "metadata": {},
     "output_type": "execute_result"
    }
   ],
   "source": [
    "df.columns"
   ]
  },
  {
   "cell_type": "markdown",
   "metadata": {},
   "source": [
    "Before we further scrub the data and also create dummies variable for categorical columns, I will create a baseline model and see how well it do.\n",
    "\n",
    "# 1st Model- The Baseline Model"
   ]
  },
  {
   "cell_type": "code",
   "execution_count": 17,
   "metadata": {
    "scrolled": false
   },
   "outputs": [
    {
     "data": {
      "text/html": [
       "<table class=\"simpletable\">\n",
       "<caption>OLS Regression Results</caption>\n",
       "<tr>\n",
       "  <th>Dep. Variable:</th>          <td>price</td>      <th>  R-squared:         </th>  <td>   0.702</td>  \n",
       "</tr>\n",
       "<tr>\n",
       "  <th>Model:</th>                   <td>OLS</td>       <th>  Adj. R-squared:    </th>  <td>   0.701</td>  \n",
       "</tr>\n",
       "<tr>\n",
       "  <th>Method:</th>             <td>Least Squares</td>  <th>  F-statistic:       </th>  <td>   2649.</td>  \n",
       "</tr>\n",
       "<tr>\n",
       "  <th>Date:</th>             <td>Thu, 05 Nov 2020</td> <th>  Prob (F-statistic):</th>   <td>  0.00</td>   \n",
       "</tr>\n",
       "<tr>\n",
       "  <th>Time:</th>                 <td>15:37:27</td>     <th>  Log-Likelihood:    </th> <td>-2.9195e+05</td>\n",
       "</tr>\n",
       "<tr>\n",
       "  <th>No. Observations:</th>      <td> 21420</td>      <th>  AIC:               </th>  <td>5.839e+05</td> \n",
       "</tr>\n",
       "<tr>\n",
       "  <th>Df Residuals:</th>          <td> 21400</td>      <th>  BIC:               </th>  <td>5.841e+05</td> \n",
       "</tr>\n",
       "<tr>\n",
       "  <th>Df Model:</th>              <td>    19</td>      <th>                     </th>      <td> </td>     \n",
       "</tr>\n",
       "<tr>\n",
       "  <th>Covariance Type:</th>      <td>nonrobust</td>    <th>                     </th>      <td> </td>     \n",
       "</tr>\n",
       "</table>\n",
       "<table class=\"simpletable\">\n",
       "<tr>\n",
       "        <td></td>           <th>coef</th>     <th>std err</th>      <th>t</th>      <th>P>|t|</th>  <th>[0.025</th>    <th>0.975]</th>  \n",
       "</tr>\n",
       "<tr>\n",
       "  <th>const</th>         <td>-5.252e+07</td> <td> 6.66e+06</td> <td>   -7.890</td> <td> 0.000</td> <td>-6.56e+07</td> <td>-3.95e+07</td>\n",
       "</tr>\n",
       "<tr>\n",
       "  <th>bedrooms</th>      <td>-3.642e+04</td> <td> 1909.977</td> <td>  -19.069</td> <td> 0.000</td> <td>-4.02e+04</td> <td>-3.27e+04</td>\n",
       "</tr>\n",
       "<tr>\n",
       "  <th>bathrooms</th>     <td> 4.251e+04</td> <td> 3298.073</td> <td>   12.889</td> <td> 0.000</td> <td>  3.6e+04</td> <td>  4.9e+04</td>\n",
       "</tr>\n",
       "<tr>\n",
       "  <th>sqft_living</th>   <td>  152.8352</td> <td>    6.020</td> <td>   25.386</td> <td> 0.000</td> <td>  141.035</td> <td>  164.635</td>\n",
       "</tr>\n",
       "<tr>\n",
       "  <th>sqft_lot</th>      <td>    0.1240</td> <td>    0.048</td> <td>    2.588</td> <td> 0.010</td> <td>    0.030</td> <td>    0.218</td>\n",
       "</tr>\n",
       "<tr>\n",
       "  <th>floors</th>        <td> 7845.6340</td> <td> 3607.471</td> <td>    2.175</td> <td> 0.030</td> <td>  774.721</td> <td> 1.49e+04</td>\n",
       "</tr>\n",
       "<tr>\n",
       "  <th>waterfront</th>    <td> 6.186e+05</td> <td> 1.81e+04</td> <td>   34.121</td> <td> 0.000</td> <td> 5.83e+05</td> <td> 6.54e+05</td>\n",
       "</tr>\n",
       "<tr>\n",
       "  <th>view</th>          <td> 5.302e+04</td> <td> 2129.191</td> <td>   24.903</td> <td> 0.000</td> <td> 4.89e+04</td> <td> 5.72e+04</td>\n",
       "</tr>\n",
       "<tr>\n",
       "  <th>condition</th>     <td> 2.853e+04</td> <td> 2364.667</td> <td>   12.065</td> <td> 0.000</td> <td> 2.39e+04</td> <td> 3.32e+04</td>\n",
       "</tr>\n",
       "<tr>\n",
       "  <th>grade</th>         <td> 9.759e+04</td> <td> 2173.428</td> <td>   44.902</td> <td> 0.000</td> <td> 9.33e+04</td> <td> 1.02e+05</td>\n",
       "</tr>\n",
       "<tr>\n",
       "  <th>sqft_above</th>    <td>   27.5085</td> <td>    6.594</td> <td>    4.172</td> <td> 0.000</td> <td>   14.584</td> <td>   40.433</td>\n",
       "</tr>\n",
       "<tr>\n",
       "  <th>basement</th>      <td>-3231.4428</td> <td> 5085.331</td> <td>   -0.635</td> <td> 0.525</td> <td>-1.32e+04</td> <td> 6736.186</td>\n",
       "</tr>\n",
       "<tr>\n",
       "  <th>yr_built</th>      <td>-2633.5866</td> <td>   72.165</td> <td>  -36.494</td> <td> 0.000</td> <td>-2775.036</td> <td>-2492.138</td>\n",
       "</tr>\n",
       "<tr>\n",
       "  <th>renovated</th>     <td> 4.935e+04</td> <td> 7959.890</td> <td>    6.200</td> <td> 0.000</td> <td> 3.38e+04</td> <td>  6.5e+04</td>\n",
       "</tr>\n",
       "<tr>\n",
       "  <th>zipcode</th>       <td> -586.2729</td> <td>   33.160</td> <td>  -17.680</td> <td> 0.000</td> <td> -651.269</td> <td> -521.277</td>\n",
       "</tr>\n",
       "<tr>\n",
       "  <th>lat</th>           <td>  6.04e+05</td> <td> 1.08e+04</td> <td>   56.053</td> <td> 0.000</td> <td> 5.83e+05</td> <td> 6.25e+05</td>\n",
       "</tr>\n",
       "<tr>\n",
       "  <th>long</th>          <td>-2.177e+05</td> <td> 1.32e+04</td> <td>  -16.454</td> <td> 0.000</td> <td>-2.44e+05</td> <td>-1.92e+05</td>\n",
       "</tr>\n",
       "<tr>\n",
       "  <th>sqft_living15</th> <td>   21.2444</td> <td>    3.458</td> <td>    6.144</td> <td> 0.000</td> <td>   14.467</td> <td>   28.021</td>\n",
       "</tr>\n",
       "<tr>\n",
       "  <th>sqft_lot15</th>    <td>   -0.3848</td> <td>    0.073</td> <td>   -5.247</td> <td> 0.000</td> <td>   -0.529</td> <td>   -0.241</td>\n",
       "</tr>\n",
       "<tr>\n",
       "  <th>year_sold</th>     <td> 2.938e+04</td> <td> 2955.074</td> <td>    9.941</td> <td> 0.000</td> <td> 2.36e+04</td> <td> 3.52e+04</td>\n",
       "</tr>\n",
       "</table>\n",
       "<table class=\"simpletable\">\n",
       "<tr>\n",
       "  <th>Omnibus:</th>       <td>18239.756</td> <th>  Durbin-Watson:     </th>  <td>   1.996</td>  \n",
       "</tr>\n",
       "<tr>\n",
       "  <th>Prob(Omnibus):</th>  <td> 0.000</td>   <th>  Jarque-Bera (JB):  </th> <td>1850293.050</td>\n",
       "</tr>\n",
       "<tr>\n",
       "  <th>Skew:</th>           <td> 3.573</td>   <th>  Prob(JB):          </th>  <td>    0.00</td>  \n",
       "</tr>\n",
       "<tr>\n",
       "  <th>Kurtosis:</th>       <td>47.968</td>   <th>  Cond. No.          </th>  <td>4.88e+08</td>  \n",
       "</tr>\n",
       "</table><br/><br/>Warnings:<br/>[1] Standard Errors assume that the covariance matrix of the errors is correctly specified.<br/>[2] The condition number is large, 4.88e+08. This might indicate that there are<br/>strong multicollinearity or other numerical problems."
      ],
      "text/plain": [
       "<class 'statsmodels.iolib.summary.Summary'>\n",
       "\"\"\"\n",
       "                            OLS Regression Results                            \n",
       "==============================================================================\n",
       "Dep. Variable:                  price   R-squared:                       0.702\n",
       "Model:                            OLS   Adj. R-squared:                  0.701\n",
       "Method:                 Least Squares   F-statistic:                     2649.\n",
       "Date:                Thu, 05 Nov 2020   Prob (F-statistic):               0.00\n",
       "Time:                        15:37:27   Log-Likelihood:            -2.9195e+05\n",
       "No. Observations:               21420   AIC:                         5.839e+05\n",
       "Df Residuals:                   21400   BIC:                         5.841e+05\n",
       "Df Model:                          19                                         \n",
       "Covariance Type:            nonrobust                                         \n",
       "=================================================================================\n",
       "                    coef    std err          t      P>|t|      [0.025      0.975]\n",
       "---------------------------------------------------------------------------------\n",
       "const         -5.252e+07   6.66e+06     -7.890      0.000   -6.56e+07   -3.95e+07\n",
       "bedrooms      -3.642e+04   1909.977    -19.069      0.000   -4.02e+04   -3.27e+04\n",
       "bathrooms      4.251e+04   3298.073     12.889      0.000     3.6e+04     4.9e+04\n",
       "sqft_living     152.8352      6.020     25.386      0.000     141.035     164.635\n",
       "sqft_lot          0.1240      0.048      2.588      0.010       0.030       0.218\n",
       "floors         7845.6340   3607.471      2.175      0.030     774.721    1.49e+04\n",
       "waterfront     6.186e+05   1.81e+04     34.121      0.000    5.83e+05    6.54e+05\n",
       "view           5.302e+04   2129.191     24.903      0.000    4.89e+04    5.72e+04\n",
       "condition      2.853e+04   2364.667     12.065      0.000    2.39e+04    3.32e+04\n",
       "grade          9.759e+04   2173.428     44.902      0.000    9.33e+04    1.02e+05\n",
       "sqft_above       27.5085      6.594      4.172      0.000      14.584      40.433\n",
       "basement      -3231.4428   5085.331     -0.635      0.525   -1.32e+04    6736.186\n",
       "yr_built      -2633.5866     72.165    -36.494      0.000   -2775.036   -2492.138\n",
       "renovated      4.935e+04   7959.890      6.200      0.000    3.38e+04     6.5e+04\n",
       "zipcode        -586.2729     33.160    -17.680      0.000    -651.269    -521.277\n",
       "lat             6.04e+05   1.08e+04     56.053      0.000    5.83e+05    6.25e+05\n",
       "long          -2.177e+05   1.32e+04    -16.454      0.000   -2.44e+05   -1.92e+05\n",
       "sqft_living15    21.2444      3.458      6.144      0.000      14.467      28.021\n",
       "sqft_lot15       -0.3848      0.073     -5.247      0.000      -0.529      -0.241\n",
       "year_sold      2.938e+04   2955.074      9.941      0.000    2.36e+04    3.52e+04\n",
       "==============================================================================\n",
       "Omnibus:                    18239.756   Durbin-Watson:                   1.996\n",
       "Prob(Omnibus):                  0.000   Jarque-Bera (JB):          1850293.050\n",
       "Skew:                           3.573   Prob(JB):                         0.00\n",
       "Kurtosis:                      47.968   Cond. No.                     4.88e+08\n",
       "==============================================================================\n",
       "\n",
       "Warnings:\n",
       "[1] Standard Errors assume that the covariance matrix of the errors is correctly specified.\n",
       "[2] The condition number is large, 4.88e+08. This might indicate that there are\n",
       "strong multicollinearity or other numerical problems.\n",
       "\"\"\""
      ]
     },
     "execution_count": 17,
     "metadata": {},
     "output_type": "execute_result"
    }
   ],
   "source": [
    "import statsmodels.api as sm\n",
    "\n",
    "predictors = df.drop(['price','id'], axis=1)\n",
    "predictors_int = sm.add_constant(predictors)\n",
    "\n",
    "model = sm.OLS(df['price'],predictors_int.astype(float)).fit()\n",
    "model.summary()"
   ]
  },
  {
   "cell_type": "markdown",
   "metadata": {},
   "source": [
    "In Statsmodel the model have an adjusted R-squared of 0.701 which is great for the baseline model. The basement column have a very high P value, we will later do a model fit and get rid of some of the variables. The Skewness and Kurtosis is horrible so we would later have to check for heteroskedasticity and normality of residuals.\n",
    "\n",
    "I will recreate the model in Scikit and see what sort of R_squared we can get."
   ]
  },
  {
   "cell_type": "code",
   "execution_count": 18,
   "metadata": {
    "scrolled": true
   },
   "outputs": [
    {
     "name": "stdout",
     "output_type": "stream",
     "text": [
      "Train Mean Squarred Error  : 41441901514.55789\n",
      "Test Mean Squarred Error   : 36375428440.19045\n",
      "R-squared                    = 0.6999076059182942\n",
      "Mean Squared Error using CV  = 40676065046.83171\n"
     ]
    }
   ],
   "source": [
    "# Create the model in Scikit\n",
    "# Import the library to create the model and split data\n",
    "from sklearn.linear_model import LinearRegression\n",
    "from sklearn.model_selection import train_test_split\n",
    "\n",
    "y = df['price']\n",
    "X = df.drop(['id', 'price'], axis=1)\n",
    "\n",
    "# Split data for testing\n",
    "X_train, X_test, y_train, y_test = train_test_split(X, y, test_size=0.2, random_state=55)\n",
    "\n",
    "# Fit the model\n",
    "linreg = LinearRegression()\n",
    "linreg.fit(X_train, y_train)\n",
    "\n",
    "# Import libraries to get the scores\n",
    "from sklearn.metrics import mean_squared_error, make_scorer\n",
    "from sklearn.model_selection import cross_val_score\n",
    "from sklearn.model_selection import KFold\n",
    "\n",
    "\n",
    "mse = make_scorer(mean_squared_error)\n",
    "# Create K-fold with 10 splits\n",
    "crossvalidation = KFold(n_splits=10, shuffle=True, random_state=1)\n",
    "\n",
    "# Find R-squared and MSE\n",
    "rsquared = np.mean(cross_val_score(linreg, X, y, scoring='r2', cv=crossvalidation))\n",
    "cv_10_results = cross_val_score(linreg, X, y, cv=crossvalidation, scoring=mse)\n",
    "\n",
    "#Predict data\n",
    "y_hat_train = linreg.predict(X_train)\n",
    "y_hat_test = linreg.predict(X_test)\n",
    "#Calculate two diffrent MSE\n",
    "train_mse = mean_squared_error(y_train, y_hat_train)\n",
    "test_mse = mean_squared_error(y_test, y_hat_test)\n",
    "print('Train Mean Squarred Error  :', train_mse)\n",
    "print('Test Mean Squarred Error   :', test_mse)\n",
    "\n",
    "print(f'R-squared                    = {rsquared}')\n",
    "print(f'Mean Squared Error using CV  = {cv_10_results.mean()}')\n"
   ]
  },
  {
   "cell_type": "markdown",
   "metadata": {},
   "source": [
    "The R-squared is slightly less than it was in Statsmodel. The MSE is actually lower for the test data, which is quiet rare."
   ]
  },
  {
   "cell_type": "code",
   "execution_count": 19,
   "metadata": {
    "scrolled": false
   },
   "outputs": [
    {
     "data": {
      "text/plain": [
       "Index(['id', 'price', 'bedrooms', 'bathrooms', 'sqft_living', 'sqft_lot',\n",
       "       'floors', 'waterfront', 'view', 'condition', 'grade', 'sqft_above',\n",
       "       'basement', 'yr_built', 'renovated', 'zipcode', 'lat', 'long',\n",
       "       'sqft_living15', 'sqft_lot15', 'year_sold'],\n",
       "      dtype='object')"
      ]
     },
     "execution_count": 19,
     "metadata": {},
     "output_type": "execute_result"
    }
   ],
   "source": [
    "df.columns"
   ]
  },
  {
   "cell_type": "markdown",
   "metadata": {},
   "source": [
    "Next I will check weather the variables have a linear relationship with the target.\n",
    "# Checking Linearity"
   ]
  },
  {
   "cell_type": "code",
   "execution_count": 20,
   "metadata": {},
   "outputs": [],
   "source": [
    "columns_check = ['bedrooms', 'bathrooms', 'sqft_living', 'sqft_lot',\n",
    "       'floors', 'waterfront', 'view', 'condition', 'grade', 'sqft_above',\n",
    "       'basement', 'yr_built', 'renovated','sqft_living15', 'sqft_lot15', 'year_sold']"
   ]
  },
  {
   "cell_type": "code",
   "execution_count": 21,
   "metadata": {
    "scrolled": true
   },
   "outputs": [
    {
     "data": {
      "image/png": "[encoded data removed]",
      "text/plain": [
       "<Figure size 1152x1080 with 18 Axes>"
      ]
     },
     "metadata": {
      "needs_background": "light"
     },
     "output_type": "display_data"
    }
   ],
   "source": [
    "fig, axes = plt.subplots(nrows=6, ncols=3, figsize=(16,15), sharey=True)\n",
    "\n",
    "for ax, column in zip(axes.flatten(), columns_check):\n",
    "    ax.scatter(df[column], df['price'] / 100_000, label=column, alpha=.1)\n",
    "    ax.set_title(f'Sale Price vs {column}')\n",
    "    ax.set_xlabel(column)\n",
    "    ax.set_ylabel('Sale Price in $100,000')\n",
    "\n",
    "fig.tight_layout()"
   ]
  },
  {
   "cell_type": "code",
   "execution_count": 22,
   "metadata": {},
   "outputs": [
    {
     "name": "stdout",
     "output_type": "stream",
     "text": [
      "520\n",
      "651\n"
     ]
    }
   ],
   "source": [
    "print(df['sqft_lot'].min())\n",
    "print(df['sqft_lot15'].min())"
   ]
  },
  {
   "cell_type": "markdown",
   "metadata": {},
   "source": [
    "Among the continous data the linearity seems good enough. Although at first sqft_lot and sqft_lot15 seems to use 0 as a placeholder for not having a lot after checking the min values we see that is not the case. Since sqft_lot and sqft_lot15 doesn't seems to have a linear relationship with sale price, I will drop these columns.\n",
    "\n",
    "I can also see that several data have extreme outliers that will have to be dealt with."
   ]
  },
  {
   "cell_type": "code",
   "execution_count": 23,
   "metadata": {},
   "outputs": [],
   "source": [
    "df.drop(['sqft_lot', 'sqft_lot15'], axis=1, inplace=True)\n"
   ]
  },
  {
   "cell_type": "markdown",
   "metadata": {},
   "source": [
    "# Question - How will dealing with multicollinearity and creating dummy variables change the model R-squared?\n",
    "\n",
    "##  Multicollinearity and Categorical Data."
   ]
  },
  {
   "cell_type": "markdown",
   "metadata": {},
   "source": [
    "Before we create dummies variables for the categorical data I will find which variables have high multicollinearity."
   ]
  },
  {
   "cell_type": "code",
   "execution_count": 24,
   "metadata": {
    "scrolled": true
   },
   "outputs": [
    {
     "data": {
      "text/html": [
       "<div>\n",
       "<style scoped>\n",
       "    .dataframe tbody tr th:only-of-type {\n",
       "        vertical-align: middle;\n",
       "    }\n",
       "\n",
       "    .dataframe tbody tr th {\n",
       "        vertical-align: top;\n",
       "    }\n",
       "\n",
       "    .dataframe thead th {\n",
       "        text-align: right;\n",
       "    }\n",
       "</style>\n",
       "<table border=\"1\" class=\"dataframe\">\n",
       "  <thead>\n",
       "    <tr style=\"text-align: right;\">\n",
       "      <th></th>\n",
       "      <th>cc</th>\n",
       "    </tr>\n",
       "    <tr>\n",
       "      <th>pairs</th>\n",
       "      <th></th>\n",
       "    </tr>\n",
       "  </thead>\n",
       "  <tbody>\n",
       "    <tr>\n",
       "      <th>(sqft_above, sqft_living)</th>\n",
       "      <td>0.876533</td>\n",
       "    </tr>\n",
       "    <tr>\n",
       "      <th>(sqft_living, grade)</th>\n",
       "      <td>0.762477</td>\n",
       "    </tr>\n",
       "    <tr>\n",
       "      <th>(sqft_above, grade)</th>\n",
       "      <td>0.756221</td>\n",
       "    </tr>\n",
       "    <tr>\n",
       "      <th>(sqft_living, sqft_living15)</th>\n",
       "      <td>0.756186</td>\n",
       "    </tr>\n",
       "    <tr>\n",
       "      <th>(bathrooms, sqft_living)</th>\n",
       "      <td>0.755522</td>\n",
       "    </tr>\n",
       "  </tbody>\n",
       "</table>\n",
       "</div>"
      ],
      "text/plain": [
       "                                    cc\n",
       "pairs                                 \n",
       "(sqft_above, sqft_living)     0.876533\n",
       "(sqft_living, grade)          0.762477\n",
       "(sqft_above, grade)           0.756221\n",
       "(sqft_living, sqft_living15)  0.756186\n",
       "(bathrooms, sqft_living)      0.755522"
      ]
     },
     "execution_count": 24,
     "metadata": {},
     "output_type": "execute_result"
    }
   ],
   "source": [
    "df_cor = df.corr().abs().stack().reset_index().sort_values(0, ascending=False)\n",
    "df_cor\n",
    "df_cor['pairs'] = list(zip(df_cor.level_0, df_cor.level_1))\n",
    "\n",
    "df_cor.set_index(['pairs'], inplace = True)\n",
    "\n",
    "df_cor.drop(columns=['level_1', 'level_0'], inplace = True)\n",
    "\n",
    "#cc for correlation coefficient\n",
    "df_cor.columns = ['cc']\n",
    "df_cor.drop_duplicates(inplace=True)\n",
    "df_cor[(df_cor.cc>.75) & (df_cor.cc<1)]"
   ]
  },
  {
   "cell_type": "markdown",
   "metadata": {},
   "source": [
    "I will get rid of the sqft_above column as this would get rid of the 0.87 correlation between the home square footage(sqft_living) and above ground footage(sqft_above). The correlation between grade and sqft_above would also be gone, leaving us with 3 correlations with a coefficient just slightly above 0.75."
   ]
  },
  {
   "cell_type": "code",
   "execution_count": 25,
   "metadata": {
    "scrolled": true
   },
   "outputs": [
    {
     "data": {
      "text/html": [
       "<div>\n",
       "<style scoped>\n",
       "    .dataframe tbody tr th:only-of-type {\n",
       "        vertical-align: middle;\n",
       "    }\n",
       "\n",
       "    .dataframe tbody tr th {\n",
       "        vertical-align: top;\n",
       "    }\n",
       "\n",
       "    .dataframe thead th {\n",
       "        text-align: right;\n",
       "    }\n",
       "</style>\n",
       "<table border=\"1\" class=\"dataframe\">\n",
       "  <thead>\n",
       "    <tr style=\"text-align: right;\">\n",
       "      <th></th>\n",
       "      <th>cc</th>\n",
       "    </tr>\n",
       "    <tr>\n",
       "      <th>pairs</th>\n",
       "      <th></th>\n",
       "    </tr>\n",
       "  </thead>\n",
       "  <tbody>\n",
       "    <tr>\n",
       "      <th>(sqft_living, grade)</th>\n",
       "      <td>0.762477</td>\n",
       "    </tr>\n",
       "    <tr>\n",
       "      <th>(sqft_living, sqft_living15)</th>\n",
       "      <td>0.756186</td>\n",
       "    </tr>\n",
       "    <tr>\n",
       "      <th>(bathrooms, sqft_living)</th>\n",
       "      <td>0.755522</td>\n",
       "    </tr>\n",
       "  </tbody>\n",
       "</table>\n",
       "</div>"
      ],
      "text/plain": [
       "                                    cc\n",
       "pairs                                 \n",
       "(sqft_living, grade)          0.762477\n",
       "(sqft_living, sqft_living15)  0.756186\n",
       "(bathrooms, sqft_living)      0.755522"
      ]
     },
     "execution_count": 25,
     "metadata": {},
     "output_type": "execute_result"
    }
   ],
   "source": [
    "df.drop(columns=['sqft_above'], inplace = True)\n",
    "\n",
    "#Check the correlation again\n",
    "df_cor = df.corr().abs().stack().reset_index().sort_values(0, ascending=False)\n",
    "df_cor\n",
    "df_cor['pairs'] = list(zip(df_cor.level_0, df_cor.level_1))\n",
    "\n",
    "df_cor.set_index(['pairs'], inplace = True)\n",
    "\n",
    "df_cor.drop(columns=['level_1', 'level_0'], inplace = True)\n",
    "df_cor.columns = ['cc']\n",
    "df_cor.drop_duplicates(inplace=True)\n",
    "df_cor[(df_cor.cc>.75) & (df_cor.cc<1)]"
   ]
  },
  {
   "cell_type": "markdown",
   "metadata": {},
   "source": [
    "Next we will see what type of data is in each column. We do this by plotting a scatter plot against our target for each column."
   ]
  },
  {
   "cell_type": "code",
   "execution_count": 26,
   "metadata": {},
   "outputs": [
    {
     "data": {
      "text/plain": [
       "<bound method Figure.tight_layout of <Figure size 1152x1008 with 16 Axes>>"
      ]
     },
     "execution_count": 26,
     "metadata": {},
     "output_type": "execute_result"
    },
    {
     "data": {
      "image/png": "[encoded data removed]",
      "text/plain": [
       "<Figure size 1152x1008 with 16 Axes>"
      ]
     },
     "metadata": {
      "needs_background": "light"
     },
     "output_type": "display_data"
    }
   ],
   "source": [
    "fig, ax = plt.subplots(nrows=4, ncols=4, figsize=(16,14), sharey=True)\n",
    "columns_plot = df.drop(['id', 'price'], axis=1).columns\n",
    "for col, ax in zip(columns_plot, ax.flatten()):\n",
    "    ax.scatter(df[col], df['price'])\n",
    "    ax.set_title(f'{col} vs. price')\n",
    "fig.tight_layout"
   ]
  },
  {
   "cell_type": "markdown",
   "metadata": {},
   "source": [
    "The clear cut continous data are sqft_living and sqft_living15.\n",
    "\n",
    "The variables bedrooms, bathrooms, floors, condition, grade, yr_built and year_sold can be classify ordinal data have a hierarchical order, I don't believe there is a need to create dummy variables for them.\n",
    "\n",
    "I have already previously change the renovated and basement columns into binary data so there is no need to create dummy variables for them either along with the waterfront column. \n",
    "\n",
    "That leaves the zipcode, latitude and longitude columns. Since all three columns deals with location, I will get rid of the latitude and longitude columns.\n",
    "\n",
    "\n"
   ]
  },
  {
   "cell_type": "code",
   "execution_count": 27,
   "metadata": {},
   "outputs": [
    {
     "name": "stdout",
     "output_type": "stream",
     "text": [
      "Num of unique zipcodes: 70\n",
      "Zipcod Max Value      : 98199\n",
      "Zipcod Min Value      : 98001\n"
     ]
    }
   ],
   "source": [
    "# Drop the latitude and longitude columns.\n",
    "df.drop(['long', 'lat'], axis=1, inplace=True)\n",
    "print(f'Num of unique zipcodes: {df.zipcode.nunique()}')\n",
    "print(f'Zipcod Max Value      : {df.zipcode.max()}')\n",
    "print(f'Zipcod Min Value      : {df.zipcode.min()}')\n"
   ]
  },
  {
   "cell_type": "markdown",
   "metadata": {},
   "source": [
    "Although I originally tried to bin the zipcodes into equal parts of 10 groups, the model build from it had a horrible R-squared and keeps getting worse. So I have believe that the best method is to just create 70 diffrent dummy variables for the zipcodes. If I wanted to decrease the number of features, I could bin the zipcodes by counties but finding this info was difficult."
   ]
  },
  {
   "cell_type": "code",
   "execution_count": 28,
   "metadata": {
    "scrolled": false
   },
   "outputs": [
    {
     "data": {
      "text/html": [
       "<div>\n",
       "<style scoped>\n",
       "    .dataframe tbody tr th:only-of-type {\n",
       "        vertical-align: middle;\n",
       "    }\n",
       "\n",
       "    .dataframe tbody tr th {\n",
       "        vertical-align: top;\n",
       "    }\n",
       "\n",
       "    .dataframe thead th {\n",
       "        text-align: right;\n",
       "    }\n",
       "</style>\n",
       "<table border=\"1\" class=\"dataframe\">\n",
       "  <thead>\n",
       "    <tr style=\"text-align: right;\">\n",
       "      <th></th>\n",
       "      <th>id</th>\n",
       "      <th>price</th>\n",
       "      <th>bedrooms</th>\n",
       "      <th>bathrooms</th>\n",
       "      <th>sqft_living</th>\n",
       "      <th>floors</th>\n",
       "      <th>waterfront</th>\n",
       "      <th>view</th>\n",
       "      <th>condition</th>\n",
       "      <th>grade</th>\n",
       "      <th>...</th>\n",
       "      <th>zip_98146</th>\n",
       "      <th>zip_98148</th>\n",
       "      <th>zip_98155</th>\n",
       "      <th>zip_98166</th>\n",
       "      <th>zip_98168</th>\n",
       "      <th>zip_98177</th>\n",
       "      <th>zip_98178</th>\n",
       "      <th>zip_98188</th>\n",
       "      <th>zip_98198</th>\n",
       "      <th>zip_98199</th>\n",
       "    </tr>\n",
       "  </thead>\n",
       "  <tbody>\n",
       "    <tr>\n",
       "      <th>0</th>\n",
       "      <td>7129300520</td>\n",
       "      <td>221900.0</td>\n",
       "      <td>3</td>\n",
       "      <td>1.00</td>\n",
       "      <td>1180</td>\n",
       "      <td>1.0</td>\n",
       "      <td>0.0</td>\n",
       "      <td>0.0</td>\n",
       "      <td>3</td>\n",
       "      <td>7</td>\n",
       "      <td>...</td>\n",
       "      <td>0</td>\n",
       "      <td>0</td>\n",
       "      <td>0</td>\n",
       "      <td>0</td>\n",
       "      <td>0</td>\n",
       "      <td>0</td>\n",
       "      <td>1</td>\n",
       "      <td>0</td>\n",
       "      <td>0</td>\n",
       "      <td>0</td>\n",
       "    </tr>\n",
       "    <tr>\n",
       "      <th>1</th>\n",
       "      <td>6414100192</td>\n",
       "      <td>538000.0</td>\n",
       "      <td>3</td>\n",
       "      <td>2.25</td>\n",
       "      <td>2570</td>\n",
       "      <td>2.0</td>\n",
       "      <td>0.0</td>\n",
       "      <td>0.0</td>\n",
       "      <td>3</td>\n",
       "      <td>7</td>\n",
       "      <td>...</td>\n",
       "      <td>0</td>\n",
       "      <td>0</td>\n",
       "      <td>0</td>\n",
       "      <td>0</td>\n",
       "      <td>0</td>\n",
       "      <td>0</td>\n",
       "      <td>0</td>\n",
       "      <td>0</td>\n",
       "      <td>0</td>\n",
       "      <td>0</td>\n",
       "    </tr>\n",
       "    <tr>\n",
       "      <th>2</th>\n",
       "      <td>5631500400</td>\n",
       "      <td>180000.0</td>\n",
       "      <td>2</td>\n",
       "      <td>1.00</td>\n",
       "      <td>770</td>\n",
       "      <td>1.0</td>\n",
       "      <td>0.0</td>\n",
       "      <td>0.0</td>\n",
       "      <td>3</td>\n",
       "      <td>6</td>\n",
       "      <td>...</td>\n",
       "      <td>0</td>\n",
       "      <td>0</td>\n",
       "      <td>0</td>\n",
       "      <td>0</td>\n",
       "      <td>0</td>\n",
       "      <td>0</td>\n",
       "      <td>0</td>\n",
       "      <td>0</td>\n",
       "      <td>0</td>\n",
       "      <td>0</td>\n",
       "    </tr>\n",
       "    <tr>\n",
       "      <th>3</th>\n",
       "      <td>2487200875</td>\n",
       "      <td>604000.0</td>\n",
       "      <td>4</td>\n",
       "      <td>3.00</td>\n",
       "      <td>1960</td>\n",
       "      <td>1.0</td>\n",
       "      <td>0.0</td>\n",
       "      <td>0.0</td>\n",
       "      <td>5</td>\n",
       "      <td>7</td>\n",
       "      <td>...</td>\n",
       "      <td>0</td>\n",
       "      <td>0</td>\n",
       "      <td>0</td>\n",
       "      <td>0</td>\n",
       "      <td>0</td>\n",
       "      <td>0</td>\n",
       "      <td>0</td>\n",
       "      <td>0</td>\n",
       "      <td>0</td>\n",
       "      <td>0</td>\n",
       "    </tr>\n",
       "    <tr>\n",
       "      <th>4</th>\n",
       "      <td>1954400510</td>\n",
       "      <td>510000.0</td>\n",
       "      <td>3</td>\n",
       "      <td>2.00</td>\n",
       "      <td>1680</td>\n",
       "      <td>1.0</td>\n",
       "      <td>0.0</td>\n",
       "      <td>0.0</td>\n",
       "      <td>3</td>\n",
       "      <td>8</td>\n",
       "      <td>...</td>\n",
       "      <td>0</td>\n",
       "      <td>0</td>\n",
       "      <td>0</td>\n",
       "      <td>0</td>\n",
       "      <td>0</td>\n",
       "      <td>0</td>\n",
       "      <td>0</td>\n",
       "      <td>0</td>\n",
       "      <td>0</td>\n",
       "      <td>0</td>\n",
       "    </tr>\n",
       "  </tbody>\n",
       "</table>\n",
       "<p>5 rows × 84 columns</p>\n",
       "</div>"
      ],
      "text/plain": [
       "           id     price  bedrooms  bathrooms  sqft_living  floors  waterfront  \\\n",
       "0  7129300520  221900.0         3       1.00         1180     1.0         0.0   \n",
       "1  6414100192  538000.0         3       2.25         2570     2.0         0.0   \n",
       "2  5631500400  180000.0         2       1.00          770     1.0         0.0   \n",
       "3  2487200875  604000.0         4       3.00         1960     1.0         0.0   \n",
       "4  1954400510  510000.0         3       2.00         1680     1.0         0.0   \n",
       "\n",
       "   view  condition  grade  ...  zip_98146  zip_98148  zip_98155  zip_98166  \\\n",
       "0   0.0          3      7  ...          0          0          0          0   \n",
       "1   0.0          3      7  ...          0          0          0          0   \n",
       "2   0.0          3      6  ...          0          0          0          0   \n",
       "3   0.0          5      7  ...          0          0          0          0   \n",
       "4   0.0          3      8  ...          0          0          0          0   \n",
       "\n",
       "   zip_98168  zip_98177  zip_98178  zip_98188  zip_98198  zip_98199  \n",
       "0          0          0          1          0          0          0  \n",
       "1          0          0          0          0          0          0  \n",
       "2          0          0          0          0          0          0  \n",
       "3          0          0          0          0          0          0  \n",
       "4          0          0          0          0          0          0  \n",
       "\n",
       "[5 rows x 84 columns]"
      ]
     },
     "execution_count": 28,
     "metadata": {},
     "output_type": "execute_result"
    }
   ],
   "source": [
    "df2 = df.copy()\n",
    "# Create dummy variables, drop 1 column to avoid multicollinearity. This column will be accounted for in the intercept\n",
    "zipcode_dummies = pd.get_dummies(df2['zipcode'], prefix = 'zip', drop_first=True)\n",
    "\n",
    "# Drop the zipcode column\n",
    "df2.drop(columns=['zipcode'], inplace=True)\n",
    "\n",
    "# Adding the zipcode dummy variables\n",
    "df2 = pd.concat([df2, zipcode_dummies], axis=1)\n",
    "\n",
    "# Checking if the new columns have been added. Now there are 86 columns\n",
    "df2.head()"
   ]
  },
  {
   "cell_type": "markdown",
   "metadata": {},
   "source": [
    "# 2nd Model after dealing with multicollinearity and categorical data."
   ]
  },
  {
   "cell_type": "markdown",
   "metadata": {},
   "source": [
    "Now that we have gotten rid of some columns and created dummy variables for zip code let try to create the model again."
   ]
  },
  {
   "cell_type": "code",
   "execution_count": 29,
   "metadata": {
    "scrolled": false
   },
   "outputs": [
    {
     "data": {
      "text/html": [
       "<table class=\"simpletable\">\n",
       "<caption>OLS Regression Results</caption>\n",
       "<tr>\n",
       "  <th>Dep. Variable:</th>          <td>price</td>      <th>  R-squared:         </th>  <td>   0.808</td>  \n",
       "</tr>\n",
       "<tr>\n",
       "  <th>Model:</th>                   <td>OLS</td>       <th>  Adj. R-squared:    </th>  <td>   0.807</td>  \n",
       "</tr>\n",
       "<tr>\n",
       "  <th>Method:</th>             <td>Least Squares</td>  <th>  F-statistic:       </th>  <td>   1096.</td>  \n",
       "</tr>\n",
       "<tr>\n",
       "  <th>Date:</th>             <td>Thu, 05 Nov 2020</td> <th>  Prob (F-statistic):</th>   <td>  0.00</td>   \n",
       "</tr>\n",
       "<tr>\n",
       "  <th>Time:</th>                 <td>15:37:39</td>     <th>  Log-Likelihood:    </th> <td>-2.8722e+05</td>\n",
       "</tr>\n",
       "<tr>\n",
       "  <th>No. Observations:</th>      <td> 21420</td>      <th>  AIC:               </th>  <td>5.746e+05</td> \n",
       "</tr>\n",
       "<tr>\n",
       "  <th>Df Residuals:</th>          <td> 21337</td>      <th>  BIC:               </th>  <td>5.753e+05</td> \n",
       "</tr>\n",
       "<tr>\n",
       "  <th>Df Model:</th>              <td>    82</td>      <th>                     </th>      <td> </td>     \n",
       "</tr>\n",
       "<tr>\n",
       "  <th>Covariance Type:</th>      <td>nonrobust</td>    <th>                     </th>      <td> </td>     \n",
       "</tr>\n",
       "</table>\n",
       "<table class=\"simpletable\">\n",
       "<tr>\n",
       "        <td></td>           <th>coef</th>     <th>std err</th>      <th>t</th>      <th>P>|t|</th>  <th>[0.025</th>    <th>0.975]</th>  \n",
       "</tr>\n",
       "<tr>\n",
       "  <th>const</th>         <td>-5.818e+07</td> <td> 4.79e+06</td> <td>  -12.138</td> <td> 0.000</td> <td>-6.76e+07</td> <td>-4.88e+07</td>\n",
       "</tr>\n",
       "<tr>\n",
       "  <th>bedrooms</th>      <td>-2.823e+04</td> <td> 1550.369</td> <td>  -18.210</td> <td> 0.000</td> <td>-3.13e+04</td> <td>-2.52e+04</td>\n",
       "</tr>\n",
       "<tr>\n",
       "  <th>bathrooms</th>     <td> 2.598e+04</td> <td> 2669.907</td> <td>    9.732</td> <td> 0.000</td> <td> 2.07e+04</td> <td> 3.12e+04</td>\n",
       "</tr>\n",
       "<tr>\n",
       "  <th>sqft_living</th>   <td>  192.0039</td> <td>    2.775</td> <td>   69.193</td> <td> 0.000</td> <td>  186.565</td> <td>  197.443</td>\n",
       "</tr>\n",
       "<tr>\n",
       "  <th>floors</th>        <td>-3.617e+04</td> <td> 3052.550</td> <td>  -11.848</td> <td> 0.000</td> <td>-4.21e+04</td> <td>-3.02e+04</td>\n",
       "</tr>\n",
       "<tr>\n",
       "  <th>waterfront</th>    <td> 6.844e+05</td> <td> 1.48e+04</td> <td>   46.322</td> <td> 0.000</td> <td> 6.55e+05</td> <td> 7.13e+05</td>\n",
       "</tr>\n",
       "<tr>\n",
       "  <th>view</th>          <td> 5.363e+04</td> <td> 1739.211</td> <td>   30.836</td> <td> 0.000</td> <td> 5.02e+04</td> <td>  5.7e+04</td>\n",
       "</tr>\n",
       "<tr>\n",
       "  <th>condition</th>     <td> 2.477e+04</td> <td> 1937.640</td> <td>   12.784</td> <td> 0.000</td> <td>  2.1e+04</td> <td> 2.86e+04</td>\n",
       "</tr>\n",
       "<tr>\n",
       "  <th>grade</th>         <td> 6.266e+04</td> <td> 1814.314</td> <td>   34.537</td> <td> 0.000</td> <td> 5.91e+04</td> <td> 6.62e+04</td>\n",
       "</tr>\n",
       "<tr>\n",
       "  <th>basement</th>      <td>-5.542e+04</td> <td> 2826.965</td> <td>  -19.605</td> <td> 0.000</td> <td> -6.1e+04</td> <td>-4.99e+04</td>\n",
       "</tr>\n",
       "<tr>\n",
       "  <th>yr_built</th>      <td> -785.2792</td> <td>   64.593</td> <td>  -12.157</td> <td> 0.000</td> <td> -911.887</td> <td> -658.672</td>\n",
       "</tr>\n",
       "<tr>\n",
       "  <th>renovated</th>     <td> 3.666e+04</td> <td> 6435.695</td> <td>    5.696</td> <td> 0.000</td> <td>  2.4e+04</td> <td> 4.93e+04</td>\n",
       "</tr>\n",
       "<tr>\n",
       "  <th>sqft_living15</th> <td>   13.3443</td> <td>    2.893</td> <td>    4.612</td> <td> 0.000</td> <td>    7.673</td> <td>   19.015</td>\n",
       "</tr>\n",
       "<tr>\n",
       "  <th>year_sold</th>     <td> 2.939e+04</td> <td> 2378.406</td> <td>   12.356</td> <td> 0.000</td> <td> 2.47e+04</td> <td>  3.4e+04</td>\n",
       "</tr>\n",
       "<tr>\n",
       "  <th>zip_98002</th>     <td> 2.544e+04</td> <td> 1.44e+04</td> <td>    1.770</td> <td> 0.077</td> <td>-2723.961</td> <td> 5.36e+04</td>\n",
       "</tr>\n",
       "<tr>\n",
       "  <th>zip_98003</th>     <td>-2.016e+04</td> <td>  1.3e+04</td> <td>   -1.557</td> <td> 0.120</td> <td>-4.55e+04</td> <td> 5227.195</td>\n",
       "</tr>\n",
       "<tr>\n",
       "  <th>zip_98004</th>     <td> 7.662e+05</td> <td> 1.27e+04</td> <td>   60.505</td> <td> 0.000</td> <td> 7.41e+05</td> <td> 7.91e+05</td>\n",
       "</tr>\n",
       "<tr>\n",
       "  <th>zip_98005</th>     <td> 2.942e+05</td> <td> 1.53e+04</td> <td>   19.276</td> <td> 0.000</td> <td> 2.64e+05</td> <td> 3.24e+05</td>\n",
       "</tr>\n",
       "<tr>\n",
       "  <th>zip_98006</th>     <td>  2.54e+05</td> <td> 1.15e+04</td> <td>   22.178</td> <td> 0.000</td> <td> 2.32e+05</td> <td> 2.76e+05</td>\n",
       "</tr>\n",
       "<tr>\n",
       "  <th>zip_98007</th>     <td> 2.364e+05</td> <td> 1.62e+04</td> <td>   14.592</td> <td> 0.000</td> <td> 2.05e+05</td> <td> 2.68e+05</td>\n",
       "</tr>\n",
       "<tr>\n",
       "  <th>zip_98008</th>     <td> 2.443e+05</td> <td> 1.29e+04</td> <td>   18.921</td> <td> 0.000</td> <td> 2.19e+05</td> <td>  2.7e+05</td>\n",
       "</tr>\n",
       "<tr>\n",
       "  <th>zip_98010</th>     <td> 7.338e+04</td> <td> 1.84e+04</td> <td>    3.996</td> <td> 0.000</td> <td> 3.74e+04</td> <td> 1.09e+05</td>\n",
       "</tr>\n",
       "<tr>\n",
       "  <th>zip_98011</th>     <td> 1.203e+05</td> <td> 1.44e+04</td> <td>    8.339</td> <td> 0.000</td> <td> 9.21e+04</td> <td> 1.49e+05</td>\n",
       "</tr>\n",
       "<tr>\n",
       "  <th>zip_98014</th>     <td> 1.127e+05</td> <td> 1.69e+04</td> <td>    6.668</td> <td> 0.000</td> <td> 7.96e+04</td> <td> 1.46e+05</td>\n",
       "</tr>\n",
       "<tr>\n",
       "  <th>zip_98019</th>     <td> 9.206e+04</td> <td> 1.45e+04</td> <td>    6.337</td> <td> 0.000</td> <td> 6.36e+04</td> <td> 1.21e+05</td>\n",
       "</tr>\n",
       "<tr>\n",
       "  <th>zip_98022</th>     <td>-5533.0372</td> <td> 1.37e+04</td> <td>   -0.405</td> <td> 0.685</td> <td>-3.23e+04</td> <td> 2.12e+04</td>\n",
       "</tr>\n",
       "<tr>\n",
       "  <th>zip_98023</th>     <td>-3.564e+04</td> <td> 1.12e+04</td> <td>   -3.171</td> <td> 0.002</td> <td>-5.77e+04</td> <td>-1.36e+04</td>\n",
       "</tr>\n",
       "<tr>\n",
       "  <th>zip_98024</th>     <td> 1.682e+05</td> <td> 2.01e+04</td> <td>    8.365</td> <td> 0.000</td> <td> 1.29e+05</td> <td> 2.08e+05</td>\n",
       "</tr>\n",
       "<tr>\n",
       "  <th>zip_98027</th>     <td> 1.674e+05</td> <td> 1.18e+04</td> <td>   14.229</td> <td> 0.000</td> <td> 1.44e+05</td> <td>  1.9e+05</td>\n",
       "</tr>\n",
       "<tr>\n",
       "  <th>zip_98028</th>     <td> 1.141e+05</td> <td> 1.29e+04</td> <td>    8.862</td> <td> 0.000</td> <td> 8.89e+04</td> <td> 1.39e+05</td>\n",
       "</tr>\n",
       "<tr>\n",
       "  <th>zip_98029</th>     <td> 2.048e+05</td> <td> 1.25e+04</td> <td>   16.352</td> <td> 0.000</td> <td>  1.8e+05</td> <td> 2.29e+05</td>\n",
       "</tr>\n",
       "<tr>\n",
       "  <th>zip_98030</th>     <td> 1803.1636</td> <td> 1.33e+04</td> <td>    0.136</td> <td> 0.892</td> <td>-2.42e+04</td> <td> 2.78e+04</td>\n",
       "</tr>\n",
       "<tr>\n",
       "  <th>zip_98031</th>     <td> 1.077e+04</td> <td>  1.3e+04</td> <td>    0.828</td> <td> 0.408</td> <td>-1.47e+04</td> <td> 3.63e+04</td>\n",
       "</tr>\n",
       "<tr>\n",
       "  <th>zip_98032</th>     <td> 3144.3671</td> <td> 1.69e+04</td> <td>    0.186</td> <td> 0.852</td> <td>   -3e+04</td> <td> 3.63e+04</td>\n",
       "</tr>\n",
       "<tr>\n",
       "  <th>zip_98033</th>     <td> 3.606e+05</td> <td> 1.16e+04</td> <td>   31.088</td> <td> 0.000</td> <td> 3.38e+05</td> <td> 3.83e+05</td>\n",
       "</tr>\n",
       "<tr>\n",
       "  <th>zip_98034</th>     <td> 2.012e+05</td> <td>  1.1e+04</td> <td>   18.264</td> <td> 0.000</td> <td>  1.8e+05</td> <td> 2.23e+05</td>\n",
       "</tr>\n",
       "<tr>\n",
       "  <th>zip_98038</th>     <td>   2.9e+04</td> <td> 1.09e+04</td> <td>    2.665</td> <td> 0.008</td> <td> 7672.451</td> <td> 5.03e+04</td>\n",
       "</tr>\n",
       "<tr>\n",
       "  <th>zip_98039</th>     <td> 1.324e+06</td> <td> 2.48e+04</td> <td>   53.283</td> <td> 0.000</td> <td> 1.28e+06</td> <td> 1.37e+06</td>\n",
       "</tr>\n",
       "<tr>\n",
       "  <th>zip_98040</th>     <td> 4.989e+05</td> <td> 1.31e+04</td> <td>   37.986</td> <td> 0.000</td> <td> 4.73e+05</td> <td> 5.25e+05</td>\n",
       "</tr>\n",
       "<tr>\n",
       "  <th>zip_98042</th>     <td> 3387.2000</td> <td>  1.1e+04</td> <td>    0.308</td> <td> 0.758</td> <td>-1.82e+04</td> <td>  2.5e+04</td>\n",
       "</tr>\n",
       "<tr>\n",
       "  <th>zip_98045</th>     <td> 9.685e+04</td> <td> 1.39e+04</td> <td>    6.973</td> <td> 0.000</td> <td> 6.96e+04</td> <td> 1.24e+05</td>\n",
       "</tr>\n",
       "<tr>\n",
       "  <th>zip_98052</th>     <td> 2.243e+05</td> <td>  1.1e+04</td> <td>   20.462</td> <td> 0.000</td> <td> 2.03e+05</td> <td> 2.46e+05</td>\n",
       "</tr>\n",
       "<tr>\n",
       "  <th>zip_98053</th>     <td> 1.921e+05</td> <td> 1.19e+04</td> <td>   16.166</td> <td> 0.000</td> <td> 1.69e+05</td> <td> 2.15e+05</td>\n",
       "</tr>\n",
       "<tr>\n",
       "  <th>zip_98055</th>     <td> 4.302e+04</td> <td> 1.32e+04</td> <td>    3.265</td> <td> 0.001</td> <td> 1.72e+04</td> <td> 6.89e+04</td>\n",
       "</tr>\n",
       "<tr>\n",
       "  <th>zip_98056</th>     <td> 9.288e+04</td> <td> 1.17e+04</td> <td>    7.909</td> <td> 0.000</td> <td> 6.99e+04</td> <td> 1.16e+05</td>\n",
       "</tr>\n",
       "<tr>\n",
       "  <th>zip_98058</th>     <td> 2.618e+04</td> <td> 1.14e+04</td> <td>    2.288</td> <td> 0.022</td> <td> 3750.264</td> <td> 4.86e+04</td>\n",
       "</tr>\n",
       "<tr>\n",
       "  <th>zip_98059</th>     <td>  8.27e+04</td> <td> 1.14e+04</td> <td>    7.243</td> <td> 0.000</td> <td> 6.03e+04</td> <td> 1.05e+05</td>\n",
       "</tr>\n",
       "<tr>\n",
       "  <th>zip_98065</th>     <td> 8.243e+04</td> <td> 1.27e+04</td> <td>    6.489</td> <td> 0.000</td> <td> 5.75e+04</td> <td> 1.07e+05</td>\n",
       "</tr>\n",
       "<tr>\n",
       "  <th>zip_98070</th>     <td> 5922.2200</td> <td> 1.75e+04</td> <td>    0.339</td> <td> 0.735</td> <td>-2.83e+04</td> <td> 4.02e+04</td>\n",
       "</tr>\n",
       "<tr>\n",
       "  <th>zip_98072</th>     <td> 1.499e+05</td> <td> 1.31e+04</td> <td>   11.487</td> <td> 0.000</td> <td> 1.24e+05</td> <td> 1.76e+05</td>\n",
       "</tr>\n",
       "<tr>\n",
       "  <th>zip_98074</th>     <td> 1.668e+05</td> <td> 1.17e+04</td> <td>   14.297</td> <td> 0.000</td> <td> 1.44e+05</td> <td>  1.9e+05</td>\n",
       "</tr>\n",
       "<tr>\n",
       "  <th>zip_98075</th>     <td> 1.636e+05</td> <td> 1.23e+04</td> <td>   13.290</td> <td> 0.000</td> <td> 1.39e+05</td> <td> 1.88e+05</td>\n",
       "</tr>\n",
       "<tr>\n",
       "  <th>zip_98077</th>     <td> 1.206e+05</td> <td> 1.45e+04</td> <td>    8.304</td> <td> 0.000</td> <td> 9.22e+04</td> <td> 1.49e+05</td>\n",
       "</tr>\n",
       "<tr>\n",
       "  <th>zip_98092</th>     <td>-3.802e+04</td> <td> 1.22e+04</td> <td>   -3.128</td> <td> 0.002</td> <td>-6.18e+04</td> <td>-1.42e+04</td>\n",
       "</tr>\n",
       "<tr>\n",
       "  <th>zip_98102</th>     <td> 5.115e+05</td> <td> 1.84e+04</td> <td>   27.806</td> <td> 0.000</td> <td> 4.75e+05</td> <td> 5.48e+05</td>\n",
       "</tr>\n",
       "<tr>\n",
       "  <th>zip_98103</th>     <td> 3.365e+05</td> <td> 1.12e+04</td> <td>   30.101</td> <td> 0.000</td> <td> 3.15e+05</td> <td> 3.58e+05</td>\n",
       "</tr>\n",
       "<tr>\n",
       "  <th>zip_98105</th>     <td> 4.682e+05</td> <td>  1.4e+04</td> <td>   33.334</td> <td> 0.000</td> <td> 4.41e+05</td> <td> 4.96e+05</td>\n",
       "</tr>\n",
       "<tr>\n",
       "  <th>zip_98106</th>     <td> 1.489e+05</td> <td> 1.24e+04</td> <td>   11.975</td> <td> 0.000</td> <td> 1.25e+05</td> <td> 1.73e+05</td>\n",
       "</tr>\n",
       "<tr>\n",
       "  <th>zip_98107</th>     <td> 3.438e+05</td> <td> 1.34e+04</td> <td>   25.632</td> <td> 0.000</td> <td> 3.17e+05</td> <td>  3.7e+05</td>\n",
       "</tr>\n",
       "<tr>\n",
       "  <th>zip_98108</th>     <td> 1.292e+05</td> <td> 1.47e+04</td> <td>    8.765</td> <td> 0.000</td> <td>    1e+05</td> <td> 1.58e+05</td>\n",
       "</tr>\n",
       "<tr>\n",
       "  <th>zip_98109</th>     <td> 4.912e+05</td> <td>  1.8e+04</td> <td>   27.273</td> <td> 0.000</td> <td> 4.56e+05</td> <td> 5.27e+05</td>\n",
       "</tr>\n",
       "<tr>\n",
       "  <th>zip_98112</th>     <td> 6.165e+05</td> <td> 1.36e+04</td> <td>   45.449</td> <td> 0.000</td> <td>  5.9e+05</td> <td> 6.43e+05</td>\n",
       "</tr>\n",
       "<tr>\n",
       "  <th>zip_98115</th>     <td> 3.294e+05</td> <td> 1.11e+04</td> <td>   29.606</td> <td> 0.000</td> <td> 3.08e+05</td> <td> 3.51e+05</td>\n",
       "</tr>\n",
       "<tr>\n",
       "  <th>zip_98116</th>     <td> 2.897e+05</td> <td> 1.26e+04</td> <td>   22.975</td> <td> 0.000</td> <td> 2.65e+05</td> <td> 3.14e+05</td>\n",
       "</tr>\n",
       "<tr>\n",
       "  <th>zip_98117</th>     <td> 3.172e+05</td> <td> 1.13e+04</td> <td>   28.157</td> <td> 0.000</td> <td> 2.95e+05</td> <td> 3.39e+05</td>\n",
       "</tr>\n",
       "<tr>\n",
       "  <th>zip_98118</th>     <td>  1.69e+05</td> <td> 1.14e+04</td> <td>   14.870</td> <td> 0.000</td> <td> 1.47e+05</td> <td> 1.91e+05</td>\n",
       "</tr>\n",
       "<tr>\n",
       "  <th>zip_98119</th>     <td> 4.762e+05</td> <td> 1.51e+04</td> <td>   31.569</td> <td> 0.000</td> <td> 4.47e+05</td> <td> 5.06e+05</td>\n",
       "</tr>\n",
       "<tr>\n",
       "  <th>zip_98122</th>     <td> 3.379e+05</td> <td> 1.32e+04</td> <td>   25.643</td> <td> 0.000</td> <td> 3.12e+05</td> <td> 3.64e+05</td>\n",
       "</tr>\n",
       "<tr>\n",
       "  <th>zip_98125</th>     <td> 1.989e+05</td> <td> 1.18e+04</td> <td>   16.821</td> <td> 0.000</td> <td> 1.76e+05</td> <td> 2.22e+05</td>\n",
       "</tr>\n",
       "<tr>\n",
       "  <th>zip_98126</th>     <td> 1.977e+05</td> <td> 1.23e+04</td> <td>   16.045</td> <td> 0.000</td> <td> 1.74e+05</td> <td> 2.22e+05</td>\n",
       "</tr>\n",
       "<tr>\n",
       "  <th>zip_98133</th>     <td>  1.65e+05</td> <td> 1.13e+04</td> <td>   14.555</td> <td> 0.000</td> <td> 1.43e+05</td> <td> 1.87e+05</td>\n",
       "</tr>\n",
       "<tr>\n",
       "  <th>zip_98136</th>     <td> 2.469e+05</td> <td> 1.33e+04</td> <td>   18.533</td> <td> 0.000</td> <td> 2.21e+05</td> <td> 2.73e+05</td>\n",
       "</tr>\n",
       "<tr>\n",
       "  <th>zip_98144</th>     <td> 2.782e+05</td> <td> 1.25e+04</td> <td>   22.278</td> <td> 0.000</td> <td> 2.54e+05</td> <td> 3.03e+05</td>\n",
       "</tr>\n",
       "<tr>\n",
       "  <th>zip_98146</th>     <td> 1.126e+05</td> <td>  1.3e+04</td> <td>    8.686</td> <td> 0.000</td> <td> 8.72e+04</td> <td> 1.38e+05</td>\n",
       "</tr>\n",
       "<tr>\n",
       "  <th>zip_98148</th>     <td> 6.439e+04</td> <td> 2.32e+04</td> <td>    2.771</td> <td> 0.006</td> <td> 1.88e+04</td> <td>  1.1e+05</td>\n",
       "</tr>\n",
       "<tr>\n",
       "  <th>zip_98155</th>     <td> 1.469e+05</td> <td> 1.15e+04</td> <td>   12.735</td> <td> 0.000</td> <td> 1.24e+05</td> <td> 1.69e+05</td>\n",
       "</tr>\n",
       "<tr>\n",
       "  <th>zip_98166</th>     <td> 5.476e+04</td> <td> 1.34e+04</td> <td>    4.086</td> <td> 0.000</td> <td> 2.85e+04</td> <td>  8.1e+04</td>\n",
       "</tr>\n",
       "<tr>\n",
       "  <th>zip_98168</th>     <td> 8.106e+04</td> <td> 1.32e+04</td> <td>    6.140</td> <td> 0.000</td> <td> 5.52e+04</td> <td> 1.07e+05</td>\n",
       "</tr>\n",
       "<tr>\n",
       "  <th>zip_98177</th>     <td> 2.163e+05</td> <td> 1.34e+04</td> <td>   16.156</td> <td> 0.000</td> <td>  1.9e+05</td> <td> 2.43e+05</td>\n",
       "</tr>\n",
       "<tr>\n",
       "  <th>zip_98178</th>     <td>   3.5e+04</td> <td> 1.33e+04</td> <td>    2.634</td> <td> 0.008</td> <td> 8953.199</td> <td>  6.1e+04</td>\n",
       "</tr>\n",
       "<tr>\n",
       "  <th>zip_98188</th>     <td> 3.277e+04</td> <td> 1.63e+04</td> <td>    2.006</td> <td> 0.045</td> <td>  756.017</td> <td> 6.48e+04</td>\n",
       "</tr>\n",
       "<tr>\n",
       "  <th>zip_98198</th>     <td>-2027.7182</td> <td>  1.3e+04</td> <td>   -0.156</td> <td> 0.876</td> <td>-2.75e+04</td> <td> 2.34e+04</td>\n",
       "</tr>\n",
       "<tr>\n",
       "  <th>zip_98199</th>     <td> 3.844e+05</td> <td> 1.27e+04</td> <td>   30.161</td> <td> 0.000</td> <td> 3.59e+05</td> <td> 4.09e+05</td>\n",
       "</tr>\n",
       "</table>\n",
       "<table class=\"simpletable\">\n",
       "<tr>\n",
       "  <th>Omnibus:</th>       <td>20526.611</td> <th>  Durbin-Watson:     </th>  <td>   1.994</td>  \n",
       "</tr>\n",
       "<tr>\n",
       "  <th>Prob(Omnibus):</th>  <td> 0.000</td>   <th>  Jarque-Bera (JB):  </th> <td>4080646.451</td>\n",
       "</tr>\n",
       "<tr>\n",
       "  <th>Skew:</th>           <td> 4.130</td>   <th>  Prob(JB):          </th>  <td>    0.00</td>  \n",
       "</tr>\n",
       "<tr>\n",
       "  <th>Kurtosis:</th>       <td>70.111</td>   <th>  Cond. No.          </th>  <td>1.78e+07</td>  \n",
       "</tr>\n",
       "</table><br/><br/>Warnings:<br/>[1] Standard Errors assume that the covariance matrix of the errors is correctly specified.<br/>[2] The condition number is large, 1.78e+07. This might indicate that there are<br/>strong multicollinearity or other numerical problems."
      ],
      "text/plain": [
       "<class 'statsmodels.iolib.summary.Summary'>\n",
       "\"\"\"\n",
       "                            OLS Regression Results                            \n",
       "==============================================================================\n",
       "Dep. Variable:                  price   R-squared:                       0.808\n",
       "Model:                            OLS   Adj. R-squared:                  0.807\n",
       "Method:                 Least Squares   F-statistic:                     1096.\n",
       "Date:                Thu, 05 Nov 2020   Prob (F-statistic):               0.00\n",
       "Time:                        15:37:39   Log-Likelihood:            -2.8722e+05\n",
       "No. Observations:               21420   AIC:                         5.746e+05\n",
       "Df Residuals:                   21337   BIC:                         5.753e+05\n",
       "Df Model:                          82                                         \n",
       "Covariance Type:            nonrobust                                         \n",
       "=================================================================================\n",
       "                    coef    std err          t      P>|t|      [0.025      0.975]\n",
       "---------------------------------------------------------------------------------\n",
       "const         -5.818e+07   4.79e+06    -12.138      0.000   -6.76e+07   -4.88e+07\n",
       "bedrooms      -2.823e+04   1550.369    -18.210      0.000   -3.13e+04   -2.52e+04\n",
       "bathrooms      2.598e+04   2669.907      9.732      0.000    2.07e+04    3.12e+04\n",
       "sqft_living     192.0039      2.775     69.193      0.000     186.565     197.443\n",
       "floors        -3.617e+04   3052.550    -11.848      0.000   -4.21e+04   -3.02e+04\n",
       "waterfront     6.844e+05   1.48e+04     46.322      0.000    6.55e+05    7.13e+05\n",
       "view           5.363e+04   1739.211     30.836      0.000    5.02e+04     5.7e+04\n",
       "condition      2.477e+04   1937.640     12.784      0.000     2.1e+04    2.86e+04\n",
       "grade          6.266e+04   1814.314     34.537      0.000    5.91e+04    6.62e+04\n",
       "basement      -5.542e+04   2826.965    -19.605      0.000    -6.1e+04   -4.99e+04\n",
       "yr_built       -785.2792     64.593    -12.157      0.000    -911.887    -658.672\n",
       "renovated      3.666e+04   6435.695      5.696      0.000     2.4e+04    4.93e+04\n",
       "sqft_living15    13.3443      2.893      4.612      0.000       7.673      19.015\n",
       "year_sold      2.939e+04   2378.406     12.356      0.000    2.47e+04     3.4e+04\n",
       "zip_98002      2.544e+04   1.44e+04      1.770      0.077   -2723.961    5.36e+04\n",
       "zip_98003     -2.016e+04    1.3e+04     -1.557      0.120   -4.55e+04    5227.195\n",
       "zip_98004      7.662e+05   1.27e+04     60.505      0.000    7.41e+05    7.91e+05\n",
       "zip_98005      2.942e+05   1.53e+04     19.276      0.000    2.64e+05    3.24e+05\n",
       "zip_98006       2.54e+05   1.15e+04     22.178      0.000    2.32e+05    2.76e+05\n",
       "zip_98007      2.364e+05   1.62e+04     14.592      0.000    2.05e+05    2.68e+05\n",
       "zip_98008      2.443e+05   1.29e+04     18.921      0.000    2.19e+05     2.7e+05\n",
       "zip_98010      7.338e+04   1.84e+04      3.996      0.000    3.74e+04    1.09e+05\n",
       "zip_98011      1.203e+05   1.44e+04      8.339      0.000    9.21e+04    1.49e+05\n",
       "zip_98014      1.127e+05   1.69e+04      6.668      0.000    7.96e+04    1.46e+05\n",
       "zip_98019      9.206e+04   1.45e+04      6.337      0.000    6.36e+04    1.21e+05\n",
       "zip_98022     -5533.0372   1.37e+04     -0.405      0.685   -3.23e+04    2.12e+04\n",
       "zip_98023     -3.564e+04   1.12e+04     -3.171      0.002   -5.77e+04   -1.36e+04\n",
       "zip_98024      1.682e+05   2.01e+04      8.365      0.000    1.29e+05    2.08e+05\n",
       "zip_98027      1.674e+05   1.18e+04     14.229      0.000    1.44e+05     1.9e+05\n",
       "zip_98028      1.141e+05   1.29e+04      8.862      0.000    8.89e+04    1.39e+05\n",
       "zip_98029      2.048e+05   1.25e+04     16.352      0.000     1.8e+05    2.29e+05\n",
       "zip_98030      1803.1636   1.33e+04      0.136      0.892   -2.42e+04    2.78e+04\n",
       "zip_98031      1.077e+04    1.3e+04      0.828      0.408   -1.47e+04    3.63e+04\n",
       "zip_98032      3144.3671   1.69e+04      0.186      0.852      -3e+04    3.63e+04\n",
       "zip_98033      3.606e+05   1.16e+04     31.088      0.000    3.38e+05    3.83e+05\n",
       "zip_98034      2.012e+05    1.1e+04     18.264      0.000     1.8e+05    2.23e+05\n",
       "zip_98038        2.9e+04   1.09e+04      2.665      0.008    7672.451    5.03e+04\n",
       "zip_98039      1.324e+06   2.48e+04     53.283      0.000    1.28e+06    1.37e+06\n",
       "zip_98040      4.989e+05   1.31e+04     37.986      0.000    4.73e+05    5.25e+05\n",
       "zip_98042      3387.2000    1.1e+04      0.308      0.758   -1.82e+04     2.5e+04\n",
       "zip_98045      9.685e+04   1.39e+04      6.973      0.000    6.96e+04    1.24e+05\n",
       "zip_98052      2.243e+05    1.1e+04     20.462      0.000    2.03e+05    2.46e+05\n",
       "zip_98053      1.921e+05   1.19e+04     16.166      0.000    1.69e+05    2.15e+05\n",
       "zip_98055      4.302e+04   1.32e+04      3.265      0.001    1.72e+04    6.89e+04\n",
       "zip_98056      9.288e+04   1.17e+04      7.909      0.000    6.99e+04    1.16e+05\n",
       "zip_98058      2.618e+04   1.14e+04      2.288      0.022    3750.264    4.86e+04\n",
       "zip_98059       8.27e+04   1.14e+04      7.243      0.000    6.03e+04    1.05e+05\n",
       "zip_98065      8.243e+04   1.27e+04      6.489      0.000    5.75e+04    1.07e+05\n",
       "zip_98070      5922.2200   1.75e+04      0.339      0.735   -2.83e+04    4.02e+04\n",
       "zip_98072      1.499e+05   1.31e+04     11.487      0.000    1.24e+05    1.76e+05\n",
       "zip_98074      1.668e+05   1.17e+04     14.297      0.000    1.44e+05     1.9e+05\n",
       "zip_98075      1.636e+05   1.23e+04     13.290      0.000    1.39e+05    1.88e+05\n",
       "zip_98077      1.206e+05   1.45e+04      8.304      0.000    9.22e+04    1.49e+05\n",
       "zip_98092     -3.802e+04   1.22e+04     -3.128      0.002   -6.18e+04   -1.42e+04\n",
       "zip_98102      5.115e+05   1.84e+04     27.806      0.000    4.75e+05    5.48e+05\n",
       "zip_98103      3.365e+05   1.12e+04     30.101      0.000    3.15e+05    3.58e+05\n",
       "zip_98105      4.682e+05    1.4e+04     33.334      0.000    4.41e+05    4.96e+05\n",
       "zip_98106      1.489e+05   1.24e+04     11.975      0.000    1.25e+05    1.73e+05\n",
       "zip_98107      3.438e+05   1.34e+04     25.632      0.000    3.17e+05     3.7e+05\n",
       "zip_98108      1.292e+05   1.47e+04      8.765      0.000       1e+05    1.58e+05\n",
       "zip_98109      4.912e+05    1.8e+04     27.273      0.000    4.56e+05    5.27e+05\n",
       "zip_98112      6.165e+05   1.36e+04     45.449      0.000     5.9e+05    6.43e+05\n",
       "zip_98115      3.294e+05   1.11e+04     29.606      0.000    3.08e+05    3.51e+05\n",
       "zip_98116      2.897e+05   1.26e+04     22.975      0.000    2.65e+05    3.14e+05\n",
       "zip_98117      3.172e+05   1.13e+04     28.157      0.000    2.95e+05    3.39e+05\n",
       "zip_98118       1.69e+05   1.14e+04     14.870      0.000    1.47e+05    1.91e+05\n",
       "zip_98119      4.762e+05   1.51e+04     31.569      0.000    4.47e+05    5.06e+05\n",
       "zip_98122      3.379e+05   1.32e+04     25.643      0.000    3.12e+05    3.64e+05\n",
       "zip_98125      1.989e+05   1.18e+04     16.821      0.000    1.76e+05    2.22e+05\n",
       "zip_98126      1.977e+05   1.23e+04     16.045      0.000    1.74e+05    2.22e+05\n",
       "zip_98133       1.65e+05   1.13e+04     14.555      0.000    1.43e+05    1.87e+05\n",
       "zip_98136      2.469e+05   1.33e+04     18.533      0.000    2.21e+05    2.73e+05\n",
       "zip_98144      2.782e+05   1.25e+04     22.278      0.000    2.54e+05    3.03e+05\n",
       "zip_98146      1.126e+05    1.3e+04      8.686      0.000    8.72e+04    1.38e+05\n",
       "zip_98148      6.439e+04   2.32e+04      2.771      0.006    1.88e+04     1.1e+05\n",
       "zip_98155      1.469e+05   1.15e+04     12.735      0.000    1.24e+05    1.69e+05\n",
       "zip_98166      5.476e+04   1.34e+04      4.086      0.000    2.85e+04     8.1e+04\n",
       "zip_98168      8.106e+04   1.32e+04      6.140      0.000    5.52e+04    1.07e+05\n",
       "zip_98177      2.163e+05   1.34e+04     16.156      0.000     1.9e+05    2.43e+05\n",
       "zip_98178        3.5e+04   1.33e+04      2.634      0.008    8953.199     6.1e+04\n",
       "zip_98188      3.277e+04   1.63e+04      2.006      0.045     756.017    6.48e+04\n",
       "zip_98198     -2027.7182    1.3e+04     -0.156      0.876   -2.75e+04    2.34e+04\n",
       "zip_98199      3.844e+05   1.27e+04     30.161      0.000    3.59e+05    4.09e+05\n",
       "==============================================================================\n",
       "Omnibus:                    20526.611   Durbin-Watson:                   1.994\n",
       "Prob(Omnibus):                  0.000   Jarque-Bera (JB):          4080646.451\n",
       "Skew:                           4.130   Prob(JB):                         0.00\n",
       "Kurtosis:                      70.111   Cond. No.                     1.78e+07\n",
       "==============================================================================\n",
       "\n",
       "Warnings:\n",
       "[1] Standard Errors assume that the covariance matrix of the errors is correctly specified.\n",
       "[2] The condition number is large, 1.78e+07. This might indicate that there are\n",
       "strong multicollinearity or other numerical problems.\n",
       "\"\"\""
      ]
     },
     "execution_count": 29,
     "metadata": {},
     "output_type": "execute_result"
    }
   ],
   "source": [
    "predictors = df2.drop(['price','id'], axis=1)\n",
    "predictors_int = sm.add_constant(predictors)\n",
    "\n",
    "model = sm.OLS(df2['price'],predictors_int.astype(float)).fit()\n",
    "model.summary()"
   ]
  },
  {
   "cell_type": "markdown",
   "metadata": {},
   "source": [
    "The Adjusted R-Squared increased a lot. The skewness and kurtosis are better. First I will create this model again in Scikit."
   ]
  },
  {
   "cell_type": "code",
   "execution_count": 30,
   "metadata": {},
   "outputs": [
    {
     "name": "stdout",
     "output_type": "stream",
     "text": [
      "Train Mean Squarred Error:   26741604232.210163\n",
      "Test Mean Squarred Error:    23168871217.363934\n",
      "R-squared                    = 0.8056690583560636\n",
      "Mean Squared Error using CV  = 26399134347.101\n"
     ]
    }
   ],
   "source": [
    "y = df2['price']\n",
    "X = df2.drop(['id', 'price'], axis=1)\n",
    "\n",
    "# Split data for testing\n",
    "X_train, X_test, y_train, y_test = train_test_split(X, y, test_size=0.2, random_state=55)\n",
    "\n",
    "# Fit the model\n",
    "linreg = LinearRegression()\n",
    "linreg.fit(X_train, y_train)\n",
    "mse = make_scorer(mean_squared_error)\n",
    "\n",
    "# Create K-fold with 10 splits\n",
    "crossvalidation = KFold(n_splits=10, shuffle=True, random_state=1)\n",
    "\n",
    "# Find R-squared and MSE\n",
    "rsquared = np.mean(cross_val_score(linreg, X, y, scoring='r2', cv=crossvalidation))\n",
    "cv_10_results = cross_val_score(linreg, X, y, cv=crossvalidation, scoring=mse)\n",
    "\n",
    "#Predict data\n",
    "y_hat_train = linreg.predict(X_train)\n",
    "y_hat_test = linreg.predict(X_test)\n",
    "#Calculate two diffrent MSE\n",
    "train_mse = mean_squared_error(y_train, y_hat_train)\n",
    "test_mse = mean_squared_error(y_test, y_hat_test)\n",
    "print('Train Mean Squarred Error:  ', train_mse)\n",
    "print('Test Mean Squarred Error:   ', test_mse)\n",
    "\n",
    "print(f'R-squared                    = {rsquared}')\n",
    "print(f'Mean Squared Error using CV  = {cv_10_results.mean()}')\n",
    "\n"
   ]
  },
  {
   "cell_type": "markdown",
   "metadata": {},
   "source": [
    "Again we see that the R-squared got better and the MSE for the test data is actually less than the training data.\n",
    "\n",
    "Next I will try to log transform and normalize the continous variables to see if that can improve the model.\n",
    "\n",
    "## Answer - Creating the dummy variables for zipcodes improved Adjusted R-squared alot.\n",
    "\n",
    "# Question - Will removing outliers improve the model?"
   ]
  },
  {
   "cell_type": "code",
   "execution_count": 31,
   "metadata": {
    "scrolled": true
   },
   "outputs": [
    {
     "name": "stdout",
     "output_type": "stream",
     "text": [
      "bedrooms\n",
      "0.00     1.0\n",
      "0.01     2.0\n",
      "0.02     2.0\n",
      "0.03     2.0\n",
      "0.04     2.0\n",
      "0.05     2.0\n",
      "0.95     5.0\n",
      "0.96     5.0\n",
      "0.97     5.0\n",
      "0.98     5.0\n",
      "0.99     6.0\n",
      "1.00    33.0\n",
      "Name: bedrooms, dtype: float64 \n",
      "\n",
      "\n",
      "bathrooms\n",
      "0.00    0.50\n",
      "0.01    1.00\n",
      "0.02    1.00\n",
      "0.03    1.00\n",
      "0.04    1.00\n",
      "0.05    1.00\n",
      "0.95    3.50\n",
      "0.96    3.50\n",
      "0.97    3.50\n",
      "0.98    3.75\n",
      "0.99    4.25\n",
      "1.00    8.00\n",
      "Name: bathrooms, dtype: float64 \n",
      "\n",
      "\n",
      "sqft_living\n",
      "0.00      370.0\n",
      "0.01      720.0\n",
      "0.02      790.0\n",
      "0.03      850.0\n",
      "0.04      900.0\n",
      "0.05      940.0\n",
      "0.95     3770.0\n",
      "0.96     3930.0\n",
      "0.97     4140.0\n",
      "0.98     4410.0\n",
      "0.99     4980.0\n",
      "1.00    13540.0\n",
      "Name: sqft_living, dtype: float64 \n",
      "\n",
      "\n",
      "floors\n",
      "0.00    1.0\n",
      "0.01    1.0\n",
      "0.02    1.0\n",
      "0.03    1.0\n",
      "0.04    1.0\n",
      "0.05    1.0\n",
      "0.95    2.0\n",
      "0.96    2.0\n",
      "0.97    2.5\n",
      "0.98    3.0\n",
      "0.99    3.0\n",
      "1.00    3.5\n",
      "Name: floors, dtype: float64 \n",
      "\n",
      "\n",
      "condition\n",
      "0.00    1.0\n",
      "0.01    3.0\n",
      "0.02    3.0\n",
      "0.03    3.0\n",
      "0.04    3.0\n",
      "0.05    3.0\n",
      "0.95    5.0\n",
      "0.96    5.0\n",
      "0.97    5.0\n",
      "0.98    5.0\n",
      "0.99    5.0\n",
      "1.00    5.0\n",
      "Name: condition, dtype: float64 \n",
      "\n",
      "\n",
      "grade\n",
      "0.00     3.0\n",
      "0.01     5.0\n",
      "0.02     6.0\n",
      "0.03     6.0\n",
      "0.04     6.0\n",
      "0.05     6.0\n",
      "0.95    10.0\n",
      "0.96    10.0\n",
      "0.97    10.0\n",
      "0.98    11.0\n",
      "0.99    11.0\n",
      "1.00    13.0\n",
      "Name: grade, dtype: float64 \n",
      "\n",
      "\n",
      "sqft_living15\n",
      "0.00     399.0\n",
      "0.01     950.0\n",
      "0.02    1020.0\n",
      "0.03    1070.0\n",
      "0.04    1100.0\n",
      "0.05    1140.0\n",
      "0.95    3300.0\n",
      "0.96    3420.0\n",
      "0.97    3560.0\n",
      "0.98    3770.0\n",
      "0.99    4080.0\n",
      "1.00    6210.0\n",
      "Name: sqft_living15, dtype: float64 \n",
      "\n",
      "\n",
      "price\n",
      "0.00      78000.0\n",
      "0.01     154000.0\n",
      "0.02     175000.0\n",
      "0.03     192000.0\n",
      "0.04     202500.0\n",
      "0.05     210000.0\n",
      "0.95    1160000.0\n",
      "0.96    1260000.0\n",
      "0.97    1390000.0\n",
      "0.98    1600000.0\n",
      "0.99    1970000.0\n",
      "1.00    7700000.0\n",
      "Name: price, dtype: float64 \n",
      "\n",
      "\n"
     ]
    }
   ],
   "source": [
    "continous_columns = ['bedrooms', 'bathrooms', 'sqft_living', 'floors', 'condition', 'grade', \n",
    "           'sqft_living15', 'price']\n",
    "for col in continous_columns:\n",
    "    print(col)\n",
    "    print(df2[col].quantile([.0, .01, .02, .03, .04, .05, .95, .96, .97, .98, .99, 1]), '\\n\\n')"
   ]
  },
  {
   "cell_type": "markdown",
   "metadata": {},
   "source": [
    "Looking at the Max and Min quantile, I can see that there are quiet a few outliers. I will use the IQR method to remove outliers from all the continous data.\n"
   ]
  },
  {
   "cell_type": "code",
   "execution_count": 32,
   "metadata": {},
   "outputs": [],
   "source": [
    "# #Drop the absolute extreme outliers.\n",
    "df3 = df2.copy()\n",
    "\n",
    "Q1 = df3.quantile(0.25)\n",
    "Q3 = df3.quantile(0.75)\n",
    "IQR = Q3 - Q1\n",
    "lower_range = Q1-(1.5*IQR)\n",
    "upper_range = Q3+(1.5*IQR)\n",
    "for col in continous_columns:\n",
    "    df3[col] = df3[col].map(lambda x: None if x > upper_range[col] else x)\n",
    "    df3[col] = df3[col].map(lambda x: None if x < lower_range[col] else x)\n",
    "\n",
    "# dropping rows with null values\n",
    "df3 = df3.dropna()"
   ]
  },
  {
   "cell_type": "code",
   "execution_count": 33,
   "metadata": {
    "scrolled": true
   },
   "outputs": [
    {
     "name": "stdout",
     "output_type": "stream",
     "text": [
      "bedrooms\n",
      "0.00    2.0\n",
      "0.01    2.0\n",
      "0.02    2.0\n",
      "0.03    2.0\n",
      "0.04    2.0\n",
      "0.05    2.0\n",
      "0.95    5.0\n",
      "0.96    5.0\n",
      "0.97    5.0\n",
      "0.98    5.0\n",
      "0.99    5.0\n",
      "1.00    5.0\n",
      "Name: bedrooms, dtype: float64 \n",
      "\n",
      "\n",
      "bathrooms\n",
      "0.00    0.75\n",
      "0.01    1.00\n",
      "0.02    1.00\n",
      "0.03    1.00\n",
      "0.04    1.00\n",
      "0.05    1.00\n",
      "0.95    3.00\n",
      "0.96    3.00\n",
      "0.97    3.25\n",
      "0.98    3.50\n",
      "0.99    3.50\n",
      "1.00    3.50\n",
      "Name: bathrooms, dtype: float64 \n",
      "\n",
      "\n",
      "sqft_living\n",
      "0.00     560.0\n",
      "0.01     770.0\n",
      "0.02     830.0\n",
      "0.03     880.0\n",
      "0.04     920.0\n",
      "0.05     960.0\n",
      "0.95    3120.0\n",
      "0.96    3200.0\n",
      "0.97    3291.5\n",
      "0.98    3420.0\n",
      "0.99    3640.0\n",
      "1.00    4230.0\n",
      "Name: sqft_living, dtype: float64 \n",
      "\n",
      "\n",
      "floors\n",
      "0.00    1.0\n",
      "0.01    1.0\n",
      "0.02    1.0\n",
      "0.03    1.0\n",
      "0.04    1.0\n",
      "0.05    1.0\n",
      "0.95    2.0\n",
      "0.96    2.0\n",
      "0.97    2.5\n",
      "0.98    3.0\n",
      "0.99    3.0\n",
      "1.00    3.5\n",
      "Name: floors, dtype: float64 \n",
      "\n",
      "\n",
      "condition\n",
      "0.00    2.0\n",
      "0.01    3.0\n",
      "0.02    3.0\n",
      "0.03    3.0\n",
      "0.04    3.0\n",
      "0.05    3.0\n",
      "0.95    5.0\n",
      "0.96    5.0\n",
      "0.97    5.0\n",
      "0.98    5.0\n",
      "0.99    5.0\n",
      "1.00    5.0\n",
      "Name: condition, dtype: float64 \n",
      "\n",
      "\n",
      "grade\n",
      "0.00    6.0\n",
      "0.01    6.0\n",
      "0.02    6.0\n",
      "0.03    6.0\n",
      "0.04    6.0\n",
      "0.05    6.0\n",
      "0.95    9.0\n",
      "0.96    9.0\n",
      "0.97    9.0\n",
      "0.98    9.0\n",
      "0.99    9.0\n",
      "1.00    9.0\n",
      "Name: grade, dtype: float64 \n",
      "\n",
      "\n",
      "sqft_living15\n",
      "0.00     399.00\n",
      "0.01     950.00\n",
      "0.02    1020.00\n",
      "0.03    1060.00\n",
      "0.04    1100.00\n",
      "0.05    1131.75\n",
      "0.95    2880.00\n",
      "0.96    2950.00\n",
      "0.97    3020.00\n",
      "0.98    3150.00\n",
      "0.99    3300.00\n",
      "1.00    3690.00\n",
      "Name: sqft_living15, dtype: float64 \n",
      "\n",
      "\n",
      "price\n",
      "0.00      82000.0\n",
      "0.01     160000.0\n",
      "0.02     179950.0\n",
      "0.03     194734.5\n",
      "0.04     204000.0\n",
      "0.05     210000.0\n",
      "0.95     826000.0\n",
      "0.96     852100.0\n",
      "0.97     890000.0\n",
      "0.98     933039.9\n",
      "0.99     998008.0\n",
      "1.00    1120000.0\n",
      "Name: price, dtype: float64 \n",
      "\n",
      "\n"
     ]
    }
   ],
   "source": [
    "for col in continous_columns:\n",
    "    print(col)\n",
    "    print(df3[col].quantile([.0, .01, .02, .03, .04, .05, .95, .96, .97, .98, .99, 1]), '\\n\\n')"
   ]
  },
  {
   "cell_type": "markdown",
   "metadata": {},
   "source": [
    "# 3rd model after removing outliers"
   ]
  },
  {
   "cell_type": "markdown",
   "metadata": {},
   "source": [
    "### Answer - Removing the outliers also slightly improved R-squared. Next I wil try log transforming and scaling the data."
   ]
  },
  {
   "cell_type": "markdown",
   "metadata": {},
   "source": [
    "\n",
    "# Question-  Will log transforming and scaling the continous data create a better fit?"
   ]
  },
  {
   "cell_type": "markdown",
   "metadata": {},
   "source": [
    "First I will create a distplot to find the distribrution of the continous data. I will create a kde graph with smoothing to plot the other numerical columns."
   ]
  },
  {
   "cell_type": "code",
   "execution_count": 34,
   "metadata": {},
   "outputs": [
    {
     "data": {
      "image/png": "[encoded data removed]",
      "text/plain": [
       "<Figure size 432x288 with 1 Axes>"
      ]
     },
     "metadata": {
      "needs_background": "light"
     },
     "output_type": "display_data"
    },
    {
     "data": {
      "image/png": "[encoded data removed]",
      "text/plain": [
       "<Figure size 432x288 with 1 Axes>"
      ]
     },
     "metadata": {
      "needs_background": "light"
     },
     "output_type": "display_data"
    },
    {
     "data": {
      "image/png": "[encoded data removed]",
      "text/plain": [
       "<Figure size 432x288 with 1 Axes>"
      ]
     },
     "metadata": {
      "needs_background": "light"
     },
     "output_type": "display_data"
    },
    {
     "data": {
      "image/png": "[encoded data removed]",
      "text/plain": [
       "<Figure size 432x288 with 1 Axes>"
      ]
     },
     "metadata": {
      "needs_background": "light"
     },
     "output_type": "display_data"
    },
    {
     "data": {
      "image/png": "[encoded data removed]",
      "text/plain": [
       "<Figure size 432x288 with 1 Axes>"
      ]
     },
     "metadata": {
      "needs_background": "light"
     },
     "output_type": "display_data"
    },
    {
     "data": {
      "image/png": "[encoded data removed]",
      "text/plain": [
       "<Figure size 432x288 with 1 Axes>"
      ]
     },
     "metadata": {
      "needs_background": "light"
     },
     "output_type": "display_data"
    },
    {
     "data": {
      "image/png": "[encoded data removed]",
      "text/plain": [
       "<Figure size 432x288 with 1 Axes>"
      ]
     },
     "metadata": {
      "needs_background": "light"
     },
     "output_type": "display_data"
    },
    {
     "data": {
      "image/png": "[encoded data removed]",
      "text/plain": [
       "<Figure size 432x288 with 1 Axes>"
      ]
     },
     "metadata": {
      "needs_background": "light"
     },
     "output_type": "display_data"
    },
    {
     "data": {
      "text/plain": [
       "<Figure size 432x288 with 0 Axes>"
      ]
     },
     "metadata": {},
     "output_type": "display_data"
    }
   ],
   "source": [
    "continous_data = ['sqft_living', 'sqft_living15', 'price']\n",
    "kde_plt = ['bedrooms', 'bathrooms', 'floors', 'condition', 'grade']\n",
    "          \n",
    "for col in continous_data:    \n",
    "    sns.distplot(df3[col], label=col)\n",
    "    plt.figure()\n",
    "\n",
    "for col in kde_plt:\n",
    "    sns.kdeplot(df3[col], bw=0.5)\n",
    "    plt.figure()"
   ]
  },
  {
   "cell_type": "markdown",
   "metadata": {},
   "source": [
    "All five continous data seems to be skewed to the right. The rest of the columns seems to be fine, with just slight skewnees."
   ]
  },
  {
   "cell_type": "code",
   "execution_count": 35,
   "metadata": {},
   "outputs": [],
   "source": [
    "log_normalize_df = df3.copy()"
   ]
  },
  {
   "cell_type": "code",
   "execution_count": 36,
   "metadata": {},
   "outputs": [],
   "source": [
    "non_normal = ['sqft_living', 'sqft_living15', 'price']\n",
    "for col in non_normal:\n",
    "    log_normalize_df[col] = log_normalize_df[col].map(lambda x: np.log(x))"
   ]
  },
  {
   "cell_type": "code",
   "execution_count": 37,
   "metadata": {
    "scrolled": true
   },
   "outputs": [
    {
     "data": {
      "image/png": "[encoded data removed]",
      "text/plain": [
       "<Figure size 432x288 with 1 Axes>"
      ]
     },
     "metadata": {
      "needs_background": "light"
     },
     "output_type": "display_data"
    },
    {
     "data": {
      "image/png": "[encoded data removed]",
      "text/plain": [
       "<Figure size 432x288 with 1 Axes>"
      ]
     },
     "metadata": {
      "needs_background": "light"
     },
     "output_type": "display_data"
    },
    {
     "data": {
      "image/png": "[encoded data removed]",
      "text/plain": [
       "<Figure size 432x288 with 1 Axes>"
      ]
     },
     "metadata": {
      "needs_background": "light"
     },
     "output_type": "display_data"
    },
    {
     "data": {
      "image/png": "[encoded data removed]",
      "text/plain": [
       "<Figure size 432x288 with 1 Axes>"
      ]
     },
     "metadata": {
      "needs_background": "light"
     },
     "output_type": "display_data"
    },
    {
     "data": {
      "image/png": "[encoded data removed]",
      "text/plain": [
       "<Figure size 432x288 with 1 Axes>"
      ]
     },
     "metadata": {
      "needs_background": "light"
     },
     "output_type": "display_data"
    },
    {
     "data": {
      "image/png": "[encoded data removed]",
      "text/plain": [
       "<Figure size 432x288 with 1 Axes>"
      ]
     },
     "metadata": {
      "needs_background": "light"
     },
     "output_type": "display_data"
    },
    {
     "data": {
      "image/png": "[encoded data removed]",
      "text/plain": [
       "<Figure size 432x288 with 1 Axes>"
      ]
     },
     "metadata": {
      "needs_background": "light"
     },
     "output_type": "display_data"
    },
    {
     "data": {
      "image/png": "[encoded data removed]",
      "text/plain": [
       "<Figure size 432x288 with 1 Axes>"
      ]
     },
     "metadata": {
      "needs_background": "light"
     },
     "output_type": "display_data"
    },
    {
     "data": {
      "text/plain": [
       "<Figure size 432x288 with 0 Axes>"
      ]
     },
     "metadata": {},
     "output_type": "display_data"
    }
   ],
   "source": [
    "for col in continous_data:    \n",
    "    sns.kdeplot(log_normalize_df[col], bw=0.5)\n",
    "    plt.figure()\n",
    "\n",
    "for col in kde_plt:\n",
    "    sns.kdeplot(log_normalize_df[col], bw=0.5)\n",
    "    plt.figure()"
   ]
  },
  {
   "cell_type": "markdown",
   "metadata": {},
   "source": [
    "All the data seems closer to being normally distribruted now. Next I will rename the columns to make sure which are logs and then scale all the data.\n",
    "\n",
    "# Scaling with Normalization"
   ]
  },
  {
   "cell_type": "code",
   "execution_count": 38,
   "metadata": {},
   "outputs": [
    {
     "data": {
      "image/png": "[encoded data removed]",
      "text/plain": [
       "<Figure size 576x576 with 4 Axes>"
      ]
     },
     "metadata": {
      "needs_background": "light"
     },
     "output_type": "display_data"
    }
   ],
   "source": [
    "to_scale = ['sqft_living', 'sqft_living15', 'price']\n",
    "log_normalize_df[to_scale].hist(figsize  = [8, 8]);\n"
   ]
  },
  {
   "cell_type": "code",
   "execution_count": 39,
   "metadata": {
    "scrolled": true
   },
   "outputs": [
    {
     "data": {
      "image/png": "[encoded data removed]",
      "text/plain": [
       "<Figure size 576x576 with 4 Axes>"
      ]
     },
     "metadata": {
      "needs_background": "light"
     },
     "output_type": "display_data"
    }
   ],
   "source": [
    "def normalize(feature):\n",
    "    return (feature - feature.mean()) / feature.std()\n",
    "\n",
    "for col in to_scale:\n",
    "    log_normalize_df[col] = normalize(log_normalize_df[col])\n",
    "# Rename the columns so it is clear the data is log-transform and scaled.    \n",
    "log_normalize_df[to_scale].hist(figsize  = [8, 8]);\n",
    "\n",
    "log_normalize_df.rename(columns={'sqft_living': 'nl_sqft_living', 'sqft_lot': 'nl_sqft_lot', 'sqft_living15': 'nl_sqft_living15', \n",
    "                    'sqft_lot15': 'nl_sqft_lot15', 'price': 'nl_price'}, inplace=True)"
   ]
  },
  {
   "cell_type": "markdown",
   "metadata": {},
   "source": [
    "The data is now scaled with normalization method. Now we will build the model again and see how it peforms.\n",
    "# 4th Model after log transforming and normalization"
   ]
  },
  {
   "cell_type": "code",
   "execution_count": 40,
   "metadata": {
    "scrolled": true
   },
   "outputs": [
    {
     "data": {
      "text/html": [
       "<table class=\"simpletable\">\n",
       "<caption>OLS Regression Results</caption>\n",
       "<tr>\n",
       "  <th>Dep. Variable:</th>        <td>nl_price</td>     <th>  R-squared:         </th> <td>   0.836</td> \n",
       "</tr>\n",
       "<tr>\n",
       "  <th>Model:</th>                   <td>OLS</td>       <th>  Adj. R-squared:    </th> <td>   0.835</td> \n",
       "</tr>\n",
       "<tr>\n",
       "  <th>Method:</th>             <td>Least Squares</td>  <th>  F-statistic:       </th> <td>   1146.</td> \n",
       "</tr>\n",
       "<tr>\n",
       "  <th>Date:</th>             <td>Thu, 05 Nov 2020</td> <th>  Prob (F-statistic):</th>  <td>  0.00</td>  \n",
       "</tr>\n",
       "<tr>\n",
       "  <th>Time:</th>                 <td>15:37:51</td>     <th>  Log-Likelihood:    </th> <td> -9518.4</td> \n",
       "</tr>\n",
       "<tr>\n",
       "  <th>No. Observations:</th>      <td> 18496</td>      <th>  AIC:               </th> <td>1.920e+04</td>\n",
       "</tr>\n",
       "<tr>\n",
       "  <th>Df Residuals:</th>          <td> 18413</td>      <th>  BIC:               </th> <td>1.985e+04</td>\n",
       "</tr>\n",
       "<tr>\n",
       "  <th>Df Model:</th>              <td>    82</td>      <th>                     </th>     <td> </td>    \n",
       "</tr>\n",
       "<tr>\n",
       "  <th>Covariance Type:</th>      <td>nonrobust</td>    <th>                     </th>     <td> </td>    \n",
       "</tr>\n",
       "</table>\n",
       "<table class=\"simpletable\">\n",
       "<tr>\n",
       "          <td></td>            <th>coef</th>     <th>std err</th>      <th>t</th>      <th>P>|t|</th>  <th>[0.025</th>    <th>0.975]</th>  \n",
       "</tr>\n",
       "<tr>\n",
       "  <th>const</th>            <td> -230.0082</td> <td>   12.958</td> <td>  -17.751</td> <td> 0.000</td> <td> -255.406</td> <td> -204.610</td>\n",
       "</tr>\n",
       "<tr>\n",
       "  <th>bedrooms</th>         <td>   -0.0280</td> <td>    0.005</td> <td>   -5.522</td> <td> 0.000</td> <td>   -0.038</td> <td>   -0.018</td>\n",
       "</tr>\n",
       "<tr>\n",
       "  <th>bathrooms</th>        <td>    0.0692</td> <td>    0.008</td> <td>    8.737</td> <td> 0.000</td> <td>    0.054</td> <td>    0.085</td>\n",
       "</tr>\n",
       "<tr>\n",
       "  <th>nl_sqft_living</th>   <td>    0.3623</td> <td>    0.006</td> <td>   58.697</td> <td> 0.000</td> <td>    0.350</td> <td>    0.374</td>\n",
       "</tr>\n",
       "<tr>\n",
       "  <th>floors</th>           <td>   -0.0556</td> <td>    0.009</td> <td>   -6.536</td> <td> 0.000</td> <td>   -0.072</td> <td>   -0.039</td>\n",
       "</tr>\n",
       "<tr>\n",
       "  <th>waterfront</th>       <td>    0.9131</td> <td>    0.067</td> <td>   13.607</td> <td> 0.000</td> <td>    0.782</td> <td>    1.045</td>\n",
       "</tr>\n",
       "<tr>\n",
       "  <th>view</th>             <td>    0.1332</td> <td>    0.005</td> <td>   24.380</td> <td> 0.000</td> <td>    0.123</td> <td>    0.144</td>\n",
       "</tr>\n",
       "<tr>\n",
       "  <th>condition</th>        <td>    0.1157</td> <td>    0.005</td> <td>   21.749</td> <td> 0.000</td> <td>    0.105</td> <td>    0.126</td>\n",
       "</tr>\n",
       "<tr>\n",
       "  <th>grade</th>            <td>    0.2252</td> <td>    0.006</td> <td>   39.148</td> <td> 0.000</td> <td>    0.214</td> <td>    0.236</td>\n",
       "</tr>\n",
       "<tr>\n",
       "  <th>basement</th>         <td>   -0.1153</td> <td>    0.008</td> <td>  -14.506</td> <td> 0.000</td> <td>   -0.131</td> <td>   -0.100</td>\n",
       "</tr>\n",
       "<tr>\n",
       "  <th>yr_built</th>         <td>   -0.0018</td> <td>    0.000</td> <td>  -10.122</td> <td> 0.000</td> <td>   -0.002</td> <td>   -0.001</td>\n",
       "</tr>\n",
       "<tr>\n",
       "  <th>renovated</th>        <td>    0.1443</td> <td>    0.018</td> <td>    7.813</td> <td> 0.000</td> <td>    0.108</td> <td>    0.180</td>\n",
       "</tr>\n",
       "<tr>\n",
       "  <th>nl_sqft_living15</th> <td>    0.1243</td> <td>    0.005</td> <td>   26.060</td> <td> 0.000</td> <td>    0.115</td> <td>    0.134</td>\n",
       "</tr>\n",
       "<tr>\n",
       "  <th>year_sold</th>        <td>    0.1145</td> <td>    0.006</td> <td>   17.806</td> <td> 0.000</td> <td>    0.102</td> <td>    0.127</td>\n",
       "</tr>\n",
       "<tr>\n",
       "  <th>zip_98002</th>        <td>   -0.0542</td> <td>    0.038</td> <td>   -1.437</td> <td> 0.151</td> <td>   -0.128</td> <td>    0.020</td>\n",
       "</tr>\n",
       "<tr>\n",
       "  <th>zip_98003</th>        <td>    0.0004</td> <td>    0.034</td> <td>    0.011</td> <td> 0.992</td> <td>   -0.065</td> <td>    0.066</td>\n",
       "</tr>\n",
       "<tr>\n",
       "  <th>zip_98004</th>        <td>    2.4382</td> <td>    0.041</td> <td>   60.093</td> <td> 0.000</td> <td>    2.359</td> <td>    2.518</td>\n",
       "</tr>\n",
       "<tr>\n",
       "  <th>zip_98005</th>        <td>    1.7356</td> <td>    0.042</td> <td>   41.555</td> <td> 0.000</td> <td>    1.654</td> <td>    1.817</td>\n",
       "</tr>\n",
       "<tr>\n",
       "  <th>zip_98006</th>        <td>    1.4727</td> <td>    0.032</td> <td>   46.372</td> <td> 0.000</td> <td>    1.410</td> <td>    1.535</td>\n",
       "</tr>\n",
       "<tr>\n",
       "  <th>zip_98007</th>        <td>    1.4742</td> <td>    0.044</td> <td>   33.463</td> <td> 0.000</td> <td>    1.388</td> <td>    1.561</td>\n",
       "</tr>\n",
       "<tr>\n",
       "  <th>zip_98008</th>        <td>    1.4756</td> <td>    0.034</td> <td>   43.771</td> <td> 0.000</td> <td>    1.410</td> <td>    1.542</td>\n",
       "</tr>\n",
       "<tr>\n",
       "  <th>zip_98010</th>        <td>    0.6075</td> <td>    0.050</td> <td>   12.215</td> <td> 0.000</td> <td>    0.510</td> <td>    0.705</td>\n",
       "</tr>\n",
       "<tr>\n",
       "  <th>zip_98011</th>        <td>    1.0301</td> <td>    0.037</td> <td>   27.482</td> <td> 0.000</td> <td>    0.957</td> <td>    1.104</td>\n",
       "</tr>\n",
       "<tr>\n",
       "  <th>zip_98014</th>        <td>    0.8697</td> <td>    0.046</td> <td>   18.892</td> <td> 0.000</td> <td>    0.779</td> <td>    0.960</td>\n",
       "</tr>\n",
       "<tr>\n",
       "  <th>zip_98019</th>        <td>    0.7963</td> <td>    0.038</td> <td>   21.007</td> <td> 0.000</td> <td>    0.722</td> <td>    0.871</td>\n",
       "</tr>\n",
       "<tr>\n",
       "  <th>zip_98022</th>        <td>    0.1750</td> <td>    0.035</td> <td>    4.957</td> <td> 0.000</td> <td>    0.106</td> <td>    0.244</td>\n",
       "</tr>\n",
       "<tr>\n",
       "  <th>zip_98023</th>        <td>   -0.1024</td> <td>    0.029</td> <td>   -3.526</td> <td> 0.000</td> <td>   -0.159</td> <td>   -0.045</td>\n",
       "</tr>\n",
       "<tr>\n",
       "  <th>zip_98024</th>        <td>    1.0981</td> <td>    0.055</td> <td>   19.974</td> <td> 0.000</td> <td>    0.990</td> <td>    1.206</td>\n",
       "</tr>\n",
       "<tr>\n",
       "  <th>zip_98027</th>        <td>    1.2364</td> <td>    0.032</td> <td>   38.918</td> <td> 0.000</td> <td>    1.174</td> <td>    1.299</td>\n",
       "</tr>\n",
       "<tr>\n",
       "  <th>zip_98028</th>        <td>    0.9439</td> <td>    0.033</td> <td>   28.432</td> <td> 0.000</td> <td>    0.879</td> <td>    1.009</td>\n",
       "</tr>\n",
       "<tr>\n",
       "  <th>zip_98029</th>        <td>    1.3885</td> <td>    0.033</td> <td>   42.285</td> <td> 0.000</td> <td>    1.324</td> <td>    1.453</td>\n",
       "</tr>\n",
       "<tr>\n",
       "  <th>zip_98030</th>        <td>    0.0830</td> <td>    0.034</td> <td>    2.436</td> <td> 0.015</td> <td>    0.016</td> <td>    0.150</td>\n",
       "</tr>\n",
       "<tr>\n",
       "  <th>zip_98031</th>        <td>    0.1297</td> <td>    0.033</td> <td>    3.886</td> <td> 0.000</td> <td>    0.064</td> <td>    0.195</td>\n",
       "</tr>\n",
       "<tr>\n",
       "  <th>zip_98032</th>        <td>   -0.1035</td> <td>    0.044</td> <td>   -2.351</td> <td> 0.019</td> <td>   -0.190</td> <td>   -0.017</td>\n",
       "</tr>\n",
       "<tr>\n",
       "  <th>zip_98033</th>        <td>    1.7485</td> <td>    0.031</td> <td>   55.758</td> <td> 0.000</td> <td>    1.687</td> <td>    1.810</td>\n",
       "</tr>\n",
       "<tr>\n",
       "  <th>zip_98034</th>        <td>    1.2272</td> <td>    0.029</td> <td>   42.885</td> <td> 0.000</td> <td>    1.171</td> <td>    1.283</td>\n",
       "</tr>\n",
       "<tr>\n",
       "  <th>zip_98038</th>        <td>    0.3811</td> <td>    0.028</td> <td>   13.590</td> <td> 0.000</td> <td>    0.326</td> <td>    0.436</td>\n",
       "</tr>\n",
       "<tr>\n",
       "  <th>zip_98039</th>        <td>    2.8625</td> <td>    0.183</td> <td>   15.651</td> <td> 0.000</td> <td>    2.504</td> <td>    3.221</td>\n",
       "</tr>\n",
       "<tr>\n",
       "  <th>zip_98040</th>        <td>    2.0196</td> <td>    0.042</td> <td>   48.477</td> <td> 0.000</td> <td>    1.938</td> <td>    2.101</td>\n",
       "</tr>\n",
       "<tr>\n",
       "  <th>zip_98042</th>        <td>    0.1356</td> <td>    0.028</td> <td>    4.786</td> <td> 0.000</td> <td>    0.080</td> <td>    0.191</td>\n",
       "</tr>\n",
       "<tr>\n",
       "  <th>zip_98045</th>        <td>    0.8397</td> <td>    0.036</td> <td>   23.206</td> <td> 0.000</td> <td>    0.769</td> <td>    0.911</td>\n",
       "</tr>\n",
       "<tr>\n",
       "  <th>zip_98052</th>        <td>    1.4981</td> <td>    0.029</td> <td>   52.062</td> <td> 0.000</td> <td>    1.442</td> <td>    1.554</td>\n",
       "</tr>\n",
       "<tr>\n",
       "  <th>zip_98053</th>        <td>    1.4540</td> <td>    0.032</td> <td>   45.377</td> <td> 0.000</td> <td>    1.391</td> <td>    1.517</td>\n",
       "</tr>\n",
       "<tr>\n",
       "  <th>zip_98055</th>        <td>    0.2774</td> <td>    0.034</td> <td>    8.052</td> <td> 0.000</td> <td>    0.210</td> <td>    0.345</td>\n",
       "</tr>\n",
       "<tr>\n",
       "  <th>zip_98056</th>        <td>    0.7388</td> <td>    0.031</td> <td>   23.876</td> <td> 0.000</td> <td>    0.678</td> <td>    0.800</td>\n",
       "</tr>\n",
       "<tr>\n",
       "  <th>zip_98058</th>        <td>    0.3533</td> <td>    0.030</td> <td>   11.939</td> <td> 0.000</td> <td>    0.295</td> <td>    0.411</td>\n",
       "</tr>\n",
       "<tr>\n",
       "  <th>zip_98059</th>        <td>    0.7344</td> <td>    0.030</td> <td>   24.504</td> <td> 0.000</td> <td>    0.676</td> <td>    0.793</td>\n",
       "</tr>\n",
       "<tr>\n",
       "  <th>zip_98065</th>        <td>    0.9633</td> <td>    0.034</td> <td>   28.501</td> <td> 0.000</td> <td>    0.897</td> <td>    1.030</td>\n",
       "</tr>\n",
       "<tr>\n",
       "  <th>zip_98070</th>        <td>    0.9064</td> <td>    0.047</td> <td>   19.451</td> <td> 0.000</td> <td>    0.815</td> <td>    0.998</td>\n",
       "</tr>\n",
       "<tr>\n",
       "  <th>zip_98072</th>        <td>    1.1541</td> <td>    0.035</td> <td>   33.165</td> <td> 0.000</td> <td>    1.086</td> <td>    1.222</td>\n",
       "</tr>\n",
       "<tr>\n",
       "  <th>zip_98074</th>        <td>    1.3550</td> <td>    0.032</td> <td>   42.485</td> <td> 0.000</td> <td>    1.292</td> <td>    1.417</td>\n",
       "</tr>\n",
       "<tr>\n",
       "  <th>zip_98075</th>        <td>    1.4041</td> <td>    0.037</td> <td>   38.294</td> <td> 0.000</td> <td>    1.332</td> <td>    1.476</td>\n",
       "</tr>\n",
       "<tr>\n",
       "  <th>zip_98077</th>        <td>    1.1435</td> <td>    0.042</td> <td>   26.980</td> <td> 0.000</td> <td>    1.060</td> <td>    1.227</td>\n",
       "</tr>\n",
       "<tr>\n",
       "  <th>zip_98092</th>        <td>    0.0485</td> <td>    0.031</td> <td>    1.548</td> <td> 0.122</td> <td>   -0.013</td> <td>    0.110</td>\n",
       "</tr>\n",
       "<tr>\n",
       "  <th>zip_98102</th>        <td>    2.1566</td> <td>    0.051</td> <td>   42.418</td> <td> 0.000</td> <td>    2.057</td> <td>    2.256</td>\n",
       "</tr>\n",
       "<tr>\n",
       "  <th>zip_98103</th>        <td>    1.8717</td> <td>    0.029</td> <td>   63.963</td> <td> 0.000</td> <td>    1.814</td> <td>    1.929</td>\n",
       "</tr>\n",
       "<tr>\n",
       "  <th>zip_98105</th>        <td>    2.0751</td> <td>    0.040</td> <td>   52.521</td> <td> 0.000</td> <td>    1.998</td> <td>    2.153</td>\n",
       "</tr>\n",
       "<tr>\n",
       "  <th>zip_98106</th>        <td>    0.8169</td> <td>    0.032</td> <td>   25.247</td> <td> 0.000</td> <td>    0.753</td> <td>    0.880</td>\n",
       "</tr>\n",
       "<tr>\n",
       "  <th>zip_98107</th>        <td>    1.9252</td> <td>    0.035</td> <td>   55.108</td> <td> 0.000</td> <td>    1.857</td> <td>    1.994</td>\n",
       "</tr>\n",
       "<tr>\n",
       "  <th>zip_98108</th>        <td>    0.8309</td> <td>    0.038</td> <td>   21.671</td> <td> 0.000</td> <td>    0.756</td> <td>    0.906</td>\n",
       "</tr>\n",
       "<tr>\n",
       "  <th>zip_98109</th>        <td>    2.1460</td> <td>    0.051</td> <td>   41.812</td> <td> 0.000</td> <td>    2.045</td> <td>    2.247</td>\n",
       "</tr>\n",
       "<tr>\n",
       "  <th>zip_98112</th>        <td>    2.1838</td> <td>    0.041</td> <td>   53.892</td> <td> 0.000</td> <td>    2.104</td> <td>    2.263</td>\n",
       "</tr>\n",
       "<tr>\n",
       "  <th>zip_98115</th>        <td>    1.8528</td> <td>    0.029</td> <td>   63.834</td> <td> 0.000</td> <td>    1.796</td> <td>    1.910</td>\n",
       "</tr>\n",
       "<tr>\n",
       "  <th>zip_98116</th>        <td>    1.7609</td> <td>    0.033</td> <td>   53.104</td> <td> 0.000</td> <td>    1.696</td> <td>    1.826</td>\n",
       "</tr>\n",
       "<tr>\n",
       "  <th>zip_98117</th>        <td>    1.8745</td> <td>    0.029</td> <td>   63.556</td> <td> 0.000</td> <td>    1.817</td> <td>    1.932</td>\n",
       "</tr>\n",
       "<tr>\n",
       "  <th>zip_98118</th>        <td>    1.0429</td> <td>    0.030</td> <td>   35.101</td> <td> 0.000</td> <td>    0.985</td> <td>    1.101</td>\n",
       "</tr>\n",
       "<tr>\n",
       "  <th>zip_98119</th>        <td>    2.1495</td> <td>    0.042</td> <td>   51.746</td> <td> 0.000</td> <td>    2.068</td> <td>    2.231</td>\n",
       "</tr>\n",
       "<tr>\n",
       "  <th>zip_98122</th>        <td>    1.8052</td> <td>    0.035</td> <td>   51.668</td> <td> 0.000</td> <td>    1.737</td> <td>    1.874</td>\n",
       "</tr>\n",
       "<tr>\n",
       "  <th>zip_98125</th>        <td>    1.2868</td> <td>    0.031</td> <td>   41.953</td> <td> 0.000</td> <td>    1.227</td> <td>    1.347</td>\n",
       "</tr>\n",
       "<tr>\n",
       "  <th>zip_98126</th>        <td>    1.3134</td> <td>    0.032</td> <td>   40.980</td> <td> 0.000</td> <td>    1.251</td> <td>    1.376</td>\n",
       "</tr>\n",
       "<tr>\n",
       "  <th>zip_98133</th>        <td>    1.0531</td> <td>    0.029</td> <td>   36.108</td> <td> 0.000</td> <td>    0.996</td> <td>    1.110</td>\n",
       "</tr>\n",
       "<tr>\n",
       "  <th>zip_98136</th>        <td>    1.5745</td> <td>    0.035</td> <td>   45.286</td> <td> 0.000</td> <td>    1.506</td> <td>    1.643</td>\n",
       "</tr>\n",
       "<tr>\n",
       "  <th>zip_98144</th>        <td>    1.4632</td> <td>    0.033</td> <td>   44.174</td> <td> 0.000</td> <td>    1.398</td> <td>    1.528</td>\n",
       "</tr>\n",
       "<tr>\n",
       "  <th>zip_98146</th>        <td>    0.6615</td> <td>    0.034</td> <td>   19.473</td> <td> 0.000</td> <td>    0.595</td> <td>    0.728</td>\n",
       "</tr>\n",
       "<tr>\n",
       "  <th>zip_98148</th>        <td>    0.3267</td> <td>    0.060</td> <td>    5.489</td> <td> 0.000</td> <td>    0.210</td> <td>    0.443</td>\n",
       "</tr>\n",
       "<tr>\n",
       "  <th>zip_98155</th>        <td>    0.9924</td> <td>    0.030</td> <td>   33.405</td> <td> 0.000</td> <td>    0.934</td> <td>    1.051</td>\n",
       "</tr>\n",
       "<tr>\n",
       "  <th>zip_98166</th>        <td>    0.6973</td> <td>    0.035</td> <td>   19.777</td> <td> 0.000</td> <td>    0.628</td> <td>    0.766</td>\n",
       "</tr>\n",
       "<tr>\n",
       "  <th>zip_98168</th>        <td>    0.2080</td> <td>    0.034</td> <td>    6.058</td> <td> 0.000</td> <td>    0.141</td> <td>    0.275</td>\n",
       "</tr>\n",
       "<tr>\n",
       "  <th>zip_98177</th>        <td>    1.3084</td> <td>    0.036</td> <td>   36.613</td> <td> 0.000</td> <td>    1.238</td> <td>    1.378</td>\n",
       "</tr>\n",
       "<tr>\n",
       "  <th>zip_98178</th>        <td>    0.3210</td> <td>    0.034</td> <td>    9.346</td> <td> 0.000</td> <td>    0.254</td> <td>    0.388</td>\n",
       "</tr>\n",
       "<tr>\n",
       "  <th>zip_98188</th>        <td>    0.1926</td> <td>    0.043</td> <td>    4.504</td> <td> 0.000</td> <td>    0.109</td> <td>    0.276</td>\n",
       "</tr>\n",
       "<tr>\n",
       "  <th>zip_98198</th>        <td>    0.1128</td> <td>    0.034</td> <td>    3.354</td> <td> 0.001</td> <td>    0.047</td> <td>    0.179</td>\n",
       "</tr>\n",
       "<tr>\n",
       "  <th>zip_98199</th>        <td>    1.9377</td> <td>    0.035</td> <td>   55.993</td> <td> 0.000</td> <td>    1.870</td> <td>    2.006</td>\n",
       "</tr>\n",
       "</table>\n",
       "<table class=\"simpletable\">\n",
       "<tr>\n",
       "  <th>Omnibus:</th>       <td>1421.935</td> <th>  Durbin-Watson:     </th> <td>   1.982</td>\n",
       "</tr>\n",
       "<tr>\n",
       "  <th>Prob(Omnibus):</th>  <td> 0.000</td>  <th>  Jarque-Bera (JB):  </th> <td>5575.852</td>\n",
       "</tr>\n",
       "<tr>\n",
       "  <th>Skew:</th>           <td>-0.308</td>  <th>  Prob(JB):          </th> <td>    0.00</td>\n",
       "</tr>\n",
       "<tr>\n",
       "  <th>Kurtosis:</th>       <td> 5.619</td>  <th>  Cond. No.          </th> <td>1.22e+07</td>\n",
       "</tr>\n",
       "</table><br/><br/>Warnings:<br/>[1] Standard Errors assume that the covariance matrix of the errors is correctly specified.<br/>[2] The condition number is large, 1.22e+07. This might indicate that there are<br/>strong multicollinearity or other numerical problems."
      ],
      "text/plain": [
       "<class 'statsmodels.iolib.summary.Summary'>\n",
       "\"\"\"\n",
       "                            OLS Regression Results                            \n",
       "==============================================================================\n",
       "Dep. Variable:               nl_price   R-squared:                       0.836\n",
       "Model:                            OLS   Adj. R-squared:                  0.835\n",
       "Method:                 Least Squares   F-statistic:                     1146.\n",
       "Date:                Thu, 05 Nov 2020   Prob (F-statistic):               0.00\n",
       "Time:                        15:37:51   Log-Likelihood:                -9518.4\n",
       "No. Observations:               18496   AIC:                         1.920e+04\n",
       "Df Residuals:                   18413   BIC:                         1.985e+04\n",
       "Df Model:                          82                                         \n",
       "Covariance Type:            nonrobust                                         \n",
       "====================================================================================\n",
       "                       coef    std err          t      P>|t|      [0.025      0.975]\n",
       "------------------------------------------------------------------------------------\n",
       "const             -230.0082     12.958    -17.751      0.000    -255.406    -204.610\n",
       "bedrooms            -0.0280      0.005     -5.522      0.000      -0.038      -0.018\n",
       "bathrooms            0.0692      0.008      8.737      0.000       0.054       0.085\n",
       "nl_sqft_living       0.3623      0.006     58.697      0.000       0.350       0.374\n",
       "floors              -0.0556      0.009     -6.536      0.000      -0.072      -0.039\n",
       "waterfront           0.9131      0.067     13.607      0.000       0.782       1.045\n",
       "view                 0.1332      0.005     24.380      0.000       0.123       0.144\n",
       "condition            0.1157      0.005     21.749      0.000       0.105       0.126\n",
       "grade                0.2252      0.006     39.148      0.000       0.214       0.236\n",
       "basement            -0.1153      0.008    -14.506      0.000      -0.131      -0.100\n",
       "yr_built            -0.0018      0.000    -10.122      0.000      -0.002      -0.001\n",
       "renovated            0.1443      0.018      7.813      0.000       0.108       0.180\n",
       "nl_sqft_living15     0.1243      0.005     26.060      0.000       0.115       0.134\n",
       "year_sold            0.1145      0.006     17.806      0.000       0.102       0.127\n",
       "zip_98002           -0.0542      0.038     -1.437      0.151      -0.128       0.020\n",
       "zip_98003            0.0004      0.034      0.011      0.992      -0.065       0.066\n",
       "zip_98004            2.4382      0.041     60.093      0.000       2.359       2.518\n",
       "zip_98005            1.7356      0.042     41.555      0.000       1.654       1.817\n",
       "zip_98006            1.4727      0.032     46.372      0.000       1.410       1.535\n",
       "zip_98007            1.4742      0.044     33.463      0.000       1.388       1.561\n",
       "zip_98008            1.4756      0.034     43.771      0.000       1.410       1.542\n",
       "zip_98010            0.6075      0.050     12.215      0.000       0.510       0.705\n",
       "zip_98011            1.0301      0.037     27.482      0.000       0.957       1.104\n",
       "zip_98014            0.8697      0.046     18.892      0.000       0.779       0.960\n",
       "zip_98019            0.7963      0.038     21.007      0.000       0.722       0.871\n",
       "zip_98022            0.1750      0.035      4.957      0.000       0.106       0.244\n",
       "zip_98023           -0.1024      0.029     -3.526      0.000      -0.159      -0.045\n",
       "zip_98024            1.0981      0.055     19.974      0.000       0.990       1.206\n",
       "zip_98027            1.2364      0.032     38.918      0.000       1.174       1.299\n",
       "zip_98028            0.9439      0.033     28.432      0.000       0.879       1.009\n",
       "zip_98029            1.3885      0.033     42.285      0.000       1.324       1.453\n",
       "zip_98030            0.0830      0.034      2.436      0.015       0.016       0.150\n",
       "zip_98031            0.1297      0.033      3.886      0.000       0.064       0.195\n",
       "zip_98032           -0.1035      0.044     -2.351      0.019      -0.190      -0.017\n",
       "zip_98033            1.7485      0.031     55.758      0.000       1.687       1.810\n",
       "zip_98034            1.2272      0.029     42.885      0.000       1.171       1.283\n",
       "zip_98038            0.3811      0.028     13.590      0.000       0.326       0.436\n",
       "zip_98039            2.8625      0.183     15.651      0.000       2.504       3.221\n",
       "zip_98040            2.0196      0.042     48.477      0.000       1.938       2.101\n",
       "zip_98042            0.1356      0.028      4.786      0.000       0.080       0.191\n",
       "zip_98045            0.8397      0.036     23.206      0.000       0.769       0.911\n",
       "zip_98052            1.4981      0.029     52.062      0.000       1.442       1.554\n",
       "zip_98053            1.4540      0.032     45.377      0.000       1.391       1.517\n",
       "zip_98055            0.2774      0.034      8.052      0.000       0.210       0.345\n",
       "zip_98056            0.7388      0.031     23.876      0.000       0.678       0.800\n",
       "zip_98058            0.3533      0.030     11.939      0.000       0.295       0.411\n",
       "zip_98059            0.7344      0.030     24.504      0.000       0.676       0.793\n",
       "zip_98065            0.9633      0.034     28.501      0.000       0.897       1.030\n",
       "zip_98070            0.9064      0.047     19.451      0.000       0.815       0.998\n",
       "zip_98072            1.1541      0.035     33.165      0.000       1.086       1.222\n",
       "zip_98074            1.3550      0.032     42.485      0.000       1.292       1.417\n",
       "zip_98075            1.4041      0.037     38.294      0.000       1.332       1.476\n",
       "zip_98077            1.1435      0.042     26.980      0.000       1.060       1.227\n",
       "zip_98092            0.0485      0.031      1.548      0.122      -0.013       0.110\n",
       "zip_98102            2.1566      0.051     42.418      0.000       2.057       2.256\n",
       "zip_98103            1.8717      0.029     63.963      0.000       1.814       1.929\n",
       "zip_98105            2.0751      0.040     52.521      0.000       1.998       2.153\n",
       "zip_98106            0.8169      0.032     25.247      0.000       0.753       0.880\n",
       "zip_98107            1.9252      0.035     55.108      0.000       1.857       1.994\n",
       "zip_98108            0.8309      0.038     21.671      0.000       0.756       0.906\n",
       "zip_98109            2.1460      0.051     41.812      0.000       2.045       2.247\n",
       "zip_98112            2.1838      0.041     53.892      0.000       2.104       2.263\n",
       "zip_98115            1.8528      0.029     63.834      0.000       1.796       1.910\n",
       "zip_98116            1.7609      0.033     53.104      0.000       1.696       1.826\n",
       "zip_98117            1.8745      0.029     63.556      0.000       1.817       1.932\n",
       "zip_98118            1.0429      0.030     35.101      0.000       0.985       1.101\n",
       "zip_98119            2.1495      0.042     51.746      0.000       2.068       2.231\n",
       "zip_98122            1.8052      0.035     51.668      0.000       1.737       1.874\n",
       "zip_98125            1.2868      0.031     41.953      0.000       1.227       1.347\n",
       "zip_98126            1.3134      0.032     40.980      0.000       1.251       1.376\n",
       "zip_98133            1.0531      0.029     36.108      0.000       0.996       1.110\n",
       "zip_98136            1.5745      0.035     45.286      0.000       1.506       1.643\n",
       "zip_98144            1.4632      0.033     44.174      0.000       1.398       1.528\n",
       "zip_98146            0.6615      0.034     19.473      0.000       0.595       0.728\n",
       "zip_98148            0.3267      0.060      5.489      0.000       0.210       0.443\n",
       "zip_98155            0.9924      0.030     33.405      0.000       0.934       1.051\n",
       "zip_98166            0.6973      0.035     19.777      0.000       0.628       0.766\n",
       "zip_98168            0.2080      0.034      6.058      0.000       0.141       0.275\n",
       "zip_98177            1.3084      0.036     36.613      0.000       1.238       1.378\n",
       "zip_98178            0.3210      0.034      9.346      0.000       0.254       0.388\n",
       "zip_98188            0.1926      0.043      4.504      0.000       0.109       0.276\n",
       "zip_98198            0.1128      0.034      3.354      0.001       0.047       0.179\n",
       "zip_98199            1.9377      0.035     55.993      0.000       1.870       2.006\n",
       "==============================================================================\n",
       "Omnibus:                     1421.935   Durbin-Watson:                   1.982\n",
       "Prob(Omnibus):                  0.000   Jarque-Bera (JB):             5575.852\n",
       "Skew:                          -0.308   Prob(JB):                         0.00\n",
       "Kurtosis:                       5.619   Cond. No.                     1.22e+07\n",
       "==============================================================================\n",
       "\n",
       "Warnings:\n",
       "[1] Standard Errors assume that the covariance matrix of the errors is correctly specified.\n",
       "[2] The condition number is large, 1.22e+07. This might indicate that there are\n",
       "strong multicollinearity or other numerical problems.\n",
       "\"\"\""
      ]
     },
     "execution_count": 40,
     "metadata": {},
     "output_type": "execute_result"
    }
   ],
   "source": [
    "predictors = log_normalize_df.drop(['nl_price','id'], axis=1)\n",
    "predictors_int = sm.add_constant(predictors)\n",
    "\n",
    "model = sm.OLS(log_normalize_df['nl_price'],predictors_int.astype(float)).fit()\n",
    "model.summary()\n"
   ]
  },
  {
   "cell_type": "code",
   "execution_count": 41,
   "metadata": {},
   "outputs": [
    {
     "name": "stdout",
     "output_type": "stream",
     "text": [
      "Train Mean Squarred Error:   0.1625239192731309\n",
      "Test Mean Squarred Error:    0.1701691169784822\n",
      "R-squared                    = 0.8345465225550253\n",
      "Mean Squared Error using CV  = 0.16541029586818354\n"
     ]
    }
   ],
   "source": [
    "y = log_normalize_df['nl_price']\n",
    "X = log_normalize_df.drop(['id', 'nl_price'], axis=1)\n",
    "\n",
    "# Split data for testing\n",
    "X_train, X_test, y_train, y_test = train_test_split(X, y, test_size=0.2, random_state=55)\n",
    "\n",
    "# Fit the model\n",
    "linreg = LinearRegression()\n",
    "linreg.fit(X_train, y_train)\n",
    "\n",
    "\n",
    "# Find R-squared and MSE\n",
    "rsquared = np.mean(cross_val_score(linreg, X, y, scoring='r2', cv=crossvalidation))\n",
    "cv_10_results = cross_val_score(linreg, X, y, cv=crossvalidation, scoring=mse)\n",
    "\n",
    "#Predict data\n",
    "y_hat_train = linreg.predict(X_train)\n",
    "y_hat_test = linreg.predict(X_test)\n",
    "#Calculate two diffrent MSE\n",
    "train_mse = mean_squared_error(y_train, y_hat_train)\n",
    "test_mse = mean_squared_error(y_test, y_hat_test)\n",
    "print('Train Mean Squarred Error:  ', train_mse)\n",
    "print('Test Mean Squarred Error:   ', test_mse)\n",
    "\n",
    "print(f'R-squared                    = {rsquared}')\n",
    "print(f'Mean Squared Error using CV  = {cv_10_results.mean()}')\n",
    "\n"
   ]
  },
  {
   "cell_type": "markdown",
   "metadata": {},
   "source": [
    "The R-squared improved by quiet a lot from the third model. The skewness have improve but kurtosis is still quiet large.\n",
    "\n",
    "\n",
    "### Answer - Performing log transformation and scaling with normalization of the data gave us a better performing model. The Adjusted R-squared improve but I will keep working with the orignal data because I want the ability to interpret the coefficients of the final model.\n",
    "\n",
    "# Model Fitting\n",
    "\n",
    "## Stepwise selection with P-value"
   ]
  },
  {
   "cell_type": "markdown",
   "metadata": {},
   "source": [
    "First I will try doing a stepwise selection to see if there are features I should get rid of."
   ]
  },
  {
   "cell_type": "code",
   "execution_count": 42,
   "metadata": {},
   "outputs": [],
   "source": [
    "\n",
    "def stepwise_selection(X, y, \n",
    "                       initial_list=[], \n",
    "                       threshold_in=0.01, \n",
    "                       threshold_out = 0.05, \n",
    "                       verbose=True):\n",
    "    \"\"\" \n",
    "    Perform a forward-backward feature selection \n",
    "    based on p-value from statsmodels.api.OLS\n",
    "    Arguments:\n",
    "        X - pandas.DataFrame with candidate features\n",
    "        y - list-like with the target\n",
    "        initial_list - list of features to start with (column names of X)\n",
    "        threshold_in - include a feature if its p-value < threshold_in\n",
    "        threshold_out - exclude a feature if its p-value > threshold_out\n",
    "        verbose - whether to print the sequence of inclusions and exclusions\n",
    "    Returns: list of selected features \n",
    "    Always set threshold_in < threshold_out to avoid infinite looping.\n",
    "    See https://en.wikipedia.org/wiki/Stepwise_regression for the details\n",
    "    \"\"\"\n",
    "    included = list(initial_list)\n",
    "    while True:\n",
    "        changed=False\n",
    "        # forward step\n",
    "        excluded = list(set(X.columns)-set(included))\n",
    "        new_pval = pd.Series(index=excluded)\n",
    "        for new_column in excluded:\n",
    "            model = sm.OLS(y, sm.add_constant(pd.DataFrame(X[included+[new_column]]))).fit()\n",
    "            new_pval[new_column] = model.pvalues[new_column]\n",
    "        best_pval = new_pval.min()\n",
    "        if best_pval < threshold_in:\n",
    "            best_feature = new_pval.idxmin()\n",
    "            included.append(best_feature)\n",
    "            changed=True\n",
    "            if verbose:\n",
    "                print('Add  {:30} with p-value {:.6}'.format(best_feature, best_pval))\n",
    "\n",
    "        # backward step\n",
    "        model = sm.OLS(y, sm.add_constant(pd.DataFrame(X[included]))).fit()\n",
    "        # use all coefs except intercept\n",
    "        pvalues = model.pvalues.iloc[1:]\n",
    "        worst_pval = pvalues.max() # null if pvalues is empty\n",
    "        if worst_pval > threshold_out:\n",
    "            changed=True\n",
    "            worst_feature = pvalues.argmax()\n",
    "            included.remove(worst_feature)\n",
    "            if verbose:\n",
    "                print('Drop {:30} with p-value {:.6}'.format(worst_feature, worst_pval))\n",
    "        if not changed:\n",
    "            break\n",
    "    return included"
   ]
  },
  {
   "cell_type": "markdown",
   "metadata": {
    "scrolled": true
   },
   "source": [
    "predictors = df2.drop(['price','id'], axis=1)\n",
    "\n",
    "result = stepwise_selection(predictors, df2['price'], initial_list=['zip_98002', 'zip_98003', 'zip_98004',\n",
    "       'zip_98005', 'zip_98006', 'zip_98007', 'zip_98008', 'zip_98010',\n",
    "       'zip_98011', 'zip_98014', 'zip_98019', 'zip_98022', 'zip_98023',\n",
    "       'zip_98024', 'zip_98027', 'zip_98028', 'zip_98029', 'zip_98030',\n",
    "       'zip_98031', 'zip_98032', 'zip_98033', 'zip_98034', 'zip_98038',\n",
    "       'zip_98039', 'zip_98040', 'zip_98042', 'zip_98045', 'zip_98052',\n",
    "       'zip_98053', 'zip_98055', 'zip_98056', 'zip_98058', 'zip_98059',\n",
    "       'zip_98065', 'zip_98070', 'zip_98072', 'zip_98074', 'zip_98075',\n",
    "       'zip_98077', 'zip_98092', 'zip_98102', 'zip_98103', 'zip_98105',\n",
    "       'zip_98106', 'zip_98107', 'zip_98108', 'zip_98109', 'zip_98112',\n",
    "       'zip_98115', 'zip_98116', 'zip_98117', 'zip_98118', 'zip_98119',\n",
    "       'zip_98122', 'zip_98125', 'zip_98126', 'zip_98133', 'zip_98136',\n",
    "       'zip_98144', 'zip_98146', 'zip_98148', 'zip_98155', 'zip_98166',\n",
    "       'zip_98168', 'zip_98177', 'zip_98178', 'zip_98188', 'zip_98198',\n",
    "       'zip_98199'], verbose=True)\n",
    "print('resulting features:')\n",
    "print(result)"
   ]
  },
  {
   "cell_type": "markdown",
   "metadata": {},
   "source": [
    "# Question- Will limiting the amount of features improve the model?"
   ]
  },
  {
   "cell_type": "code",
   "execution_count": 43,
   "metadata": {
    "scrolled": true
   },
   "outputs": [
    {
     "data": {
      "text/plain": [
       "83"
      ]
     },
     "execution_count": 43,
     "metadata": {},
     "output_type": "execute_result"
    }
   ],
   "source": [
    "len(df3.columns)-1"
   ]
  },
  {
   "cell_type": "code",
   "execution_count": 44,
   "metadata": {},
   "outputs": [
    {
     "name": "stdout",
     "output_type": "stream",
     "text": [
      "1\n",
      "2\n",
      "3\n",
      "4\n",
      "5\n",
      "6\n",
      "7\n",
      "8\n",
      "9\n",
      "10\n",
      "11\n",
      "12\n",
      "13\n",
      "14\n",
      "15\n",
      "16\n",
      "17\n",
      "18\n",
      "19\n",
      "20\n",
      "21\n",
      "22\n",
      "23\n",
      "24\n",
      "25\n",
      "26\n",
      "27\n",
      "28\n",
      "29\n",
      "30\n",
      "31\n",
      "32\n",
      "33\n",
      "34\n",
      "35\n",
      "36\n",
      "37\n",
      "38\n",
      "39\n",
      "40\n",
      "41\n",
      "42\n",
      "43\n",
      "44\n",
      "45\n",
      "46\n",
      "47\n",
      "48\n",
      "49\n",
      "50\n",
      "51\n",
      "52\n",
      "53\n",
      "54\n",
      "55\n",
      "56\n",
      "57\n",
      "58\n",
      "59\n",
      "60\n",
      "61\n",
      "62\n",
      "63\n",
      "64\n",
      "65\n",
      "66\n",
      "67\n",
      "68\n",
      "69\n",
      "70\n",
      "71\n",
      "72\n",
      "73\n",
      "74\n",
      "75\n",
      "76\n",
      "77\n",
      "78\n",
      "79\n",
      "80\n",
      "81\n",
      "82\n"
     ]
    }
   ],
   "source": [
    "from sklearn.feature_selection import RFE\n",
    "from sklearn.linear_model import LinearRegression\n",
    "\n",
    "predictors = df3.drop(['price','id'], axis=1)\n",
    "\n",
    "Adjusted_R_squared = []\n",
    "No_of_features = []\n",
    "\n",
    "linreg = LinearRegression()\n",
    "for i in range(1,len(df3.columns)-1):\n",
    "    selector = RFE(linreg, n_features_to_select=i)\n",
    "    selector = selector.fit(predictors, df3['price'])\n",
    "\n",
    "    #Fit the model with selected columns\n",
    "    selected_columns = X.columns[selector.support_ ]\n",
    "    linreg.fit(X[selected_columns],y)\n",
    "    # Predict y_hat\n",
    "    yhat = linreg.predict(X[selected_columns])\n",
    "    SS_Residual = np.sum((y-yhat)**2)\n",
    "    SS_Total = np.sum((y-np.mean(y))**2)\n",
    "    r_squared = 1 - (float(SS_Residual))/SS_Total\n",
    "    adjusted_r_squared = 1 - (1-r_squared)*(len(y)-1)/(len(y)-X[selected_columns].shape[1]-1)\n",
    "    \n",
    "    Adjusted_R_squared.append(adjusted_r_squared)\n",
    "    No_of_features.append(i)\n",
    "    print(i)\n",
    "    \n"
   ]
  },
  {
   "cell_type": "code",
   "execution_count": 45,
   "metadata": {},
   "outputs": [
    {
     "data": {
      "text/plain": [
       "Text(0, 0.5, 'Adjusted R-squared')"
      ]
     },
     "execution_count": 45,
     "metadata": {},
     "output_type": "execute_result"
    },
    {
     "data": {
      "image/png": "[encoded data removed]",
      "text/plain": [
       "<Figure size 720x432 with 1 Axes>"
      ]
     },
     "metadata": {
      "needs_background": "light"
     },
     "output_type": "display_data"
    }
   ],
   "source": [
    "fig = plt.figure(figsize=(10,6))\n",
    "plt.plot(No_of_features, Adjusted_R_squared)\n",
    "plt.xlabel('Num of Features')\n",
    "plt.ylabel('Adjusted R-squared')"
   ]
  },
  {
   "cell_type": "markdown",
   "metadata": {},
   "source": [
    "### Answer - Limiting the number of features using RFE made the model a lot worse.\n",
    "\n",
    "Next I will check the normality of the residuals and the homoscedasticity of the data."
   ]
  },
  {
   "cell_type": "markdown",
   "metadata": {},
   "source": [
    "# Checking Assumptions\n",
    "## Normality and Homoscedasticity Check"
   ]
  },
  {
   "cell_type": "markdown",
   "metadata": {},
   "source": [
    "Next I will run a qqplot on the model residuals and a Breush-Pagan Test to check the regression assumptions."
   ]
  },
  {
   "cell_type": "code",
   "execution_count": 46,
   "metadata": {
    "scrolled": false
   },
   "outputs": [
    {
     "data": {
      "text/plain": [
       "<Figure size 1080x576 with 0 Axes>"
      ]
     },
     "metadata": {},
     "output_type": "display_data"
    },
    {
     "data": {
      "image/png": "[encoded data removed]",
      "text/plain": [
       "<Figure size 432x288 with 1 Axes>"
      ]
     },
     "metadata": {
      "needs_background": "light"
     },
     "output_type": "display_data"
    },
    {
     "data": {
      "text/plain": [
       "[('F statistic', 0.9663439591468717), ('p-value', 0.949358303484672)]"
      ]
     },
     "execution_count": 46,
     "metadata": {},
     "output_type": "execute_result"
    }
   ],
   "source": [
    "predictors = df3.drop(['price','id'], axis=1)\n",
    "predictors_int = sm.add_constant(predictors)\n",
    "\n",
    "model = sm.OLS(df3['price'],predictors_int.astype(float)).fit()\n",
    "model.summary()\n",
    "\n",
    "plt.show()\n",
    "fig = plt.figure(figsize=(15,8))\n",
    "# fig = sm.graphics.plot_regress_exog(model, val, fig=fig)\n",
    "fig = sm.graphics.qqplot(model.resid, dist=stats.norm, line='45', fit=True)\n",
    "    \n",
    "plt.show()\n",
    "\n",
    "name = ['F statistic', 'p-value']\n",
    "test = sms.het_goldfeldquandt(model.resid, model.model.exog)\n",
    "list(zip(name, test))"
   ]
  },
  {
   "cell_type": "markdown",
   "metadata": {},
   "source": [
    "Since both the qq-plot does't see that good I will first drop zipcodes columns with small values since that can throw off the predictions. I will also get rid of the zipcodes having high p-values."
   ]
  },
  {
   "cell_type": "code",
   "execution_count": 47,
   "metadata": {
    "scrolled": false
   },
   "outputs": [
    {
     "data": {
      "text/plain": [
       "98112    268\n",
       "98168    264\n",
       "98107    264\n",
       "98136    263\n",
       "98055    260\n",
       "98178    258\n",
       "98177    254\n",
       "98030    253\n",
       "98166    250\n",
       "98022    233\n",
       "98105    229\n",
       "98045    218\n",
       "98002    197\n",
       "98077    196\n",
       "98011    194\n",
       "98019    190\n",
       "98108    185\n",
       "98119    184\n",
       "98005    168\n",
       "98007    139\n",
       "98188    135\n",
       "98014    123\n",
       "98032    123\n",
       "98070    116\n",
       "98109    109\n",
       "98102    104\n",
       "98010     99\n",
       "98024     79\n",
       "98148     56\n",
       "98039     49\n",
       "Name: zipcode, dtype: int64"
      ]
     },
     "execution_count": 47,
     "metadata": {},
     "output_type": "execute_result"
    }
   ],
   "source": [
    "df['zipcode'].value_counts().tail(30)"
   ]
  },
  {
   "cell_type": "code",
   "execution_count": 48,
   "metadata": {},
   "outputs": [],
   "source": [
    "df4 =df3.copy()\n",
    "df4.drop(['zip_98039', 'zip_98148', 'zip_98024', 'zip_98010', 'zip_98102', 'zip_98109', 'zip_98070', 'zip_98045', 'zip_98032', 'zip_98010', 'zip_98188', 'zip_98007','zip_98019',\n",
    "          'zip_98106', 'zip_98108', 'zip_98146', 'zip_98019', 'zip_98011', 'zip_98077', 'zip_98002' ], axis=1, inplace=True)"
   ]
  },
  {
   "cell_type": "markdown",
   "metadata": {},
   "source": [
    "Since the purpose of this model is for inference, I do not want to transforms or scale the data."
   ]
  },
  {
   "cell_type": "markdown",
   "metadata": {},
   "source": [
    "# Final Model"
   ]
  },
  {
   "cell_type": "code",
   "execution_count": 49,
   "metadata": {
    "scrolled": false
   },
   "outputs": [
    {
     "data": {
      "text/html": [
       "<table class=\"simpletable\">\n",
       "<caption>OLS Regression Results</caption>\n",
       "<tr>\n",
       "  <th>Dep. Variable:</th>          <td>price</td>      <th>  R-squared:         </th>  <td>   0.780</td>  \n",
       "</tr>\n",
       "<tr>\n",
       "  <th>Model:</th>                   <td>OLS</td>       <th>  Adj. R-squared:    </th>  <td>   0.779</td>  \n",
       "</tr>\n",
       "<tr>\n",
       "  <th>Method:</th>             <td>Least Squares</td>  <th>  F-statistic:       </th>  <td>   1022.</td>  \n",
       "</tr>\n",
       "<tr>\n",
       "  <th>Date:</th>             <td>Thu, 05 Nov 2020</td> <th>  Prob (F-statistic):</th>   <td>  0.00</td>   \n",
       "</tr>\n",
       "<tr>\n",
       "  <th>Time:</th>                 <td>15:39:53</td>     <th>  Log-Likelihood:    </th> <td>-2.3713e+05</td>\n",
       "</tr>\n",
       "<tr>\n",
       "  <th>No. Observations:</th>      <td> 18496</td>      <th>  AIC:               </th>  <td>4.744e+05</td> \n",
       "</tr>\n",
       "<tr>\n",
       "  <th>Df Residuals:</th>          <td> 18431</td>      <th>  BIC:               </th>  <td>4.749e+05</td> \n",
       "</tr>\n",
       "<tr>\n",
       "  <th>Df Model:</th>              <td>    64</td>      <th>                     </th>      <td> </td>     \n",
       "</tr>\n",
       "<tr>\n",
       "  <th>Covariance Type:</th>      <td>nonrobust</td>    <th>                     </th>      <td> </td>     \n",
       "</tr>\n",
       "</table>\n",
       "<table class=\"simpletable\">\n",
       "<tr>\n",
       "        <td></td>           <th>coef</th>     <th>std err</th>      <th>t</th>      <th>P>|t|</th>  <th>[0.025</th>    <th>0.975]</th>  \n",
       "</tr>\n",
       "<tr>\n",
       "  <th>const</th>         <td>-4.156e+07</td> <td> 2.86e+06</td> <td>  -14.531</td> <td> 0.000</td> <td>-4.72e+07</td> <td> -3.6e+07</td>\n",
       "</tr>\n",
       "<tr>\n",
       "  <th>bedrooms</th>      <td>-6811.2821</td> <td> 1100.645</td> <td>   -6.188</td> <td> 0.000</td> <td>-8968.648</td> <td>-4653.916</td>\n",
       "</tr>\n",
       "<tr>\n",
       "  <th>bathrooms</th>     <td> 1.562e+04</td> <td> 1725.073</td> <td>    9.056</td> <td> 0.000</td> <td> 1.22e+04</td> <td>  1.9e+04</td>\n",
       "</tr>\n",
       "<tr>\n",
       "  <th>sqft_living</th>   <td>   96.3578</td> <td>    1.962</td> <td>   49.113</td> <td> 0.000</td> <td>   92.512</td> <td>  100.203</td>\n",
       "</tr>\n",
       "<tr>\n",
       "  <th>floors</th>        <td> 4421.9039</td> <td> 1838.930</td> <td>    2.405</td> <td> 0.016</td> <td>  817.431</td> <td> 8026.377</td>\n",
       "</tr>\n",
       "<tr>\n",
       "  <th>waterfront</th>    <td> 1.727e+05</td> <td> 1.45e+04</td> <td>   11.891</td> <td> 0.000</td> <td> 1.44e+05</td> <td> 2.01e+05</td>\n",
       "</tr>\n",
       "<tr>\n",
       "  <th>view</th>          <td> 3.055e+04</td> <td> 1203.509</td> <td>   25.383</td> <td> 0.000</td> <td> 2.82e+04</td> <td> 3.29e+04</td>\n",
       "</tr>\n",
       "<tr>\n",
       "  <th>condition</th>     <td> 2.119e+04</td> <td> 1165.447</td> <td>   18.184</td> <td> 0.000</td> <td> 1.89e+04</td> <td> 2.35e+04</td>\n",
       "</tr>\n",
       "<tr>\n",
       "  <th>grade</th>         <td> 5.454e+04</td> <td> 1258.734</td> <td>   43.332</td> <td> 0.000</td> <td> 5.21e+04</td> <td>  5.7e+04</td>\n",
       "</tr>\n",
       "<tr>\n",
       "  <th>basement</th>      <td>-1.155e+04</td> <td> 1693.177</td> <td>   -6.823</td> <td> 0.000</td> <td>-1.49e+04</td> <td>-8234.504</td>\n",
       "</tr>\n",
       "<tr>\n",
       "  <th>yr_built</th>      <td> -937.4130</td> <td>   38.767</td> <td>  -24.181</td> <td> 0.000</td> <td>-1013.399</td> <td> -861.427</td>\n",
       "</tr>\n",
       "<tr>\n",
       "  <th>renovated</th>     <td> 2.965e+04</td> <td> 4069.087</td> <td>    7.286</td> <td> 0.000</td> <td> 2.17e+04</td> <td> 3.76e+04</td>\n",
       "</tr>\n",
       "<tr>\n",
       "  <th>sqft_living15</th> <td>   40.9522</td> <td>    1.976</td> <td>   20.725</td> <td> 0.000</td> <td>   37.079</td> <td>   44.825</td>\n",
       "</tr>\n",
       "<tr>\n",
       "  <th>year_sold</th>     <td> 2.138e+04</td> <td> 1419.060</td> <td>   15.064</td> <td> 0.000</td> <td> 1.86e+04</td> <td> 2.42e+04</td>\n",
       "</tr>\n",
       "<tr>\n",
       "  <th>zip_98003</th>     <td>-1.112e+05</td> <td> 5850.120</td> <td>  -19.004</td> <td> 0.000</td> <td>-1.23e+05</td> <td>-9.97e+04</td>\n",
       "</tr>\n",
       "<tr>\n",
       "  <th>zip_98004</th>     <td> 3.915e+05</td> <td> 7711.769</td> <td>   50.766</td> <td> 0.000</td> <td> 3.76e+05</td> <td> 4.07e+05</td>\n",
       "</tr>\n",
       "<tr>\n",
       "  <th>zip_98005</th>     <td> 2.125e+05</td> <td> 8022.935</td> <td>   26.484</td> <td> 0.000</td> <td> 1.97e+05</td> <td> 2.28e+05</td>\n",
       "</tr>\n",
       "<tr>\n",
       "  <th>zip_98006</th>     <td>  1.47e+05</td> <td> 5341.782</td> <td>   27.512</td> <td> 0.000</td> <td> 1.36e+05</td> <td> 1.57e+05</td>\n",
       "</tr>\n",
       "<tr>\n",
       "  <th>zip_98008</th>     <td> 1.257e+05</td> <td> 5891.389</td> <td>   21.331</td> <td> 0.000</td> <td> 1.14e+05</td> <td> 1.37e+05</td>\n",
       "</tr>\n",
       "<tr>\n",
       "  <th>zip_98014</th>     <td> 2.207e+04</td> <td> 9109.140</td> <td>    2.423</td> <td> 0.015</td> <td> 4216.242</td> <td> 3.99e+04</td>\n",
       "</tr>\n",
       "<tr>\n",
       "  <th>zip_98022</th>     <td>-9.175e+04</td> <td> 6343.322</td> <td>  -14.465</td> <td> 0.000</td> <td>-1.04e+05</td> <td>-7.93e+04</td>\n",
       "</tr>\n",
       "<tr>\n",
       "  <th>zip_98023</th>     <td>-1.273e+05</td> <td> 4534.723</td> <td>  -28.069</td> <td> 0.000</td> <td>-1.36e+05</td> <td>-1.18e+05</td>\n",
       "</tr>\n",
       "<tr>\n",
       "  <th>zip_98027</th>     <td> 7.747e+04</td> <td> 5348.539</td> <td>   14.484</td> <td> 0.000</td> <td>  6.7e+04</td> <td>  8.8e+04</td>\n",
       "</tr>\n",
       "<tr>\n",
       "  <th>zip_98028</th>     <td> 1.862e+04</td> <td> 5758.020</td> <td>    3.234</td> <td> 0.001</td> <td> 7336.856</td> <td> 2.99e+04</td>\n",
       "</tr>\n",
       "<tr>\n",
       "  <th>zip_98029</th>     <td> 1.124e+05</td> <td> 5655.603</td> <td>   19.880</td> <td> 0.000</td> <td> 1.01e+05</td> <td> 1.24e+05</td>\n",
       "</tr>\n",
       "<tr>\n",
       "  <th>zip_98030</th>     <td> -1.01e+05</td> <td> 6023.491</td> <td>  -16.764</td> <td> 0.000</td> <td>-1.13e+05</td> <td>-8.92e+04</td>\n",
       "</tr>\n",
       "<tr>\n",
       "  <th>zip_98031</th>     <td>-9.642e+04</td> <td> 5821.658</td> <td>  -16.562</td> <td> 0.000</td> <td>-1.08e+05</td> <td> -8.5e+04</td>\n",
       "</tr>\n",
       "<tr>\n",
       "  <th>zip_98033</th>     <td> 2.009e+05</td> <td> 5222.176</td> <td>   38.463</td> <td> 0.000</td> <td> 1.91e+05</td> <td> 2.11e+05</td>\n",
       "</tr>\n",
       "<tr>\n",
       "  <th>zip_98034</th>     <td> 7.454e+04</td> <td> 4394.240</td> <td>   16.964</td> <td> 0.000</td> <td> 6.59e+04</td> <td> 8.32e+04</td>\n",
       "</tr>\n",
       "<tr>\n",
       "  <th>zip_98038</th>     <td> -6.36e+04</td> <td> 4260.783</td> <td>  -14.927</td> <td> 0.000</td> <td> -7.2e+04</td> <td>-5.52e+04</td>\n",
       "</tr>\n",
       "<tr>\n",
       "  <th>zip_98040</th>     <td> 3.018e+05</td> <td> 8005.458</td> <td>   37.693</td> <td> 0.000</td> <td> 2.86e+05</td> <td> 3.17e+05</td>\n",
       "</tr>\n",
       "<tr>\n",
       "  <th>zip_98042</th>     <td> -9.42e+04</td> <td> 4344.961</td> <td>  -21.680</td> <td> 0.000</td> <td>-1.03e+05</td> <td>-8.57e+04</td>\n",
       "</tr>\n",
       "<tr>\n",
       "  <th>zip_98052</th>     <td> 1.399e+05</td> <td> 4453.136</td> <td>   31.417</td> <td> 0.000</td> <td> 1.31e+05</td> <td> 1.49e+05</td>\n",
       "</tr>\n",
       "<tr>\n",
       "  <th>zip_98053</th>     <td> 1.398e+05</td> <td> 5469.668</td> <td>   25.560</td> <td> 0.000</td> <td> 1.29e+05</td> <td> 1.51e+05</td>\n",
       "</tr>\n",
       "<tr>\n",
       "  <th>zip_98055</th>     <td>-7.503e+04</td> <td> 6094.893</td> <td>  -12.311</td> <td> 0.000</td> <td> -8.7e+04</td> <td>-6.31e+04</td>\n",
       "</tr>\n",
       "<tr>\n",
       "  <th>zip_98056</th>     <td>-1.083e+04</td> <td> 5122.000</td> <td>   -2.115</td> <td> 0.034</td> <td>-2.09e+04</td> <td> -791.764</td>\n",
       "</tr>\n",
       "<tr>\n",
       "  <th>zip_98058</th>     <td>-7.109e+04</td> <td> 4711.514</td> <td>  -15.089</td> <td> 0.000</td> <td>-8.03e+04</td> <td>-6.19e+04</td>\n",
       "</tr>\n",
       "<tr>\n",
       "  <th>zip_98059</th>     <td>-1.447e+04</td> <td> 4861.753</td> <td>   -2.976</td> <td> 0.003</td> <td> -2.4e+04</td> <td>-4937.647</td>\n",
       "</tr>\n",
       "<tr>\n",
       "  <th>zip_98065</th>     <td> 2.386e+04</td> <td> 5971.903</td> <td>    3.995</td> <td> 0.000</td> <td> 1.22e+04</td> <td> 3.56e+04</td>\n",
       "</tr>\n",
       "<tr>\n",
       "  <th>zip_98072</th>     <td> 6.107e+04</td> <td> 6206.694</td> <td>    9.840</td> <td> 0.000</td> <td> 4.89e+04</td> <td> 7.32e+04</td>\n",
       "</tr>\n",
       "<tr>\n",
       "  <th>zip_98074</th>     <td> 1.084e+05</td> <td> 5393.465</td> <td>   20.101</td> <td> 0.000</td> <td> 9.78e+04</td> <td> 1.19e+05</td>\n",
       "</tr>\n",
       "<tr>\n",
       "  <th>zip_98075</th>     <td> 1.251e+05</td> <td> 6748.062</td> <td>   18.544</td> <td> 0.000</td> <td> 1.12e+05</td> <td> 1.38e+05</td>\n",
       "</tr>\n",
       "<tr>\n",
       "  <th>zip_98092</th>     <td>-1.192e+05</td> <td> 5258.315</td> <td>  -22.661</td> <td> 0.000</td> <td>-1.29e+05</td> <td>-1.09e+05</td>\n",
       "</tr>\n",
       "<tr>\n",
       "  <th>zip_98103</th>     <td> 1.861e+05</td> <td> 4407.241</td> <td>   42.235</td> <td> 0.000</td> <td> 1.78e+05</td> <td> 1.95e+05</td>\n",
       "</tr>\n",
       "<tr>\n",
       "  <th>zip_98105</th>     <td> 2.401e+05</td> <td> 7323.907</td> <td>   32.779</td> <td> 0.000</td> <td> 2.26e+05</td> <td> 2.54e+05</td>\n",
       "</tr>\n",
       "<tr>\n",
       "  <th>zip_98107</th>     <td> 1.852e+05</td> <td> 6101.955</td> <td>   30.348</td> <td> 0.000</td> <td> 1.73e+05</td> <td> 1.97e+05</td>\n",
       "</tr>\n",
       "<tr>\n",
       "  <th>zip_98112</th>     <td> 2.854e+05</td> <td> 7588.822</td> <td>   37.614</td> <td> 0.000</td> <td> 2.71e+05</td> <td>    3e+05</td>\n",
       "</tr>\n",
       "<tr>\n",
       "  <th>zip_98115</th>     <td> 1.875e+05</td> <td> 4375.499</td> <td>   42.854</td> <td> 0.000</td> <td> 1.79e+05</td> <td> 1.96e+05</td>\n",
       "</tr>\n",
       "<tr>\n",
       "  <th>zip_98116</th>     <td> 1.664e+05</td> <td> 5618.446</td> <td>   29.614</td> <td> 0.000</td> <td> 1.55e+05</td> <td> 1.77e+05</td>\n",
       "</tr>\n",
       "<tr>\n",
       "  <th>zip_98117</th>     <td>  1.82e+05</td> <td> 4502.981</td> <td>   40.418</td> <td> 0.000</td> <td> 1.73e+05</td> <td> 1.91e+05</td>\n",
       "</tr>\n",
       "<tr>\n",
       "  <th>zip_98118</th>     <td> 4.003e+04</td> <td> 4622.834</td> <td>    8.659</td> <td> 0.000</td> <td>  3.1e+04</td> <td> 4.91e+04</td>\n",
       "</tr>\n",
       "<tr>\n",
       "  <th>zip_98119</th>     <td> 2.623e+05</td> <td> 7842.167</td> <td>   33.445</td> <td> 0.000</td> <td> 2.47e+05</td> <td> 2.78e+05</td>\n",
       "</tr>\n",
       "<tr>\n",
       "  <th>zip_98122</th>     <td> 1.727e+05</td> <td> 6087.279</td> <td>   28.364</td> <td> 0.000</td> <td> 1.61e+05</td> <td> 1.85e+05</td>\n",
       "</tr>\n",
       "<tr>\n",
       "  <th>zip_98125</th>     <td> 7.515e+04</td> <td> 4957.247</td> <td>   15.159</td> <td> 0.000</td> <td> 6.54e+04</td> <td> 8.49e+04</td>\n",
       "</tr>\n",
       "<tr>\n",
       "  <th>zip_98126</th>     <td> 7.316e+04</td> <td> 5302.049</td> <td>   13.799</td> <td> 0.000</td> <td> 6.28e+04</td> <td> 8.36e+04</td>\n",
       "</tr>\n",
       "<tr>\n",
       "  <th>zip_98133</th>     <td> 3.412e+04</td> <td> 4503.436</td> <td>    7.576</td> <td> 0.000</td> <td> 2.53e+04</td> <td> 4.29e+04</td>\n",
       "</tr>\n",
       "<tr>\n",
       "  <th>zip_98136</th>     <td> 1.273e+05</td> <td> 6087.556</td> <td>   20.909</td> <td> 0.000</td> <td> 1.15e+05</td> <td> 1.39e+05</td>\n",
       "</tr>\n",
       "<tr>\n",
       "  <th>zip_98144</th>     <td> 1.075e+05</td> <td> 5608.981</td> <td>   19.168</td> <td> 0.000</td> <td> 9.65e+04</td> <td> 1.19e+05</td>\n",
       "</tr>\n",
       "<tr>\n",
       "  <th>zip_98155</th>     <td> 2.605e+04</td> <td> 4694.556</td> <td>    5.549</td> <td> 0.000</td> <td> 1.68e+04</td> <td> 3.53e+04</td>\n",
       "</tr>\n",
       "<tr>\n",
       "  <th>zip_98166</th>     <td>-1.681e+04</td> <td> 6287.728</td> <td>   -2.673</td> <td> 0.008</td> <td>-2.91e+04</td> <td>-4481.565</td>\n",
       "</tr>\n",
       "<tr>\n",
       "  <th>zip_98168</th>     <td>-6.142e+04</td> <td> 6025.026</td> <td>  -10.194</td> <td> 0.000</td> <td>-7.32e+04</td> <td>-4.96e+04</td>\n",
       "</tr>\n",
       "<tr>\n",
       "  <th>zip_98177</th>     <td>  8.79e+04</td> <td> 6410.734</td> <td>   13.711</td> <td> 0.000</td> <td> 7.53e+04</td> <td>    1e+05</td>\n",
       "</tr>\n",
       "<tr>\n",
       "  <th>zip_98178</th>     <td>-6.314e+04</td> <td> 6027.118</td> <td>  -10.475</td> <td> 0.000</td> <td>-7.49e+04</td> <td>-5.13e+04</td>\n",
       "</tr>\n",
       "<tr>\n",
       "  <th>zip_98198</th>     <td>-9.145e+04</td> <td> 5855.170</td> <td>  -15.618</td> <td> 0.000</td> <td>-1.03e+05</td> <td>   -8e+04</td>\n",
       "</tr>\n",
       "<tr>\n",
       "  <th>zip_98199</th>     <td> 2.246e+05</td> <td> 6042.406</td> <td>   37.172</td> <td> 0.000</td> <td> 2.13e+05</td> <td> 2.36e+05</td>\n",
       "</tr>\n",
       "</table>\n",
       "<table class=\"simpletable\">\n",
       "<tr>\n",
       "  <th>Omnibus:</th>       <td>2739.607</td> <th>  Durbin-Watson:     </th> <td>   1.998</td>\n",
       "</tr>\n",
       "<tr>\n",
       "  <th>Prob(Omnibus):</th>  <td> 0.000</td>  <th>  Jarque-Bera (JB):  </th> <td>9926.109</td>\n",
       "</tr>\n",
       "<tr>\n",
       "  <th>Skew:</th>           <td> 0.725</td>  <th>  Prob(JB):          </th> <td>    0.00</td>\n",
       "</tr>\n",
       "<tr>\n",
       "  <th>Kurtosis:</th>       <td> 6.283</td>  <th>  Cond. No.          </th> <td>1.70e+07</td>\n",
       "</tr>\n",
       "</table><br/><br/>Warnings:<br/>[1] Standard Errors assume that the covariance matrix of the errors is correctly specified.<br/>[2] The condition number is large, 1.7e+07. This might indicate that there are<br/>strong multicollinearity or other numerical problems."
      ],
      "text/plain": [
       "<class 'statsmodels.iolib.summary.Summary'>\n",
       "\"\"\"\n",
       "                            OLS Regression Results                            \n",
       "==============================================================================\n",
       "Dep. Variable:                  price   R-squared:                       0.780\n",
       "Model:                            OLS   Adj. R-squared:                  0.779\n",
       "Method:                 Least Squares   F-statistic:                     1022.\n",
       "Date:                Thu, 05 Nov 2020   Prob (F-statistic):               0.00\n",
       "Time:                        15:39:53   Log-Likelihood:            -2.3713e+05\n",
       "No. Observations:               18496   AIC:                         4.744e+05\n",
       "Df Residuals:                   18431   BIC:                         4.749e+05\n",
       "Df Model:                          64                                         \n",
       "Covariance Type:            nonrobust                                         \n",
       "=================================================================================\n",
       "                    coef    std err          t      P>|t|      [0.025      0.975]\n",
       "---------------------------------------------------------------------------------\n",
       "const         -4.156e+07   2.86e+06    -14.531      0.000   -4.72e+07    -3.6e+07\n",
       "bedrooms      -6811.2821   1100.645     -6.188      0.000   -8968.648   -4653.916\n",
       "bathrooms      1.562e+04   1725.073      9.056      0.000    1.22e+04     1.9e+04\n",
       "sqft_living      96.3578      1.962     49.113      0.000      92.512     100.203\n",
       "floors         4421.9039   1838.930      2.405      0.016     817.431    8026.377\n",
       "waterfront     1.727e+05   1.45e+04     11.891      0.000    1.44e+05    2.01e+05\n",
       "view           3.055e+04   1203.509     25.383      0.000    2.82e+04    3.29e+04\n",
       "condition      2.119e+04   1165.447     18.184      0.000    1.89e+04    2.35e+04\n",
       "grade          5.454e+04   1258.734     43.332      0.000    5.21e+04     5.7e+04\n",
       "basement      -1.155e+04   1693.177     -6.823      0.000   -1.49e+04   -8234.504\n",
       "yr_built       -937.4130     38.767    -24.181      0.000   -1013.399    -861.427\n",
       "renovated      2.965e+04   4069.087      7.286      0.000    2.17e+04    3.76e+04\n",
       "sqft_living15    40.9522      1.976     20.725      0.000      37.079      44.825\n",
       "year_sold      2.138e+04   1419.060     15.064      0.000    1.86e+04    2.42e+04\n",
       "zip_98003     -1.112e+05   5850.120    -19.004      0.000   -1.23e+05   -9.97e+04\n",
       "zip_98004      3.915e+05   7711.769     50.766      0.000    3.76e+05    4.07e+05\n",
       "zip_98005      2.125e+05   8022.935     26.484      0.000    1.97e+05    2.28e+05\n",
       "zip_98006       1.47e+05   5341.782     27.512      0.000    1.36e+05    1.57e+05\n",
       "zip_98008      1.257e+05   5891.389     21.331      0.000    1.14e+05    1.37e+05\n",
       "zip_98014      2.207e+04   9109.140      2.423      0.015    4216.242    3.99e+04\n",
       "zip_98022     -9.175e+04   6343.322    -14.465      0.000   -1.04e+05   -7.93e+04\n",
       "zip_98023     -1.273e+05   4534.723    -28.069      0.000   -1.36e+05   -1.18e+05\n",
       "zip_98027      7.747e+04   5348.539     14.484      0.000     6.7e+04     8.8e+04\n",
       "zip_98028      1.862e+04   5758.020      3.234      0.001    7336.856    2.99e+04\n",
       "zip_98029      1.124e+05   5655.603     19.880      0.000    1.01e+05    1.24e+05\n",
       "zip_98030      -1.01e+05   6023.491    -16.764      0.000   -1.13e+05   -8.92e+04\n",
       "zip_98031     -9.642e+04   5821.658    -16.562      0.000   -1.08e+05    -8.5e+04\n",
       "zip_98033      2.009e+05   5222.176     38.463      0.000    1.91e+05    2.11e+05\n",
       "zip_98034      7.454e+04   4394.240     16.964      0.000    6.59e+04    8.32e+04\n",
       "zip_98038      -6.36e+04   4260.783    -14.927      0.000    -7.2e+04   -5.52e+04\n",
       "zip_98040      3.018e+05   8005.458     37.693      0.000    2.86e+05    3.17e+05\n",
       "zip_98042      -9.42e+04   4344.961    -21.680      0.000   -1.03e+05   -8.57e+04\n",
       "zip_98052      1.399e+05   4453.136     31.417      0.000    1.31e+05    1.49e+05\n",
       "zip_98053      1.398e+05   5469.668     25.560      0.000    1.29e+05    1.51e+05\n",
       "zip_98055     -7.503e+04   6094.893    -12.311      0.000    -8.7e+04   -6.31e+04\n",
       "zip_98056     -1.083e+04   5122.000     -2.115      0.034   -2.09e+04    -791.764\n",
       "zip_98058     -7.109e+04   4711.514    -15.089      0.000   -8.03e+04   -6.19e+04\n",
       "zip_98059     -1.447e+04   4861.753     -2.976      0.003    -2.4e+04   -4937.647\n",
       "zip_98065      2.386e+04   5971.903      3.995      0.000    1.22e+04    3.56e+04\n",
       "zip_98072      6.107e+04   6206.694      9.840      0.000    4.89e+04    7.32e+04\n",
       "zip_98074      1.084e+05   5393.465     20.101      0.000    9.78e+04    1.19e+05\n",
       "zip_98075      1.251e+05   6748.062     18.544      0.000    1.12e+05    1.38e+05\n",
       "zip_98092     -1.192e+05   5258.315    -22.661      0.000   -1.29e+05   -1.09e+05\n",
       "zip_98103      1.861e+05   4407.241     42.235      0.000    1.78e+05    1.95e+05\n",
       "zip_98105      2.401e+05   7323.907     32.779      0.000    2.26e+05    2.54e+05\n",
       "zip_98107      1.852e+05   6101.955     30.348      0.000    1.73e+05    1.97e+05\n",
       "zip_98112      2.854e+05   7588.822     37.614      0.000    2.71e+05       3e+05\n",
       "zip_98115      1.875e+05   4375.499     42.854      0.000    1.79e+05    1.96e+05\n",
       "zip_98116      1.664e+05   5618.446     29.614      0.000    1.55e+05    1.77e+05\n",
       "zip_98117       1.82e+05   4502.981     40.418      0.000    1.73e+05    1.91e+05\n",
       "zip_98118      4.003e+04   4622.834      8.659      0.000     3.1e+04    4.91e+04\n",
       "zip_98119      2.623e+05   7842.167     33.445      0.000    2.47e+05    2.78e+05\n",
       "zip_98122      1.727e+05   6087.279     28.364      0.000    1.61e+05    1.85e+05\n",
       "zip_98125      7.515e+04   4957.247     15.159      0.000    6.54e+04    8.49e+04\n",
       "zip_98126      7.316e+04   5302.049     13.799      0.000    6.28e+04    8.36e+04\n",
       "zip_98133      3.412e+04   4503.436      7.576      0.000    2.53e+04    4.29e+04\n",
       "zip_98136      1.273e+05   6087.556     20.909      0.000    1.15e+05    1.39e+05\n",
       "zip_98144      1.075e+05   5608.981     19.168      0.000    9.65e+04    1.19e+05\n",
       "zip_98155      2.605e+04   4694.556      5.549      0.000    1.68e+04    3.53e+04\n",
       "zip_98166     -1.681e+04   6287.728     -2.673      0.008   -2.91e+04   -4481.565\n",
       "zip_98168     -6.142e+04   6025.026    -10.194      0.000   -7.32e+04   -4.96e+04\n",
       "zip_98177       8.79e+04   6410.734     13.711      0.000    7.53e+04       1e+05\n",
       "zip_98178     -6.314e+04   6027.118    -10.475      0.000   -7.49e+04   -5.13e+04\n",
       "zip_98198     -9.145e+04   5855.170    -15.618      0.000   -1.03e+05      -8e+04\n",
       "zip_98199      2.246e+05   6042.406     37.172      0.000    2.13e+05    2.36e+05\n",
       "==============================================================================\n",
       "Omnibus:                     2739.607   Durbin-Watson:                   1.998\n",
       "Prob(Omnibus):                  0.000   Jarque-Bera (JB):             9926.109\n",
       "Skew:                           0.725   Prob(JB):                         0.00\n",
       "Kurtosis:                       6.283   Cond. No.                     1.70e+07\n",
       "==============================================================================\n",
       "\n",
       "Warnings:\n",
       "[1] Standard Errors assume that the covariance matrix of the errors is correctly specified.\n",
       "[2] The condition number is large, 1.7e+07. This might indicate that there are\n",
       "strong multicollinearity or other numerical problems.\n",
       "\"\"\""
      ]
     },
     "execution_count": 49,
     "metadata": {},
     "output_type": "execute_result"
    }
   ],
   "source": [
    "predictors = df4.drop(['price','id'], axis=1)\n",
    "predictors_int = sm.add_constant(predictors)\n",
    "\n",
    "model = sm.OLS(df4['price'],predictors_int.astype(float)).fit()\n",
    "model.summary()"
   ]
  },
  {
   "cell_type": "code",
   "execution_count": 50,
   "metadata": {},
   "outputs": [
    {
     "name": "stdout",
     "output_type": "stream",
     "text": [
      "Train Mean Squarred Error:   8037878159.230583\n",
      "Test Mean Squarred Error:    7913772633.596294\n",
      "R-squared                    = 0.7782639782163268\n",
      "Mean Squared Error using CV  = 8064759560.937549\n"
     ]
    }
   ],
   "source": [
    "y = df4['price']\n",
    "X = df4.drop(['id', 'price'], axis=1)\n",
    "# Split data for testing\n",
    "X_train, X_test, y_train, y_test = train_test_split(X, y, test_size=0.2, random_state=55)\n",
    "\n",
    "# Fit the model\n",
    "linreg = LinearRegression()\n",
    "linreg.fit(X_train, y_train)\n",
    "mse = make_scorer(mean_squared_error)\n",
    "\n",
    "# Create K-fold with 10 splits\n",
    "crossvalidation = KFold(n_splits=10, shuffle=True, random_state=1)\n",
    "\n",
    "# Find R-squared and MSE\n",
    "rsquared = np.mean(cross_val_score(linreg, X, y, scoring='r2', cv=crossvalidation))\n",
    "cv_10_results = cross_val_score(linreg, X, y, cv=crossvalidation, scoring=mse)\n",
    "\n",
    "#Predict data\n",
    "y_hat_train = linreg.predict(X_train)\n",
    "y_hat_test = linreg.predict(X_test)\n",
    "#Calculate two diffrent MSE\n",
    "train_mse = mean_squared_error(y_train, y_hat_train)\n",
    "test_mse = mean_squared_error(y_test, y_hat_test)\n",
    "print('Train Mean Squarred Error:  ', train_mse)\n",
    "print('Test Mean Squarred Error:   ', test_mse)\n",
    "\n",
    "print(f'R-squared                    = {rsquared}')\n",
    "print(f'Mean Squared Error using CV  = {cv_10_results.mean()}')\n"
   ]
  },
  {
   "cell_type": "markdown",
   "metadata": {},
   "source": [
    "The R-squared and MSE of the model got worse than the fourth model but since the features violate an assumption I have no choice but to leave them out and settle for the worse scores."
   ]
  },
  {
   "cell_type": "markdown",
   "metadata": {},
   "source": [
    "# The Final Multiple Linear Regression Model\n",
    "### Steps taken to arrive at final model.\n",
    "1. Get rid of duplicates and then replace missing and placeholder values with the mode.\n",
    "2. Change columns that uses 0 as placeholder into binary values.\n",
    "3. Check for linear relationship assumption.\n",
    "4. Deal with variables having multicollinearity.\n",
    "5. Create Dummy Variables for categorical data.\n",
    "6. Remove outliers from the data.\n",
    "7. Log transform non-normal continous data and scaled with normalization method.\n",
    "8. Perform Model Fitting using both RFE and Stepwise Selection.\n",
    "9. Check distribrution of residuals for normality and heteroskedasticity."
   ]
  },
  {
   "cell_type": "markdown",
   "metadata": {},
   "source": [
    "### Interpreting the Model\n",
    "\n",
    "For the final model I have 13 continous and ordinal data variables and 51 categorical zip codes variables. From the coefficients we can infer that adding 1 bathroom increase about \\\\$15,620 dollar to the property value. 1 squarefoot is around \\\\$96 dollars. Condition and grade have a coeffient of \\\\$21,190 and \\\\$54,540 respectively. Renovated properties are typically \\\\$29,650 more expensive.\n",
    "\n",
    "The zipcodes with the highest prices are:\n",
    "\n",
    "    98004     City: Bellevue            Neighbourhood:  Bellevue Square / Downtown\n",
    "\n",
    "    98005     City: Bellevue            Neighbourhood:  Wilburton\n",
    "\n",
    "    98033     City: Kirkland            Neighbourhood:  \n",
    "\n",
    "    98040     City: Mercer Island       Neighbourhood:  \n",
    "    \n",
    "    98105     City: Seattle             Neighbourhood:  University District\n",
    "\n",
    "    98112     City: Seattle             Neighbourhood:  Mann / Central Area\n",
    "\n",
    "    98119     City: Seattle             Neighbourhood:  West Queen Anne / Queen Anne\n",
    "\n",
    "    98199     City: Seattle             Neighbourhood:  Southeast Magnolia / Magnolia"
   ]
  },
  {
   "cell_type": "code",
   "execution_count": 51,
   "metadata": {},
   "outputs": [
    {
     "data": {
      "text/plain": [
       "1033054.9850452989"
      ]
     },
     "execution_count": 51,
     "metadata": {},
     "output_type": "execute_result"
    }
   ],
   "source": [
    " max(y_hat_train)"
   ]
  },
  {
   "cell_type": "code",
   "execution_count": 52,
   "metadata": {
    "scrolled": true
   },
   "outputs": [
    {
     "data": {
      "text/plain": [
       "Text(0.5, 1.0, 'Model vs Train Set Data')"
      ]
     },
     "execution_count": 52,
     "metadata": {},
     "output_type": "execute_result"
    },
    {
     "data": {
      "image/png": "[encoded data removed]",
      "text/plain": [
       "<Figure size 1296x432 with 2 Axes>"
      ]
     },
     "metadata": {
      "needs_background": "light"
     },
     "output_type": "display_data"
    }
   ],
   "source": [
    "fig, ax = plt.subplots(1,2, figsize=(18,6))\n",
    "ax[0].scatter(y_test, y_hat_test, label='Model')\n",
    "ax[0].plot(y_test, y_test, color='red', label='Actual Data')\n",
    "ax[0].legend()\n",
    "ax[0].set_title('Model vs Test Set Data')\n",
    "\n",
    "ax[1].scatter(y_train, y_hat_train, label='Model')\n",
    "ax[1].plot(y_train, y_train, color='red', label='Actual Data')\n",
    "ax[1].legend()\n",
    "ax[1].set_title('Model vs Train Set Data')"
   ]
  },
  {
   "cell_type": "markdown",
   "metadata": {},
   "source": [
    "# Further Improvement I can make for the model.\n",
    "\n",
    "I believe the best improvement I can make to the model is to limit the number of variables and make the model simpler by grouping the zipcodes into cities or school district to get a better idea of which neighborhoods are higher priced.\n",
    "\n",
    "If the model is to be used to predict rather than for inference, I would transform and scale the data so that it performs better.\n"
   ]
  }
 ],
 "metadata": {
  "kernelspec": {
   "display_name": "Python 3",
   "language": "python",
   "name": "python3"
  },
  "language_info": {
   "codemirror_mode": {
    "name": "ipython",
    "version": 3
   },
   "file_extension": ".py",
   "mimetype": "text/x-python",
   "name": "python",
   "nbconvert_exporter": "python",
   "pygments_lexer": "ipython3",
   "version": "3.8.3"
  }
 },
 "nbformat": 4,
 "nbformat_minor": 2
}
